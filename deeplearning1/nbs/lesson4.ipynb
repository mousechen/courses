{
 "cells": [
  {
   "cell_type": "code",
   "execution_count": 1,
   "metadata": {
    "ExecuteTime": {
     "end_time": "2018-07-25T00:52:42.624426Z",
     "start_time": "2018-07-25T00:52:39.423087Z"
    }
   },
   "outputs": [
    {
     "name": "stderr",
     "output_type": "stream",
     "text": [
      "C:\\Anaconda3\\lib\\site-packages\\h5py\\__init__.py:36: FutureWarning: Conversion of the second argument of issubdtype from `float` to `np.floating` is deprecated. In future, it will be treated as `np.float64 == np.dtype(float).type`.\n",
      "  from ._conv import register_converters as _register_converters\n",
      "Using TensorFlow backend.\n"
     ]
    }
   ],
   "source": [
    "%matplotlib inline\n",
    "import imp\n",
    "import utils\n",
    "from utils import *\n",
    "from __future__ import division, print_function"
   ]
  },
  {
   "cell_type": "code",
   "execution_count": 2,
   "metadata": {
    "ExecuteTime": {
     "end_time": "2018-07-25T00:52:45.964639Z",
     "start_time": "2018-07-25T00:52:45.958631Z"
    }
   },
   "outputs": [],
   "source": [
    "#path = \"data/ml-20m/\"\n",
    "path = \"data/ml-small/\"\n",
    "model_path = path + 'models/'\n",
    "if not os.path.exists(model_path): \n",
    "    os.mkdir(model_path)\n",
    "batch_size=64"
   ]
  },
  {
   "cell_type": "markdown",
   "metadata": {
    "heading_collapsed": true
   },
   "source": [
    "## 建立数据"
   ]
  },
  {
   "cell_type": "markdown",
   "metadata": {
    "hidden": true
   },
   "source": [
    "We're working with the movielens data, which contains one rating per row, like this:\n",
    "\n",
    "使用`movielens`的数据，每一行数据包含一个用户对某部电影的评分"
   ]
  },
  {
   "cell_type": "code",
   "execution_count": 3,
   "metadata": {
    "ExecuteTime": {
     "end_time": "2018-07-25T00:59:18.534212Z",
     "start_time": "2018-07-25T00:59:18.461256Z"
    },
    "scrolled": true
   },
   "outputs": [
    {
     "data": {
      "text/html": [
       "<div>\n",
       "<style scoped>\n",
       "    .dataframe tbody tr th:only-of-type {\n",
       "        vertical-align: middle;\n",
       "    }\n",
       "\n",
       "    .dataframe tbody tr th {\n",
       "        vertical-align: top;\n",
       "    }\n",
       "\n",
       "    .dataframe thead th {\n",
       "        text-align: right;\n",
       "    }\n",
       "</style>\n",
       "<table border=\"1\" class=\"dataframe\">\n",
       "  <thead>\n",
       "    <tr style=\"text-align: right;\">\n",
       "      <th></th>\n",
       "      <th>userId</th>\n",
       "      <th>movieId</th>\n",
       "      <th>rating</th>\n",
       "      <th>timestamp</th>\n",
       "    </tr>\n",
       "  </thead>\n",
       "  <tbody>\n",
       "    <tr>\n",
       "      <th>0</th>\n",
       "      <td>1</td>\n",
       "      <td>31</td>\n",
       "      <td>2.5</td>\n",
       "      <td>1260759144</td>\n",
       "    </tr>\n",
       "    <tr>\n",
       "      <th>1</th>\n",
       "      <td>1</td>\n",
       "      <td>1029</td>\n",
       "      <td>3.0</td>\n",
       "      <td>1260759179</td>\n",
       "    </tr>\n",
       "    <tr>\n",
       "      <th>2</th>\n",
       "      <td>1</td>\n",
       "      <td>1061</td>\n",
       "      <td>3.0</td>\n",
       "      <td>1260759182</td>\n",
       "    </tr>\n",
       "    <tr>\n",
       "      <th>3</th>\n",
       "      <td>1</td>\n",
       "      <td>1129</td>\n",
       "      <td>2.0</td>\n",
       "      <td>1260759185</td>\n",
       "    </tr>\n",
       "    <tr>\n",
       "      <th>4</th>\n",
       "      <td>1</td>\n",
       "      <td>1172</td>\n",
       "      <td>4.0</td>\n",
       "      <td>1260759205</td>\n",
       "    </tr>\n",
       "  </tbody>\n",
       "</table>\n",
       "</div>"
      ],
      "text/plain": [
       "   userId  movieId  rating   timestamp\n",
       "0       1       31     2.5  1260759144\n",
       "1       1     1029     3.0  1260759179\n",
       "2       1     1061     3.0  1260759182\n",
       "3       1     1129     2.0  1260759185\n",
       "4       1     1172     4.0  1260759205"
      ]
     },
     "execution_count": 3,
     "metadata": {},
     "output_type": "execute_result"
    }
   ],
   "source": [
    "ratings = pd.read_csv(path + \"ratings.csv\")\n",
    "ratings.head()"
   ]
  },
  {
   "cell_type": "code",
   "execution_count": 4,
   "metadata": {
    "ExecuteTime": {
     "end_time": "2018-07-25T00:59:20.269790Z",
     "start_time": "2018-07-25T00:59:20.266791Z"
    }
   },
   "outputs": [
    {
     "data": {
      "text/plain": [
       "100004"
      ]
     },
     "execution_count": 4,
     "metadata": {},
     "output_type": "execute_result"
    }
   ],
   "source": [
    "len(ratings)"
   ]
  },
  {
   "cell_type": "markdown",
   "metadata": {
    "hidden": true
   },
   "source": [
    "Just for display purposes, let's read in the movie names too.\n",
    "\n",
    "为了打印出目的，需要读入电影名称"
   ]
  },
  {
   "cell_type": "code",
   "execution_count": 5,
   "metadata": {
    "ExecuteTime": {
     "end_time": "2018-07-25T00:59:25.700497Z",
     "start_time": "2018-07-25T00:59:25.683520Z"
    }
   },
   "outputs": [],
   "source": [
    "# id-》title 字典\n",
    "movie_names = pd.read_csv(path+\"movies.csv\").set_index('movieId')['title'].to_dict()"
   ]
  },
  {
   "cell_type": "code",
   "execution_count": 6,
   "metadata": {
    "ExecuteTime": {
     "end_time": "2018-07-25T00:59:27.036122Z",
     "start_time": "2018-07-25T00:59:27.019133Z"
    }
   },
   "outputs": [
    {
     "data": {
      "text/plain": [
       "{1: 'Toy Story (1995)',\n",
       " 2: 'Jumanji (1995)',\n",
       " 3: 'Grumpier Old Men (1995)',\n",
       " 4: 'Waiting to Exhale (1995)',\n",
       " 5: 'Father of the Bride Part II (1995)',\n",
       " 6: 'Heat (1995)',\n",
       " 7: 'Sabrina (1995)',\n",
       " 8: 'Tom and Huck (1995)',\n",
       " 9: 'Sudden Death (1995)',\n",
       " 10: 'GoldenEye (1995)',\n",
       " 11: 'American President, The (1995)',\n",
       " 12: 'Dracula: Dead and Loving It (1995)',\n",
       " 13: 'Balto (1995)',\n",
       " 14: 'Nixon (1995)',\n",
       " 15: 'Cutthroat Island (1995)',\n",
       " 16: 'Casino (1995)',\n",
       " 17: 'Sense and Sensibility (1995)',\n",
       " 18: 'Four Rooms (1995)',\n",
       " 19: 'Ace Ventura: When Nature Calls (1995)',\n",
       " 20: 'Money Train (1995)',\n",
       " 21: 'Get Shorty (1995)',\n",
       " 22: 'Copycat (1995)',\n",
       " 23: 'Assassins (1995)',\n",
       " 24: 'Powder (1995)',\n",
       " 25: 'Leaving Las Vegas (1995)',\n",
       " 26: 'Othello (1995)',\n",
       " 27: 'Now and Then (1995)',\n",
       " 28: 'Persuasion (1995)',\n",
       " 29: 'City of Lost Children, The (Cité des enfants perdus, La) (1995)',\n",
       " 30: 'Shanghai Triad (Yao a yao yao dao waipo qiao) (1995)',\n",
       " 31: 'Dangerous Minds (1995)',\n",
       " 32: 'Twelve Monkeys (a.k.a. 12 Monkeys) (1995)',\n",
       " 34: 'Babe (1995)',\n",
       " 35: 'Carrington (1995)',\n",
       " 36: 'Dead Man Walking (1995)',\n",
       " 37: 'Across the Sea of Time (1995)',\n",
       " 38: 'It Takes Two (1995)',\n",
       " 39: 'Clueless (1995)',\n",
       " 40: 'Cry, the Beloved Country (1995)',\n",
       " 41: 'Richard III (1995)',\n",
       " 42: 'Dead Presidents (1995)',\n",
       " 43: 'Restoration (1995)',\n",
       " 44: 'Mortal Kombat (1995)',\n",
       " 45: 'To Die For (1995)',\n",
       " 46: 'How to Make an American Quilt (1995)',\n",
       " 47: 'Seven (a.k.a. Se7en) (1995)',\n",
       " 48: 'Pocahontas (1995)',\n",
       " 49: 'When Night Is Falling (1995)',\n",
       " 50: 'Usual Suspects, The (1995)',\n",
       " 52: 'Mighty Aphrodite (1995)',\n",
       " 53: 'Lamerica (1994)',\n",
       " 54: 'Big Green, The (1995)',\n",
       " 55: 'Georgia (1995)',\n",
       " 57: 'Home for the Holidays (1995)',\n",
       " 58: 'Postman, The (Postino, Il) (1994)',\n",
       " 59: 'Confessional, The (Confessionnal, Le) (1995)',\n",
       " 60: 'Indian in the Cupboard, The (1995)',\n",
       " 61: 'Eye for an Eye (1996)',\n",
       " 62: \"Mr. Holland's Opus (1995)\",\n",
       " 63: \"Don't Be a Menace to South Central While Drinking Your Juice in the Hood (1996)\",\n",
       " 64: 'Two if by Sea (1996)',\n",
       " 65: 'Bio-Dome (1996)',\n",
       " 66: 'Lawnmower Man 2: Beyond Cyberspace (1996)',\n",
       " 68: 'French Twist (Gazon maudit) (1995)',\n",
       " 69: 'Friday (1995)',\n",
       " 70: 'From Dusk Till Dawn (1996)',\n",
       " 71: 'Fair Game (1995)',\n",
       " 72: 'Kicking and Screaming (1995)',\n",
       " 73: 'Misérables, Les (1995)',\n",
       " 74: 'Bed of Roses (1996)',\n",
       " 76: 'Screamers (1995)',\n",
       " 77: 'Nico Icon (1995)',\n",
       " 78: 'Crossing Guard, The (1995)',\n",
       " 79: 'Juror, The (1996)',\n",
       " 80: 'White Balloon, The (Badkonake sefid) (1995)',\n",
       " 81: \"Things to Do in Denver When You're Dead (1995)\",\n",
       " 82: \"Antonia's Line (Antonia) (1995)\",\n",
       " 83: 'Once Upon a Time... When We Were Colored (1995)',\n",
       " 84: 'Last Summer in the Hamptons (1995)',\n",
       " 85: 'Angels and Insects (1995)',\n",
       " 86: 'White Squall (1996)',\n",
       " 87: 'Dunston Checks In (1996)',\n",
       " 88: 'Black Sheep (1996)',\n",
       " 89: 'Nick of Time (1995)',\n",
       " 92: 'Mary Reilly (1996)',\n",
       " 93: 'Vampire in Brooklyn (1995)',\n",
       " 94: 'Beautiful Girls (1996)',\n",
       " 95: 'Broken Arrow (1996)',\n",
       " 96: 'In the Bleak Midwinter (1995)',\n",
       " 97: 'Hate (Haine, La) (1995)',\n",
       " 98: 'Shopping (1994)',\n",
       " 99: 'Heidi Fleiss: Hollywood Madam (1995)',\n",
       " 100: 'City Hall (1996)',\n",
       " 101: 'Bottle Rocket (1996)',\n",
       " 102: 'Mr. Wrong (1996)',\n",
       " 103: 'Unforgettable (1996)',\n",
       " 104: 'Happy Gilmore (1996)',\n",
       " 105: 'Bridges of Madison County, The (1995)',\n",
       " 107: 'Muppet Treasure Island (1996)',\n",
       " 108: 'Catwalk (1996)',\n",
       " 110: 'Braveheart (1995)',\n",
       " 111: 'Taxi Driver (1976)',\n",
       " 112: 'Rumble in the Bronx (Hont faan kui) (1995)',\n",
       " 113: 'Before and After (1996)',\n",
       " 114: \"Margaret's Museum (1995)\",\n",
       " 116: 'Anne Frank Remembered (1995)',\n",
       " 117: \"Young Poisoner's Handbook, The (1995)\",\n",
       " 118: 'If Lucy Fell (1996)',\n",
       " 119: 'Steal Big, Steal Little (1995)',\n",
       " 121: 'Boys of St. Vincent, The (1992)',\n",
       " 122: 'Boomerang (1992)',\n",
       " 123: 'Chungking Express (Chung Hing sam lam) (1994)',\n",
       " 124: \"Star Maker, The (Uomo delle stelle, L') (1995)\",\n",
       " 125: 'Flirting With Disaster (1996)',\n",
       " 126: 'NeverEnding Story III, The (1994)',\n",
       " 129: 'Pie in the Sky (1996)',\n",
       " 130: 'Angela (1995)',\n",
       " 131: 'Frankie Starlight (1995)',\n",
       " 132: 'Jade (1995)',\n",
       " 135: 'Down Periscope (1996)',\n",
       " 137: 'Man of the Year (1995)',\n",
       " 140: 'Up Close and Personal (1996)',\n",
       " 141: 'Birdcage, The (1996)',\n",
       " 144: 'Brothers McMullen, The (1995)',\n",
       " 145: 'Bad Boys (1995)',\n",
       " 146: 'Amazing Panda Adventure, The (1995)',\n",
       " 147: 'Basketball Diaries, The (1995)',\n",
       " 148: 'Awfully Big Adventure, An (1995)',\n",
       " 149: 'Amateur (1994)',\n",
       " 150: 'Apollo 13 (1995)',\n",
       " 151: 'Rob Roy (1995)',\n",
       " 152: 'Addiction, The (1995)',\n",
       " 153: 'Batman Forever (1995)',\n",
       " 154: 'Beauty of the Day (Belle de jour) (1967)',\n",
       " 155: 'Beyond Rangoon (1995)',\n",
       " 156: 'Blue in the Face (1995)',\n",
       " 157: 'Canadian Bacon (1995)',\n",
       " 158: 'Casper (1995)',\n",
       " 159: 'Clockers (1995)',\n",
       " 160: 'Congo (1995)',\n",
       " 161: 'Crimson Tide (1995)',\n",
       " 162: 'Crumb (1994)',\n",
       " 163: 'Desperado (1995)',\n",
       " 164: 'Devil in a Blue Dress (1995)',\n",
       " 165: 'Die Hard: With a Vengeance (1995)',\n",
       " 166: 'Doom Generation, The (1995)',\n",
       " 167: 'Feast of July (1995)',\n",
       " 168: 'First Knight (1995)',\n",
       " 169: 'Free Willy 2: The Adventure Home (1995)',\n",
       " 170: 'Hackers (1995)',\n",
       " 171: 'Jeffrey (1995)',\n",
       " 172: 'Johnny Mnemonic (1995)',\n",
       " 173: 'Judge Dredd (1995)',\n",
       " 174: 'Jury Duty (1995)',\n",
       " 175: 'Kids (1995)',\n",
       " 176: 'Living in Oblivion (1995)',\n",
       " 177: 'Lord of Illusions (1995)',\n",
       " 178: 'Love & Human Remains (1993)',\n",
       " 179: 'Mad Love (1995)',\n",
       " 180: 'Mallrats (1995)',\n",
       " 181: 'Mighty Morphin Power Rangers: The Movie (1995)',\n",
       " 183: 'Mute Witness (1994)',\n",
       " 184: 'Nadja (1994)',\n",
       " 185: 'Net, The (1995)',\n",
       " 186: 'Nine Months (1995)',\n",
       " 187: 'Party Girl (1995)',\n",
       " 188: 'Prophecy, The (1995)',\n",
       " 189: 'Reckless (1995)',\n",
       " 190: 'Safe (1995)',\n",
       " 191: 'Scarlet Letter, The (1995)',\n",
       " 193: 'Showgirls (1995)',\n",
       " 194: 'Smoke (1995)',\n",
       " 195: 'Something to Talk About (1995)',\n",
       " 196: 'Species (1995)',\n",
       " 198: 'Strange Days (1995)',\n",
       " 199: 'Umbrellas of Cherbourg, The (Parapluies de Cherbourg, Les) (1964)',\n",
       " 200: 'Tie That Binds, The (1995)',\n",
       " 201: 'Three Wishes (1995)',\n",
       " 202: 'Total Eclipse (1995)',\n",
       " 203: 'To Wong Foo, Thanks for Everything! Julie Newmar (1995)',\n",
       " 204: 'Under Siege 2: Dark Territory (1995)',\n",
       " 205: 'Unstrung Heroes (1995)',\n",
       " 206: 'Unzipped (1995)',\n",
       " 207: 'Walk in the Clouds, A (1995)',\n",
       " 208: 'Waterworld (1995)',\n",
       " 209: \"White Man's Burden (1995)\",\n",
       " 211: 'Browning Version, The (1994)',\n",
       " 213: 'Burnt by the Sun (Utomlyonnye solntsem) (1994)',\n",
       " 214: 'Before the Rain (Pred dozhdot) (1994)',\n",
       " 215: 'Before Sunrise (1995)',\n",
       " 216: 'Billy Madison (1995)',\n",
       " 217: 'Babysitter, The (1995)',\n",
       " 218: 'Boys on the Side (1995)',\n",
       " 219: 'Cure, The (1995)',\n",
       " 220: 'Castle Freak (1995)',\n",
       " 222: 'Circle of Friends (1995)',\n",
       " 223: 'Clerks (1994)',\n",
       " 224: 'Don Juan DeMarco (1995)',\n",
       " 225: 'Disclosure (1994)',\n",
       " 227: 'Drop Zone (1994)',\n",
       " 228: 'Destiny Turns on the Radio (1995)',\n",
       " 229: 'Death and the Maiden (1994)',\n",
       " 230: 'Dolores Claiborne (1995)',\n",
       " 231: 'Dumb & Dumber (Dumb and Dumber) (1994)',\n",
       " 232: 'Eat Drink Man Woman (Yin shi nan nu) (1994)',\n",
       " 233: 'Exotica (1994)',\n",
       " 234: 'Exit to Eden (1994)',\n",
       " 235: 'Ed Wood (1994)',\n",
       " 236: 'French Kiss (1995)',\n",
       " 237: 'Forget Paris (1995)',\n",
       " 238: 'Far From Home: The Adventures of Yellow Dog (1995)',\n",
       " 239: 'Goofy Movie, A (1995)',\n",
       " 240: 'Hideaway (1995)',\n",
       " 241: 'Fluke (1995)',\n",
       " 242: 'Farinelli: il castrato (1994)',\n",
       " 243: 'Gordy (1995)',\n",
       " 244: 'Gumby: The Movie (1995)',\n",
       " 245: 'The Glass Shield (1994)',\n",
       " 246: 'Hoop Dreams (1994)',\n",
       " 247: 'Heavenly Creatures (1994)',\n",
       " 248: 'Houseguest (1994)',\n",
       " 249: 'Immortal Beloved (1994)',\n",
       " 250: 'Heavyweights (Heavy Weights) (1995)',\n",
       " 251: 'Hunted, The (1995)',\n",
       " 252: 'I.Q. (1994)',\n",
       " 253: 'Interview with the Vampire: The Vampire Chronicles (1994)',\n",
       " 254: 'Jefferson in Paris (1995)',\n",
       " 255: 'Jerky Boys, The (1995)',\n",
       " 256: 'Junior (1994)',\n",
       " 257: 'Just Cause (1995)',\n",
       " 258: \"Kid in King Arthur's Court, A (1995)\",\n",
       " 259: 'Kiss of Death (1995)',\n",
       " 260: 'Star Wars: Episode IV - A New Hope (1977)',\n",
       " 261: 'Little Women (1994)',\n",
       " 262: 'Little Princess, A (1995)',\n",
       " 263: 'Ladybird Ladybird (1994)',\n",
       " 264: \"Enfer, L' (1994)\",\n",
       " 265: 'Like Water for Chocolate (Como agua para chocolate) (1992)',\n",
       " 266: 'Legends of the Fall (1994)',\n",
       " 267: 'Major Payne (1995)',\n",
       " 268: 'Little Odessa (1994)',\n",
       " 269: 'My Crazy Life (Mi vida loca) (1993)',\n",
       " 270: 'Love Affair (1994)',\n",
       " 271: 'Losing Isaiah (1995)',\n",
       " 272: 'Madness of King George, The (1994)',\n",
       " 273: \"Mary Shelley's Frankenstein (Frankenstein) (1994)\",\n",
       " 274: 'Man of the House (1995)',\n",
       " 275: 'Mixed Nuts (1994)',\n",
       " 276: 'Milk Money (1994)',\n",
       " 277: 'Miracle on 34th Street (1994)',\n",
       " 278: 'Miami Rhapsody (1995)',\n",
       " 279: 'My Family (1995)',\n",
       " 280: 'Murder in the First (1995)',\n",
       " 281: \"Nobody's Fool (1994)\",\n",
       " 282: 'Nell (1994)',\n",
       " 283: 'New Jersey Drive (1995)',\n",
       " 285: 'Beyond Bedlam (1993)',\n",
       " 287: 'Nina Takes a Lover (1994)',\n",
       " 288: 'Natural Born Killers (1994)',\n",
       " 289: 'Only You (1994)',\n",
       " 290: 'Once Were Warriors (1994)',\n",
       " 291: 'Poison Ivy II (1996)',\n",
       " 292: 'Outbreak (1995)',\n",
       " 293: 'Léon: The Professional (a.k.a. The Professional) (Léon) (1994)',\n",
       " 294: 'Perez Family, The (1995)',\n",
       " 295: \"Pyromaniac's Love Story, A (1995)\",\n",
       " 296: 'Pulp Fiction (1994)',\n",
       " 299: 'Priest (1994)',\n",
       " 300: 'Quiz Show (1994)',\n",
       " 301: 'Picture Bride (Bijo photo) (1994)',\n",
       " 302: 'Queen Margot (Reine Margot, La) (1994)',\n",
       " 303: 'Quick and the Dead, The (1995)',\n",
       " 304: 'Roommates (1995)',\n",
       " 305: 'Ready to Wear (Pret-A-Porter) (1994)',\n",
       " 306: 'Three Colors: Red (Trois couleurs: Rouge) (1994)',\n",
       " 307: 'Three Colors: Blue (Trois couleurs: Bleu) (1993)',\n",
       " 308: 'Three Colors: White (Trzy kolory: Bialy) (1994)',\n",
       " 309: 'Red Firecracker, Green Firecracker (Pao Da Shuang Deng) (1994)',\n",
       " 312: 'Stuart Saves His Family (1995)',\n",
       " 313: 'Swan Princess, The (1994)',\n",
       " 314: 'Secret of Roan Inish, The (1994)',\n",
       " 315: 'Specialist, The (1994)',\n",
       " 316: 'Stargate (1994)',\n",
       " 317: 'Santa Clause, The (1994)',\n",
       " 318: 'Shawshank Redemption, The (1994)',\n",
       " 319: 'Shallow Grave (1994)',\n",
       " 320: 'Suture (1993)',\n",
       " 321: 'Strawberry and Chocolate (Fresa y chocolate) (1993)',\n",
       " 322: 'Swimming with Sharks (1995)',\n",
       " 324: 'Sum of Us, The (1994)',\n",
       " 325: \"National Lampoon's Senior Trip (1995)\",\n",
       " 326: 'To Live (Huozhe) (1994)',\n",
       " 327: 'Tank Girl (1995)',\n",
       " 328: 'Tales from the Crypt Presents: Demon Knight (1995)',\n",
       " 329: 'Star Trek: Generations (1994)',\n",
       " 330: 'Tales from the Hood (1995)',\n",
       " 331: 'Tom & Viv (1994)',\n",
       " 332: 'Village of the Damned (1995)',\n",
       " 333: 'Tommy Boy (1995)',\n",
       " 334: 'Vanya on 42nd Street (1994)',\n",
       " 335: 'Underneath (1995)',\n",
       " 336: 'Walking Dead, The (1995)',\n",
       " 337: \"What's Eating Gilbert Grape (1993)\",\n",
       " 338: 'Virtuosity (1995)',\n",
       " 339: 'While You Were Sleeping (1995)',\n",
       " 340: 'War, The (1994)',\n",
       " 341: 'Double Happiness (1994)',\n",
       " 342: \"Muriel's Wedding (1994)\",\n",
       " 343: 'Baby-Sitters Club, The (1995)',\n",
       " 344: 'Ace Ventura: Pet Detective (1994)',\n",
       " 345: 'Adventures of Priscilla, Queen of the Desert, The (1994)',\n",
       " 346: 'Backbeat (1993)',\n",
       " 347: 'Bitter Moon (1992)',\n",
       " 348: 'Bullets Over Broadway (1994)',\n",
       " 349: 'Clear and Present Danger (1994)',\n",
       " 350: 'Client, The (1994)',\n",
       " 351: 'Corrina, Corrina (1994)',\n",
       " 352: 'Crooklyn (1994)',\n",
       " 353: 'Crow, The (1994)',\n",
       " 354: 'Cobb (1994)',\n",
       " 355: 'Flintstones, The (1994)',\n",
       " 356: 'Forrest Gump (1994)',\n",
       " 357: 'Four Weddings and a Funeral (1994)',\n",
       " 358: 'Higher Learning (1995)',\n",
       " 360: 'I Love Trouble (1994)',\n",
       " 361: 'It Could Happen to You (1994)',\n",
       " 362: 'Jungle Book, The (1994)',\n",
       " 363: 'Wonderful, Horrible Life of Leni Riefenstahl, The (Macht der Bilder: Leni Riefenstahl, Die) (1993)',\n",
       " 364: 'Lion King, The (1994)',\n",
       " 365: 'Little Buddha (1993)',\n",
       " 366: \"Wes Craven's New Nightmare (Nightmare on Elm Street Part 7: Freddy's Finale, A) (1994)\",\n",
       " 367: 'Mask, The (1994)',\n",
       " 368: 'Maverick (1994)',\n",
       " 369: 'Mrs. Parker and the Vicious Circle (1994)',\n",
       " 370: 'Naked Gun 33 1/3: The Final Insult (1994)',\n",
       " 371: 'Paper, The (1994)',\n",
       " 372: 'Reality Bites (1994)',\n",
       " 373: 'Red Rock West (1992)',\n",
       " 374: 'Richie Rich (1994)',\n",
       " 375: 'Safe Passage (1994)',\n",
       " 376: 'River Wild, The (1994)',\n",
       " 377: 'Speed (1994)',\n",
       " 378: 'Speechless (1994)',\n",
       " 379: 'Timecop (1994)',\n",
       " 380: 'True Lies (1994)',\n",
       " 381: 'When a Man Loves a Woman (1994)',\n",
       " 382: 'Wolf (1994)',\n",
       " 383: 'Wyatt Earp (1994)',\n",
       " 384: 'Bad Company (1995)',\n",
       " 387: 'Low Down Dirty Shame, A (1994)',\n",
       " 388: 'Boys Life (1995)',\n",
       " 389: 'Colonel Chabert, Le (1994)',\n",
       " 390: 'Faster Pussycat! Kill! Kill! (1965)',\n",
       " 391: \"Jason's Lyric (1994)\",\n",
       " 392: 'Secret Adventures of Tom Thumb, The (1993)',\n",
       " 393: 'Street Fighter (1994)',\n",
       " 401: 'Mirage (1995)',\n",
       " 405: 'Highlander III: The Sorcerer (a.k.a. Highlander: The Final Dimension) (1994)',\n",
       " 407: 'In the Mouth of Madness (1995)',\n",
       " 408: '8 Seconds (1994)',\n",
       " 409: 'Above the Rim (1994)',\n",
       " 410: 'Addams Family Values (1993)',\n",
       " 412: 'Age of Innocence, The (1993)',\n",
       " 413: 'Airheads (1994)',\n",
       " 414: 'Air Up There, The (1994)',\n",
       " 415: 'Another Stakeout (1993)',\n",
       " 416: 'Bad Girls (1994)',\n",
       " 417: 'Barcelona (1994)',\n",
       " 418: 'Being Human (1993)',\n",
       " 419: 'Beverly Hillbillies, The (1993)',\n",
       " 420: 'Beverly Hills Cop III (1994)',\n",
       " 421: 'Black Beauty (1994)',\n",
       " 422: 'Blink (1994)',\n",
       " 423: 'Blown Away (1994)',\n",
       " 424: 'Blue Chips (1994)',\n",
       " 425: 'Blue Sky (1994)',\n",
       " 426: 'Body Snatchers (1993)',\n",
       " 427: 'Boxing Helena (1993)',\n",
       " 428: 'Bronx Tale, A (1993)',\n",
       " 429: 'Cabin Boy (1994)',\n",
       " 431: \"Carlito's Way (1993)\",\n",
       " 432: \"City Slickers II: The Legend of Curly's Gold (1994)\",\n",
       " 433: 'Clean Slate (1994)',\n",
       " 434: 'Cliffhanger (1993)',\n",
       " 435: 'Coneheads (1993)',\n",
       " 436: 'Color of Night (1994)',\n",
       " 437: 'Cops and Robbersons (1994)',\n",
       " 438: 'Cowboy Way, The (1994)',\n",
       " 439: 'Dangerous Game (1993)',\n",
       " 440: 'Dave (1993)',\n",
       " 441: 'Dazed and Confused (1993)',\n",
       " 442: 'Demolition Man (1993)',\n",
       " 443: 'Endless Summer 2, The (1994)',\n",
       " 444: 'Even Cowgirls Get the Blues (1993)',\n",
       " 445: 'Fatal Instinct (1993)',\n",
       " 446: 'Farewell My Concubine (Ba wang bie ji) (1993)',\n",
       " 447: 'Favor, The (1994)',\n",
       " 448: 'Fearless (1993)',\n",
       " 449: 'Fear of a Black Hat (1994)',\n",
       " 450: 'With Honors (1994)',\n",
       " 451: 'Flesh and Bone (1993)',\n",
       " 452: \"Widows' Peak (1994)\",\n",
       " 453: 'For Love or Money (1993)',\n",
       " 454: 'Firm, The (1993)',\n",
       " 455: 'Free Willy (1993)',\n",
       " 456: 'Fresh (1994)',\n",
       " 457: 'Fugitive, The (1993)',\n",
       " 458: 'Geronimo: An American Legend (1993)',\n",
       " 459: 'Getaway, The (1994)',\n",
       " 460: 'Getting Even with Dad (1994)',\n",
       " 461: 'Go Fish (1994)',\n",
       " 463: 'Guilty as Sin (1993)',\n",
       " 464: 'Hard Target (1993)',\n",
       " 465: 'Heaven & Earth (1993)',\n",
       " 466: 'Hot Shots! Part Deux (1993)',\n",
       " 467: 'Live Nude Girls (1995)',\n",
       " 468: 'Englishman Who Went Up a Hill But Came Down a Mountain, The (1995)',\n",
       " 469: 'House of the Spirits, The (1993)',\n",
       " 470: 'House Party 3 (1994)',\n",
       " 471: 'Hudsucker Proxy, The (1994)',\n",
       " 472: \"I'll Do Anything (1994)\",\n",
       " 473: 'In the Army Now (1994)',\n",
       " 474: 'In the Line of Fire (1993)',\n",
       " 475: 'In the Name of the Father (1993)',\n",
       " 476: 'Inkwell, The (1994)',\n",
       " 477: \"What's Love Got to Do with It? (1993)\",\n",
       " 479: 'Judgment Night (1993)',\n",
       " 480: 'Jurassic Park (1993)',\n",
       " 481: 'Kalifornia (1993)',\n",
       " 482: 'Killing Zoe (1994)',\n",
       " 483: 'King of the Hill (1993)',\n",
       " 484: 'Lassie (1994)',\n",
       " 485: 'Last Action Hero (1993)',\n",
       " 486: 'Life with Mikey (1993)',\n",
       " 487: 'Lightning Jack (1994)',\n",
       " 488: 'M. Butterfly (1993)',\n",
       " 489: 'Made in America (1993)',\n",
       " 490: 'Malice (1993)',\n",
       " 491: 'Man Without a Face, The (1993)',\n",
       " 492: 'Manhattan Murder Mystery (1993)',\n",
       " 493: 'Menace II Society (1993)',\n",
       " 494: 'Executive Decision (1996)',\n",
       " 495: 'In the Realm of the Senses (Ai no corrida) (1976)',\n",
       " 496: 'What Happened Was... (1994)',\n",
       " 497: 'Much Ado About Nothing (1993)',\n",
       " 498: 'Mr. Jones (1993)',\n",
       " 499: 'Mr. Wonderful (1993)',\n",
       " 500: 'Mrs. Doubtfire (1993)',\n",
       " 501: 'Naked (1993)',\n",
       " 502: 'Next Karate Kid, The (1994)',\n",
       " 504: 'No Escape (1994)',\n",
       " 505: 'North (1994)',\n",
       " 506: 'Orlando (1992)',\n",
       " 507: 'Perfect World, A (1993)',\n",
       " 508: 'Philadelphia (1993)',\n",
       " 509: 'Piano, The (1993)',\n",
       " 510: 'Poetic Justice (1993)',\n",
       " 511: 'Program, The (1993)',\n",
       " 512: 'Puppet Masters, The (1994)',\n",
       " 513: 'Radioland Murders (1994)',\n",
       " 514: 'Ref, The (1994)',\n",
       " 515: 'Remains of the Day, The (1993)',\n",
       " 516: 'Renaissance Man (1994)',\n",
       " 517: 'Rising Sun (1993)',\n",
       " 518: 'Road to Wellville, The (1994)',\n",
       " 519: 'RoboCop 3 (1993)',\n",
       " 520: 'Robin Hood: Men in Tights (1993)',\n",
       " 521: 'Romeo Is Bleeding (1993)',\n",
       " 522: 'Romper Stomper (1992)',\n",
       " 523: 'Ruby in Paradise (1993)',\n",
       " 524: 'Rudy (1993)',\n",
       " 526: 'Savage Nights (Nuits fauves, Les) (1992)',\n",
       " 527: \"Schindler's List (1993)\",\n",
       " 528: 'Scout, The (1994)',\n",
       " 529: 'Searching for Bobby Fischer (1993)',\n",
       " 531: 'Secret Garden, The (1993)',\n",
       " 532: 'Serial Mom (1994)',\n",
       " 533: 'Shadow, The (1994)',\n",
       " 534: 'Shadowlands (1993)',\n",
       " 535: 'Short Cuts (1993)',\n",
       " 536: 'Simple Twist of Fate, A (1994)',\n",
       " 537: 'Sirens (1994)',\n",
       " 538: 'Six Degrees of Separation (1993)',\n",
       " 539: 'Sleepless in Seattle (1993)',\n",
       " 540: 'Sliver (1993)',\n",
       " 541: 'Blade Runner (1982)',\n",
       " 542: 'Son in Law (1993)',\n",
       " 543: 'So I Married an Axe Murderer (1993)',\n",
       " 544: 'Striking Distance (1993)',\n",
       " 546: 'Super Mario Bros. (1993)',\n",
       " 547: 'Surviving the Game (1994)',\n",
       " 548: 'Terminal Velocity (1994)',\n",
       " 549: 'Thirty-Two Short Films About Glenn Gould (1993)',\n",
       " 550: 'Threesome (1994)',\n",
       " 551: 'Nightmare Before Christmas, The (1993)',\n",
       " 552: 'Three Musketeers, The (1993)',\n",
       " 553: 'Tombstone (1993)',\n",
       " 554: 'Trial by Jury (1994)',\n",
       " 555: 'True Romance (1993)',\n",
       " 556: 'War Room, The (1993)',\n",
       " 558: 'Pagemaster, The (1994)',\n",
       " 559: 'Paris, France (1993)',\n",
       " 561: 'Killer (Bulletproof Heart) (1994)',\n",
       " 562: 'Welcome to the Dollhouse (1995)',\n",
       " 563: 'Germinal (1993)',\n",
       " 564: 'Chasers (1994)',\n",
       " 565: 'Cronos (1993)',\n",
       " 567: 'Kika (1993)',\n",
       " 568: 'Bhaji on the Beach (1993)',\n",
       " 569: 'Little Big League (1994)',\n",
       " 571: 'Wedding Gift, The (1994)',\n",
       " 573: 'Ciao, Professore! (Io speriamo che me la cavo) (1992)',\n",
       " 574: 'Spanking the Monkey (1994)',\n",
       " 575: 'Little Rascals, The (1994)',\n",
       " 577: 'Andre (1994)',\n",
       " 580: 'Princess Caraboo (1994)',\n",
       " 581: 'Celluloid Closet, The (1995)',\n",
       " 582: 'Métisse (Café au Lait) (1993)',\n",
       " 585: 'Brady Bunch Movie, The (1995)',\n",
       " 586: 'Home Alone (1990)',\n",
       " 587: 'Ghost (1990)',\n",
       " 588: 'Aladdin (1992)',\n",
       " 589: 'Terminator 2: Judgment Day (1991)',\n",
       " 590: 'Dances with Wolves (1990)',\n",
       " 592: 'Batman (1989)',\n",
       " 593: 'Silence of the Lambs, The (1991)',\n",
       " 594: 'Snow White and the Seven Dwarfs (1937)',\n",
       " 595: 'Beauty and the Beast (1991)',\n",
       " 596: 'Pinocchio (1940)',\n",
       " 597: 'Pretty Woman (1990)',\n",
       " 599: 'Wild Bunch, The (1969)',\n",
       " 600: 'Love and a .45 (1994)',\n",
       " 603: 'Bye Bye, Love (1995)',\n",
       " 605: 'One Fine Day (1996)',\n",
       " 606: 'Candyman: Farewell to the Flesh (1995)',\n",
       " 608: 'Fargo (1996)',\n",
       " 609: 'Homeward Bound II: Lost in San Francisco (1996)',\n",
       " 610: 'Heavy Metal (1981)',\n",
       " 611: 'Hellraiser: Bloodline (1996)',\n",
       " 612: 'Pallbearer, The (1996)',\n",
       " 613: 'Jane Eyre (1996)',\n",
       " 614: 'Loaded (1994)',\n",
       " 615: 'Bread and Chocolate (Pane e cioccolata) (1973)',\n",
       " 616: 'Aristocats, The (1970)',\n",
       " 617: 'Flower of My Secret, The (La flor de mi secreto) (1995)',\n",
       " 619: 'Ed (1996)',\n",
       " 620: 'Scream of Stone (Cerro Torre: Schrei aus Stein) (1991)',\n",
       " 621: 'My Favorite Season (1993)',\n",
       " 626: 'Thin Line Between Love and Hate, A (1996)',\n",
       " 627: 'Last Supper, The (1995)',\n",
       " 628: 'Primal Fear (1996)',\n",
       " 630: 'Carried Away (1996)',\n",
       " 631: 'All Dogs Go to Heaven 2 (1996)',\n",
       " 632: 'Land and Freedom (Tierra y libertad) (1995)',\n",
       " 633: 'Denise Calls Up (1995)',\n",
       " 635: 'Family Thing, A (1996)',\n",
       " 637: 'Sgt. Bilko (1996)',\n",
       " 638: 'Jack and Sarah (1995)',\n",
       " 639: 'Girl 6 (1996)',\n",
       " 640: 'Diabolique (1996)',\n",
       " 647: 'Courage Under Fire (1996)',\n",
       " 648: 'Mission: Impossible (1996)',\n",
       " 650: 'Moll Flanders (1996)',\n",
       " 651: 'Superweib, Das (1996)',\n",
       " 653: 'Dragonheart (1996)',\n",
       " 656: 'Eddie (1996)',\n",
       " 659: 'Purple Noon (Plein soleil) (1960)',\n",
       " 661: 'James and the Giant Peach (1996)',\n",
       " 662: 'Fear (1996)',\n",
       " 663: 'Kids in the Hall: Brain Candy (1996)',\n",
       " 664: 'Faithful (1996)',\n",
       " 665: 'Underground (1995)',\n",
       " 667: 'Bloodsport 2 (a.k.a. Bloodsport II: The Next Kumite) (1996)',\n",
       " 668: 'Song of the Little Road (Pather Panchali) (1955)',\n",
       " 670: 'World of Apu, The (Apur Sansar) (1959)',\n",
       " 671: 'Mystery Science Theater 3000: The Movie (1996)',\n",
       " 673: 'Space Jam (1996)',\n",
       " 674: 'Barbarella (1968)',\n",
       " 678: 'Some Folks Call It a Sling Blade (1993)',\n",
       " 679: 'Run of the Country, The (1995)',\n",
       " 680: 'Alphaville (Alphaville, une étrange aventure de Lemmy Caution) (1965)',\n",
       " 681: 'Coup de torchon (Clean Slate) (1981)',\n",
       " 685: \"It's My Party (1996)\",\n",
       " 687: 'Country Life (1994)',\n",
       " 688: 'Operation Dumbo Drop (1995)',\n",
       " 690: 'Promise, The (Versprechen, Das) (1995)',\n",
       " 691: 'Mrs. Winterbourne (1996)',\n",
       " 692: 'Solo (1996)',\n",
       " 694: 'Substitute, The (1996)',\n",
       " 695: 'True Crime (1996)',\n",
       " 696: 'Butterfly Kiss (1995)',\n",
       " 697: 'Feeling Minnesota (1996)',\n",
       " 698: 'Delta of Venus (1995)',\n",
       " 700: 'Angus (1995)',\n",
       " 702: 'Faces (1968)',\n",
       " 703: 'Boys (1996)',\n",
       " 704: 'Quest, The (1996)',\n",
       " 705: 'Cosi (1996)',\n",
       " 707: 'Mulholland Falls (1996)',\n",
       " 708: 'Truth About Cats & Dogs, The (1996)',\n",
       " 709: 'Oliver & Company (1988)',\n",
       " 710: 'Celtic Pride (1996)',\n",
       " 711: 'Flipper (1996)',\n",
       " 714: 'Dead Man (1995)',\n",
       " 715: 'Horseman on the Roof, The (Hussard sur le toit, Le) (1995)',\n",
       " 718: 'Visitors, The (Visiteurs, Les) (1993)',\n",
       " 719: 'Multiplicity (1996)',\n",
       " 720: 'Wallace & Gromit: The Best of Aardman Animation (1996)',\n",
       " 721: 'Halfmoon (Paul Bowles - Halbmond) (1995)',\n",
       " 722: 'Haunted World of Edward D. Wood Jr., The (1996)',\n",
       " 724: 'Craft, The (1996)',\n",
       " 725: 'Great White Hype, The (1996)',\n",
       " 726: 'Last Dance (1996)',\n",
       " 728: 'Cold Comfort Farm (1995)',\n",
       " 731: \"Heaven's Prisoners (1996)\",\n",
       " 733: 'Rock, The (1996)',\n",
       " 735: 'Cemetery Man (Dellamorte Dellamore) (1994)',\n",
       " 736: 'Twister (1996)',\n",
       " 737: 'Barb Wire (1996)',\n",
       " 741: 'Ghost in the Shell (Kôkaku kidôtai) (1995)',\n",
       " 742: 'Thinner (1996)',\n",
       " 743: 'Spy Hard (1996)',\n",
       " 745: 'Wallace & Gromit: A Close Shave (1995)',\n",
       " 746: 'Force of Evil (1948)',\n",
       " 747: 'Stupids, The (1996)',\n",
       " 748: 'Arrival, The (1996)',\n",
       " 750: 'Dr. Strangelove or: How I Learned to Stop Worrying and Love the Bomb (1964)',\n",
       " 753: 'Month by the Lake, A (1995)',\n",
       " 754: 'Gold Diggers: The Secret of Bear Mountain (1995)',\n",
       " 755: 'Kim (1950)',\n",
       " 756: 'Carmen Miranda: Bananas Is My Business (1994)',\n",
       " 757: 'Ashes of Time (Dung che sai duk) (1994)',\n",
       " 759: 'Maya Lin: A Strong Clear Vision (1994)',\n",
       " 760: 'Stalingrad (1993)',\n",
       " 761: 'Phantom, The (1996)',\n",
       " 762: 'Striptease (1996)',\n",
       " 764: 'Heavy (1995)',\n",
       " 765: 'Jack (1996)',\n",
       " 766: 'I Shot Andy Warhol (1996)',\n",
       " 767: 'Grass Harp, The (1995)',\n",
       " 769: 'Marlene Dietrich: Shadow and Light (1996)',\n",
       " 775: 'Spirits of the Dead (1968)',\n",
       " 778: 'Trainspotting (1996)',\n",
       " 779: \"'Til There Was You (1997)\",\n",
       " 780: 'Independence Day (a.k.a. ID4) (1996)',\n",
       " 781: 'Stealing Beauty (1996)',\n",
       " 782: 'Fan, The (1996)',\n",
       " 783: 'Hunchback of Notre Dame, The (1996)',\n",
       " 784: 'Cable Guy, The (1996)',\n",
       " 785: 'Kingpin (1996)',\n",
       " 786: 'Eraser (1996)',\n",
       " 787: 'Gate of Heavenly Peace, The (1995)',\n",
       " 788: 'Nutty Professor, The (1996)',\n",
       " 793: \"My Life and Times With Antonin Artaud (En compagnie d'Antonin Artaud) (1993)\",\n",
       " 798: 'Daylight (1996)',\n",
       " 799: 'Frighteners, The (1996)',\n",
       " 800: 'Lone Star (1996)',\n",
       " 801: 'Harriet the Spy (1996)',\n",
       " 802: 'Phenomenon (1996)',\n",
       " 803: 'Walking and Talking (1996)',\n",
       " 804: \"She's the One (1996)\",\n",
       " 805: 'Time to Kill, A (1996)',\n",
       " 806: 'American Buffalo (1996)',\n",
       " 808: 'Alaska (1996)',\n",
       " 809: 'Fled (1996)',\n",
       " 810: 'Kazaam (1996)',\n",
       " 813: 'Larger Than Life (1996)',\n",
       " 816: 'Two Deaths (1995)',\n",
       " 818: 'Very Brady Sequel, A (1996)',\n",
       " 820: 'Death in the Garden (Mort en ce jardin, La) (1956)',\n",
       " 824: 'Kaspar Hauser (1993)',\n",
       " 828: 'Adventures of Pinocchio, The (1996)',\n",
       " 829: \"Joe's Apartment (1996)\",\n",
       " 830: 'First Wives Club, The (1996)',\n",
       " 831: 'Stonewall (1995)',\n",
       " 832: 'Ransom (1996)',\n",
       " 833: 'High School High (1996)',\n",
       " 834: 'Phat Beach (1996)',\n",
       " 835: 'Foxfire (1996)',\n",
       " 836: 'Chain Reaction (1996)',\n",
       " 837: 'Matilda (1996)',\n",
       " 838: 'Emma (1996)',\n",
       " 839: 'Crow: City of Angels, The (1996)',\n",
       " 840: 'House Arrest (1996)',\n",
       " 841: 'Eyes Without a Face (Yeux sans visage, Les) (1959)',\n",
       " 842: 'Tales from the Crypt Presents: Bordello of Blood (1996)',\n",
       " 844: 'Story of Xinghua, The (Xinghua san yue tian) (1994)',\n",
       " 845: 'Day the Sun Turned Cold, The (Tianguo niezi) (1994)',\n",
       " 846: 'Flirt (1995)',\n",
       " 848: 'Spitfire Grill, The (1996)',\n",
       " 849: 'Escape from L.A. (1996)',\n",
       " 850: 'Cyclo (Xich lo) (1995)',\n",
       " 851: 'Basquiat (1996)',\n",
       " 852: 'Tin Cup (1996)',\n",
       " 854: 'Ballad of Narayama, The (Narayama Bushiko) (1958)',\n",
       " 858: 'Godfather, The (1972)',\n",
       " 861: 'Supercop (Police Story 3: Supercop) (Jing cha gu shi III: Chao ji jing cha) (1992)',\n",
       " 864: 'Wife, The (1995)',\n",
       " 865: 'Small Faces (1996)',\n",
       " 866: 'Bound (1996)',\n",
       " 867: 'Carpool (1996)',\n",
       " 869: 'Kansas City (1996)',\n",
       " 870: \"Gone Fishin' (1997)\",\n",
       " 872: \"Vive L'Amour (Ai qing wan sui) (1994)\",\n",
       " 875: 'Nothing to Lose (1994)',\n",
       " 876: 'Supercop 2 (Project S) (Chao ji ji hua) (1993)',\n",
       " 879: 'Relic, The (1997)',\n",
       " 880: 'Island of Dr. Moreau, The (1996)',\n",
       " 881: 'First Kid (1996)',\n",
       " 882: 'Trigger Effect, The (1996)',\n",
       " 885: 'Bogus (1996)',\n",
       " 886: 'Bulletproof (1996)',\n",
       " 888: 'Land Before Time III: The Time of the Great Giving (1995)',\n",
       " 889: '1-900 (06) (1994)',\n",
       " 891: 'Halloween: The Curse of Michael Myers (Halloween 6: The Curse of Michael Myers) (1995)',\n",
       " 892: 'Twelfth Night (1996)',\n",
       " 893: 'Mother Night (1996)',\n",
       " 896: 'Wild Reeds (Les roseaux sauvages) (1994)',\n",
       " 897: 'For Whom the Bell Tolls (1943)',\n",
       " 898: 'Philadelphia Story, The (1940)',\n",
       " 899: \"Singin' in the Rain (1952)\",\n",
       " 900: 'American in Paris, An (1951)',\n",
       " 901: 'Funny Face (1957)',\n",
       " 902: \"Breakfast at Tiffany's (1961)\",\n",
       " 903: 'Vertigo (1958)',\n",
       " 904: 'Rear Window (1954)',\n",
       " 905: 'It Happened One Night (1934)',\n",
       " 906: 'Gaslight (1944)',\n",
       " 907: 'Gay Divorcee, The (1934)',\n",
       " 908: 'North by Northwest (1959)',\n",
       " 909: 'Apartment, The (1960)',\n",
       " 910: 'Some Like It Hot (1959)',\n",
       " 911: 'Charade (1963)',\n",
       " 912: 'Casablanca (1942)',\n",
       " 913: 'Maltese Falcon, The (1941)',\n",
       " 914: 'My Fair Lady (1964)',\n",
       " 915: 'Sabrina (1954)',\n",
       " 916: 'Roman Holiday (1953)',\n",
       " 917: 'Little Princess, The (1939)',\n",
       " 918: 'Meet Me in St. Louis (1944)',\n",
       " 919: 'Wizard of Oz, The (1939)',\n",
       " 920: 'Gone with the Wind (1939)',\n",
       " 921: 'My Favorite Year (1982)',\n",
       " 922: 'Sunset Blvd. (a.k.a. Sunset Boulevard) (1950)',\n",
       " 923: 'Citizen Kane (1941)',\n",
       " 924: '2001: A Space Odyssey (1968)',\n",
       " 926: 'All About Eve (1950)',\n",
       " 927: 'Women, The (1939)',\n",
       " 928: 'Rebecca (1940)',\n",
       " 929: 'Foreign Correspondent (1940)',\n",
       " 930: 'Notorious (1946)',\n",
       " 931: 'Spellbound (1945)',\n",
       " 932: 'Affair to Remember, An (1957)',\n",
       " 933: 'To Catch a Thief (1955)',\n",
       " 934: 'Father of the Bride (1950)',\n",
       " 935: 'Band Wagon, The (1953)',\n",
       " 936: 'Ninotchka (1939)',\n",
       " 937: 'Love in the Afternoon (1957)',\n",
       " 938: 'Gigi (1958)',\n",
       " 939: 'Reluctant Debutante, The (1958)',\n",
       " 940: 'Adventures of Robin Hood, The (1938)',\n",
       " 941: 'Mark of Zorro, The (1940)',\n",
       " 942: 'Laura (1944)',\n",
       " 943: 'Ghost and Mrs. Muir, The (1947)',\n",
       " 944: 'Lost Horizon (1937)',\n",
       " 945: 'Top Hat (1935)',\n",
       " 946: 'To Be or Not to Be (1942)',\n",
       " 947: 'My Man Godfrey (1936)',\n",
       " 948: 'Giant (1956)',\n",
       " 949: 'East of Eden (1955)',\n",
       " 950: 'Thin Man, The (1934)',\n",
       " 951: 'His Girl Friday (1940)',\n",
       " 952: 'Around the World in 80 Days (1956)',\n",
       " 953: \"It's a Wonderful Life (1946)\",\n",
       " 954: 'Mr. Smith Goes to Washington (1939)',\n",
       " 955: 'Bringing Up Baby (1938)',\n",
       " 956: 'Penny Serenade (1941)',\n",
       " 957: 'Scarlet Letter, The (1926)',\n",
       " 960: 'Angel on My Shoulder (1946)',\n",
       " 961: 'Little Lord Fauntleroy (1936)',\n",
       " 962: 'They Made Me a Criminal (1939)',\n",
       " 963: 'Inspector General, The (1949)',\n",
       " 964: 'Angel and the Badman (1947)',\n",
       " 965: '39 Steps, The (1935)',\n",
       " 966: 'A Walk in the Sun (1945)',\n",
       " 968: 'Night of the Living Dead (1968)',\n",
       " 969: 'African Queen, The (1951)',\n",
       " 970: 'Beat the Devil (1953)',\n",
       " 971: 'Cat on a Hot Tin Roof (1958)',\n",
       " 972: 'Last Time I Saw Paris, The (1954)',\n",
       " 973: 'Meet John Doe (1941)',\n",
       " 976: 'Farewell to Arms, A (1932)',\n",
       " 980: 'Yes, Madam (a.k.a. Police Assassins) (a.k.a. In the Line of Duty 2) (Huang gu shi jie) (1985)',\n",
       " 981: 'Dangerous Ground (1997)',\n",
       " 982: 'Picnic (1955)',\n",
       " 984: 'Pompatus of Love, The (1996)',\n",
       " 986: 'Fly Away Home (1996)',\n",
       " 987: 'Bliss (1997)',\n",
       " 988: 'Grace of My Heart (1996)',\n",
       " 990: 'Maximum Risk (1996)',\n",
       " 991: 'Michael Collins (1996)',\n",
       " 992: \"Rich Man's Wife, The (1996)\",\n",
       " 994: 'Big Night (1996)',\n",
       " 996: 'Last Man Standing (1996)',\n",
       " 997: 'Caught (1996)',\n",
       " 998: 'Set It Off (1996)',\n",
       " 999: '2 Days in the Valley (1996)',\n",
       " 1003: 'Extreme Measures (1996)',\n",
       " 1004: 'Glimmer Man, The (1996)',\n",
       " 1005: 'D3: The Mighty Ducks (1996)',\n",
       " 1006: 'Chamber, The (1996)',\n",
       " 1007: 'Apple Dumpling Gang, The (1975)',\n",
       " 1008: 'Davy Crockett, King of the Wild Frontier (1955)',\n",
       " 1009: 'Escape to Witch Mountain (1975)',\n",
       " 1010: 'Love Bug, The (1969)',\n",
       " 1011: 'Herbie Rides Again (1974)',\n",
       " 1012: 'Old Yeller (1957)',\n",
       " 1013: 'Parent Trap, The (1961)',\n",
       " 1014: 'Pollyanna (1960)',\n",
       " 1015: 'Homeward Bound: The Incredible Journey (1993)',\n",
       " 1016: 'Shaggy Dog, The (1959)',\n",
       " 1017: 'Swiss Family Robinson (1960)',\n",
       " 1018: 'That Darn Cat! (1965)',\n",
       " 1019: '20,000 Leagues Under the Sea (1954)',\n",
       " 1020: 'Cool Runnings (1993)',\n",
       " 1021: 'Angels in the Outfield (1994)',\n",
       " 1022: 'Cinderella (1950)',\n",
       " 1023: 'Winnie the Pooh and the Blustery Day (1968)',\n",
       " 1024: 'Three Caballeros, The (1945)',\n",
       " 1025: 'Sword in the Stone, The (1963)',\n",
       " 1026: 'So Dear to My Heart (1949)',\n",
       " 1027: 'Robin Hood: Prince of Thieves (1991)',\n",
       " 1028: 'Mary Poppins (1964)',\n",
       " 1029: 'Dumbo (1941)',\n",
       " 1030: \"Pete's Dragon (1977)\",\n",
       " 1031: 'Bedknobs and Broomsticks (1971)',\n",
       " 1032: 'Alice in Wonderland (1951)',\n",
       " 1033: 'Fox and the Hound, The (1981)',\n",
       " 1034: 'Freeway (1996)',\n",
       " 1035: 'Sound of Music, The (1965)',\n",
       " 1036: 'Die Hard (1988)',\n",
       " 1037: 'Lawnmower Man, The (1992)',\n",
       " 1040: 'Secret Agent, The (1996)',\n",
       " 1041: 'Secrets & Lies (1996)',\n",
       " 1042: 'That Thing You Do! (1996)',\n",
       " 1043: 'To Gillian on Her 37th Birthday (1996)',\n",
       " 1044: 'Surviving Picasso (1996)',\n",
       " 1046: 'Beautiful Thing (1996)',\n",
       " 1047: 'Long Kiss Goodnight, The (1996)',\n",
       " 1049: 'Ghost and the Darkness, The (1996)',\n",
       " 1050: 'Looking for Richard (1996)',\n",
       " 1051: 'Trees Lounge (1996)',\n",
       " 1053: 'Normal Life (1996)',\n",
       " 1054: 'Get on the Bus (1996)',\n",
       " 1055: 'Shadow Conspiracy (1997)',\n",
       " 1056: 'Jude (1996)',\n",
       " 1057: 'Everyone Says I Love You (1996)',\n",
       " 1059: \"William Shakespeare's Romeo + Juliet (1996)\",\n",
       " 1060: 'Swingers (1996)',\n",
       " 1061: 'Sleepers (1996)',\n",
       " 1063: 'Johns (1996)',\n",
       " 1064: 'Aladdin and the King of Thieves (1996)',\n",
       " 1066: 'Shall We Dance (1937)',\n",
       " 1067: 'Damsel in Distress, A (1937)',\n",
       " 1068: 'Crossfire (1947)',\n",
       " 1069: 'Murder, My Sweet (1944)',\n",
       " 1073: 'Willy Wonka & the Chocolate Factory (1971)',\n",
       " 1076: 'Innocents, The (1961)',\n",
       " 1077: 'Sleeper (1973)',\n",
       " 1078: 'Bananas (1971)',\n",
       " 1079: 'Fish Called Wanda, A (1988)',\n",
       " 1080: \"Monty Python's Life of Brian (1979)\",\n",
       " 1081: 'Victor/Victoria (1982)',\n",
       " 1082: 'Candidate, The (1972)',\n",
       " 1083: 'Great Race, The (1965)',\n",
       " 1084: 'Bonnie and Clyde (1967)',\n",
       " 1085: 'Old Man and the Sea, The (1958)',\n",
       " 1086: 'Dial M for Murder (1954)',\n",
       " 1087: 'Madame Butterfly (1995)',\n",
       " 1088: 'Dirty Dancing (1987)',\n",
       " 1089: 'Reservoir Dogs (1992)',\n",
       " 1090: 'Platoon (1986)',\n",
       " 1091: \"Weekend at Bernie's (1989)\",\n",
       " 1092: 'Basic Instinct (1992)',\n",
       " 1093: 'Doors, The (1991)',\n",
       " 1094: 'Crying Game, The (1992)',\n",
       " 1095: 'Glengarry Glen Ross (1992)',\n",
       " 1096: \"Sophie's Choice (1982)\",\n",
       " 1097: 'E.T. the Extra-Terrestrial (1982)',\n",
       " 1099: 'Christmas Carol, A (1938)',\n",
       " 1100: 'Days of Thunder (1990)',\n",
       " 1101: 'Top Gun (1986)',\n",
       " 1103: 'Rebel Without a Cause (1955)',\n",
       " 1104: 'Streetcar Named Desire, A (1951)',\n",
       " 1105: 'Children of the Corn IV: The Gathering (1996)',\n",
       " 1111: \"Microcosmos (Microcosmos: Le peuple de l'herbe) (1996)\",\n",
       " 1112: 'Palookaville (1996)',\n",
       " 1113: 'Associate, The (1996)',\n",
       " 1114: 'Funeral, The (1996)',\n",
       " 1120: 'People vs. Larry Flynt, The (1996)',\n",
       " 1123: 'Perfect Candidate, A (1996)',\n",
       " 1124: 'On Golden Pond (1981)',\n",
       " 1125: 'Return of the Pink Panther, The (1975)',\n",
       " 1126: 'Drop Dead Fred (1991)',\n",
       " 1127: 'Abyss, The (1989)',\n",
       " 1128: 'Fog, The (1980)',\n",
       " 1129: 'Escape from New York (1981)',\n",
       " 1130: 'Howling, The (1980)',\n",
       " 1131: 'Jean de Florette (1986)',\n",
       " 1132: 'Manon of the Spring (Manon des sources) (1986)',\n",
       " 1133: 'Talking About Sex (1994)',\n",
       " 1135: 'Private Benjamin (1980)',\n",
       " 1136: 'Monty Python and the Holy Grail (1975)',\n",
       " 1137: 'Hustler White (1996)',\n",
       " 1145: 'Snowriders (1996)',\n",
       " 1147: 'When We Were Kings (1996)',\n",
       " 1148: 'Wallace & Gromit: The Wrong Trousers (1993)',\n",
       " 1150: 'Return of Martin Guerre, The (Retour de Martin Guerre, Le) (1982)',\n",
       " 1151: 'Lesson Faust (1994)',\n",
       " 1152: 'He Walked by Night (1948)',\n",
       " 1153: 'Raw Deal (1948)',\n",
       " 1154: 'T-Men (1947)',\n",
       " 1161: 'Tin Drum, The (Blechtrommel, Die) (1979)',\n",
       " 1162: 'Ruling Class, The (1972)',\n",
       " 1163: 'Mina Tannenbaum (1994)',\n",
       " 1164: \"2 ou 3 choses que je sais d'elle (2 or 3 Things I Know About Her) (1967)\",\n",
       " 1165: 'Bloody Child, The (1996)',\n",
       " 1167: 'Dear God (1996)',\n",
       " 1168: 'Bad Moon (1996)',\n",
       " 1169: 'American Dream (1990)',\n",
       " 1171: 'Bob Roberts (1992)',\n",
       " 1172: 'Cinema Paradiso (Nuovo cinema Paradiso) (1989)',\n",
       " 1173: 'Cook the Thief His Wife & Her Lover, The (1989)',\n",
       " 1174: 'Dead Tired (Grosse Fatigue) (1994)',\n",
       " 1175: 'Delicatessen (1991)',\n",
       " 1176: 'Double Life of Veronique, The (Double Vie de Véronique, La) (1991)',\n",
       " 1177: 'Enchanted April (1992)',\n",
       " 1178: 'Paths of Glory (1957)',\n",
       " 1179: 'Grifters, The (1990)',\n",
       " 1180: 'Hear My Song (1991)',\n",
       " 1181: 'Shooter, The (1997)',\n",
       " 1183: 'English Patient, The (1996)',\n",
       " 1184: 'Mediterraneo (1991)',\n",
       " 1185: 'My Left Foot (1989)',\n",
       " 1186: 'Sex, Lies, and Videotape (1989)',\n",
       " 1187: 'Passion Fish (1992)',\n",
       " 1188: 'Strictly Ballroom (1992)',\n",
       " 1189: 'Thin Blue Line, The (1988)',\n",
       " 1190: 'Tie Me Up! Tie Me Down! (¡Átame!) (1990)',\n",
       " 1191: 'Madonna: Truth or Dare (1991)',\n",
       " 1192: 'Paris Is Burning (1990)',\n",
       " 1193: \"One Flew Over the Cuckoo's Nest (1975)\",\n",
       " 1194: \"Cheech and Chong's Up in Smoke (1978)\",\n",
       " 1196: 'Star Wars: Episode V - The Empire Strikes Back (1980)',\n",
       " 1197: 'Princess Bride, The (1987)',\n",
       " 1198: 'Raiders of the Lost Ark (Indiana Jones and the Raiders of the Lost Ark) (1981)',\n",
       " 1199: 'Brazil (1985)',\n",
       " 1200: 'Aliens (1986)',\n",
       " 1201: 'Good, the Bad and the Ugly, The (Buono, il brutto, il cattivo, Il) (1966)',\n",
       " 1202: 'Withnail & I (1987)',\n",
       " 1203: '12 Angry Men (1957)',\n",
       " 1204: 'Lawrence of Arabia (1962)',\n",
       " 1206: 'Clockwork Orange, A (1971)',\n",
       " 1207: 'To Kill a Mockingbird (1962)',\n",
       " 1208: 'Apocalypse Now (1979)',\n",
       " 1209: \"Once Upon a Time in the West (C'era una volta il West) (1968)\",\n",
       " 1210: 'Star Wars: Episode VI - Return of the Jedi (1983)',\n",
       " 1211: 'Wings of Desire (Himmel über Berlin, Der) (1987)',\n",
       " 1212: 'Third Man, The (1949)',\n",
       " 1213: 'Goodfellas (1990)',\n",
       " 1214: 'Alien (1979)',\n",
       " 1215: 'Army of Darkness (1993)',\n",
       " 1216: 'Big Blue, The (Grand bleu, Le) (1988)',\n",
       " 1217: 'Ran (1985)',\n",
       " 1218: 'Killer, The (Die xue shuang xiong) (1989)',\n",
       " 1219: 'Psycho (1960)',\n",
       " 1220: 'Blues Brothers, The (1980)',\n",
       " 1221: 'Godfather: Part II, The (1974)',\n",
       " 1222: 'Full Metal Jacket (1987)',\n",
       " 1223: 'Grand Day Out with Wallace and Gromit, A (1989)',\n",
       " 1224: 'Henry V (1989)',\n",
       " 1225: 'Amadeus (1984)',\n",
       " 1226: 'Quiet Man, The (1952)',\n",
       " 1227: 'Once Upon a Time in America (1984)',\n",
       " 1228: 'Raging Bull (1980)',\n",
       " 1230: 'Annie Hall (1977)',\n",
       " 1231: 'Right Stuff, The (1983)',\n",
       " 1232: 'Stalker (1979)',\n",
       " 1233: 'Boot, Das (Boat, The) (1981)',\n",
       " 1234: 'Sting, The (1973)',\n",
       " 1235: 'Harold and Maude (1971)',\n",
       " 1236: 'Trust (1990)',\n",
       " 1237: 'Seventh Seal, The (Sjunde inseglet, Det) (1957)',\n",
       " 1238: 'Local Hero (1983)',\n",
       " 1240: 'Terminator, The (1984)',\n",
       " 1241: 'Dead Alive (Braindead) (1992)',\n",
       " 1242: 'Glory (1989)',\n",
       " 1243: 'Rosencrantz and Guildenstern Are Dead (1990)',\n",
       " 1244: 'Manhattan (1979)',\n",
       " 1245: \"Miller's Crossing (1990)\",\n",
       " ...}"
      ]
     },
     "execution_count": 6,
     "metadata": {},
     "output_type": "execute_result"
    }
   ],
   "source": [
    "movie_names"
   ]
  },
  {
   "cell_type": "code",
   "execution_count": 7,
   "metadata": {
    "ExecuteTime": {
     "end_time": "2018-07-25T00:59:30.921229Z",
     "start_time": "2018-07-25T00:59:30.914234Z"
    }
   },
   "outputs": [],
   "source": [
    "users = ratings.userId.unique() # 所有不重复的用户Id"
   ]
  },
  {
   "cell_type": "code",
   "execution_count": 8,
   "metadata": {
    "ExecuteTime": {
     "end_time": "2018-07-25T00:59:32.287182Z",
     "start_time": "2018-07-25T00:59:32.282186Z"
    },
    "hidden": true
   },
   "outputs": [],
   "source": [
    "movies = ratings.movieId.unique() # 所有不重复的电影Id"
   ]
  },
  {
   "cell_type": "code",
   "execution_count": 9,
   "metadata": {
    "ExecuteTime": {
     "end_time": "2018-07-25T00:59:37.126531Z",
     "start_time": "2018-07-25T00:59:37.122535Z"
    }
   },
   "outputs": [
    {
     "data": {
      "text/plain": [
       "array([  31, 1029, 1061, ...,  129, 4736, 6425], dtype=int64)"
      ]
     },
     "execution_count": 9,
     "metadata": {},
     "output_type": "execute_result"
    }
   ],
   "source": [
    "movies"
   ]
  },
  {
   "cell_type": "code",
   "execution_count": 10,
   "metadata": {
    "ExecuteTime": {
     "end_time": "2018-07-25T00:59:43.591896Z",
     "start_time": "2018-07-25T00:59:43.585899Z"
    }
   },
   "outputs": [
    {
     "data": {
      "text/plain": [
       "array([  1,   2,   3,   4,   5,   6,   7,   8,   9,  10,  11,  12,  13,  14,  15,  16,  17,  18,\n",
       "        19,  20,  21,  22,  23,  24,  25,  26,  27,  28,  29,  30,  31,  32,  33,  34,  35,  36,\n",
       "        37,  38,  39,  40,  41,  42,  43,  44,  45,  46,  47,  48,  49,  50,  51,  52,  53,  54,\n",
       "        55,  56,  57,  58,  59,  60,  61,  62,  63,  64,  65,  66,  67,  68,  69,  70,  71,  72,\n",
       "        73,  74,  75,  76,  77,  78,  79,  80,  81,  82,  83,  84,  85,  86,  87,  88,  89,  90,\n",
       "        91,  92,  93,  94,  95,  96,  97,  98,  99, 100, 101, 102, 103, 104, 105, 106, 107, 108,\n",
       "       109, 110, 111, 112, 113, 114, 115, 116, 117, 118, 119, 120, 121, 122, 123, 124, 125, 126,\n",
       "       127, 128, 129, 130, 131, 132, 133, 134, 135, 136, 137, 138, 139, 140, 141, 142, 143, 144,\n",
       "       145, 146, 147, 148, 149, 150, 151, 152, 153, 154, 155, 156, 157, 158, 159, 160, 161, 162,\n",
       "       163, 164, 165, 166, 167, 168, 169, 170, 171, 172, 173, 174, 175, 176, 177, 178, 179, 180,\n",
       "       181, 182, 183, 184, 185, 186, 187, 188, 189, 190, 191, 192, 193, 194, 195, 196, 197, 198,\n",
       "       199, 200, 201, 202, 203, 204, 205, 206, 207, 208, 209, 210, 211, 212, 213, 214, 215, 216,\n",
       "       217, 218, 219, 220, 221, 222, 223, 224, 225, 226, 227, 228, 229, 230, 231, 232, 233, 234,\n",
       "       235, 236, 237, 238, 239, 240, 241, 242, 243, 244, 245, 246, 247, 248, 249, 250, 251, 252,\n",
       "       253, 254, 255, 256, 257, 258, 259, 260, 261, 262, 263, 264, 265, 266, 267, 268, 269, 270,\n",
       "       271, 272, 273, 274, 275, 276, 277, 278, 279, 280, 281, 282, 283, 284, 285, 286, 287, 288,\n",
       "       289, 290, 291, 292, 293, 294, 295, 296, 297, 298, 299, 300, 301, 302, 303, 304, 305, 306,\n",
       "       307, 308, 309, 310, 311, 312, 313, 314, 315, 316, 317, 318, 319, 320, 321, 322, 323, 324,\n",
       "       325, 326, 327, 328, 329, 330, 331, 332, 333, 334, 335, 336, 337, 338, 339, 340, 341, 342,\n",
       "       343, 344, 345, 346, 347, 348, 349, 350, 351, 352, 353, 354, 355, 356, 357, 358, 359, 360,\n",
       "       361, 362, 363, 364, 365, 366, 367, 368, 369, 370, 371, 372, 373, 374, 375, 376, 377, 378,\n",
       "       379, 380, 381, 382, 383, 384, 385, 386, 387, 388, 389, 390, 391, 392, 393, 394, 395, 396,\n",
       "       397, 398, 399, 400, 401, 402, 403, 404, 405, 406, 407, 408, 409, 410, 411, 412, 413, 414,\n",
       "       415, 416, 417, 418, 419, 420, 421, 422, 423, 424, 425, 426, 427, 428, 429, 430, 431, 432,\n",
       "       433, 434, 435, 436, 437, 438, 439, 440, 441, 442, 443, 444, 445, 446, 447, 448, 449, 450,\n",
       "       451, 452, 453, 454, 455, 456, 457, 458, 459, 460, 461, 462, 463, 464, 465, 466, 467, 468,\n",
       "       469, 470, 471, 472, 473, 474, 475, 476, 477, 478, 479, 480, 481, 482, 483, 484, 485, 486,\n",
       "       487, 488, 489, 490, 491, 492, 493, 494, 495, 496, 497, 498, 499, 500, 501, 502, 503, 504,\n",
       "       505, 506, 507, 508, 509, 510, 511, 512, 513, 514, 515, 516, 517, 518, 519, 520, 521, 522,\n",
       "       523, 524, 525, 526, 527, 528, 529, 530, 531, 532, 533, 534, 535, 536, 537, 538, 539, 540,\n",
       "       541, 542, 543, 544, 545, 546, 547, 548, 549, 550, 551, 552, 553, 554, 555, 556, 557, 558,\n",
       "       559, 560, 561, 562, 563, 564, 565, 566, 567, 568, 569, 570, 571, 572, 573, 574, 575, 576,\n",
       "       577, 578, 579, 580, 581, 582, 583, 584, 585, 586, 587, 588, 589, 590, 591, 592, 593, 594,\n",
       "       595, 596, 597, 598, 599, 600, 601, 602, 603, 604, 605, 606, 607, 608, 609, 610, 611, 612,\n",
       "       613, 614, 615, 616, 617, 618, 619, 620, 621, 622, 623, 624, 625, 626, 627, 628, 629, 630,\n",
       "       631, 632, 633, 634, 635, 636, 637, 638, 639, 640, 641, 642, 643, 644, 645, 646, 647, 648,\n",
       "       649, 650, 651, 652, 653, 654, 655, 656, 657, 658, 659, 660, 661, 662, 663, 664, 665, 666,\n",
       "       667, 668, 669, 670, 671], dtype=int64)"
      ]
     },
     "execution_count": 10,
     "metadata": {},
     "output_type": "execute_result"
    }
   ],
   "source": [
    "users"
   ]
  },
  {
   "cell_type": "code",
   "execution_count": 11,
   "metadata": {
    "ExecuteTime": {
     "end_time": "2018-07-25T00:59:47.598225Z",
     "start_time": "2018-07-25T00:59:47.594228Z"
    }
   },
   "outputs": [
    {
     "data": {
      "text/plain": [
       "9066"
      ]
     },
     "execution_count": 11,
     "metadata": {},
     "output_type": "execute_result"
    }
   ],
   "source": [
    "len(movies)"
   ]
  },
  {
   "cell_type": "code",
   "execution_count": 12,
   "metadata": {
    "ExecuteTime": {
     "end_time": "2018-07-25T01:00:36.551547Z",
     "start_time": "2018-07-25T01:00:36.545551Z"
    }
   },
   "outputs": [],
   "source": [
    "userid2idx = {o:i for i,o in enumerate(users)} # userid 对应的数字id\n",
    "movieid2idx = {o:i for i,o in enumerate(movies)} # movie 对应的数字id"
   ]
  },
  {
   "cell_type": "code",
   "execution_count": 13,
   "metadata": {
    "ExecuteTime": {
     "end_time": "2018-07-25T01:00:41.746291Z",
     "start_time": "2018-07-25T01:00:41.722307Z"
    }
   },
   "outputs": [
    {
     "data": {
      "text/plain": [
       "{31: 0,\n",
       " 1029: 1,\n",
       " 1061: 2,\n",
       " 1129: 3,\n",
       " 1172: 4,\n",
       " 1263: 5,\n",
       " 1287: 6,\n",
       " 1293: 7,\n",
       " 1339: 8,\n",
       " 1343: 9,\n",
       " 1371: 10,\n",
       " 1405: 11,\n",
       " 1953: 12,\n",
       " 2105: 13,\n",
       " 2150: 14,\n",
       " 2193: 15,\n",
       " 2294: 16,\n",
       " 2455: 17,\n",
       " 2968: 18,\n",
       " 3671: 19,\n",
       " 10: 20,\n",
       " 17: 21,\n",
       " 39: 22,\n",
       " 47: 23,\n",
       " 50: 24,\n",
       " 52: 25,\n",
       " 62: 26,\n",
       " 110: 27,\n",
       " 144: 28,\n",
       " 150: 29,\n",
       " 153: 30,\n",
       " 161: 31,\n",
       " 165: 32,\n",
       " 168: 33,\n",
       " 185: 34,\n",
       " 186: 35,\n",
       " 208: 36,\n",
       " 222: 37,\n",
       " 223: 38,\n",
       " 225: 39,\n",
       " 235: 40,\n",
       " 248: 41,\n",
       " 253: 42,\n",
       " 261: 43,\n",
       " 265: 44,\n",
       " 266: 45,\n",
       " 272: 46,\n",
       " 273: 47,\n",
       " 292: 48,\n",
       " 296: 49,\n",
       " 300: 50,\n",
       " 314: 51,\n",
       " 317: 52,\n",
       " 319: 53,\n",
       " 339: 54,\n",
       " 349: 55,\n",
       " 350: 56,\n",
       " 356: 57,\n",
       " 357: 58,\n",
       " 364: 59,\n",
       " 367: 60,\n",
       " 370: 61,\n",
       " 371: 62,\n",
       " 372: 63,\n",
       " 377: 64,\n",
       " 382: 65,\n",
       " 405: 66,\n",
       " 410: 67,\n",
       " 454: 68,\n",
       " 457: 69,\n",
       " 468: 70,\n",
       " 474: 71,\n",
       " 480: 72,\n",
       " 485: 73,\n",
       " 497: 74,\n",
       " 500: 75,\n",
       " 508: 76,\n",
       " 509: 77,\n",
       " 515: 78,\n",
       " 527: 79,\n",
       " 537: 80,\n",
       " 539: 81,\n",
       " 550: 82,\n",
       " 551: 83,\n",
       " 552: 84,\n",
       " 585: 85,\n",
       " 586: 86,\n",
       " 587: 87,\n",
       " 588: 88,\n",
       " 589: 89,\n",
       " 590: 90,\n",
       " 592: 91,\n",
       " 593: 92,\n",
       " 616: 93,\n",
       " 661: 94,\n",
       " 720: 95,\n",
       " 60: 96,\n",
       " 247: 97,\n",
       " 267: 98,\n",
       " 318: 99,\n",
       " 355: 100,\n",
       " 595: 101,\n",
       " 736: 102,\n",
       " 778: 103,\n",
       " 866: 104,\n",
       " 1197: 105,\n",
       " 1210: 106,\n",
       " 1235: 107,\n",
       " 1271: 108,\n",
       " 1378: 109,\n",
       " 1580: 110,\n",
       " 1721: 111,\n",
       " 1884: 112,\n",
       " 2028: 113,\n",
       " 2318: 114,\n",
       " 2513: 115,\n",
       " 2694: 116,\n",
       " 2702: 117,\n",
       " 2716: 118,\n",
       " 2762: 119,\n",
       " 2841: 120,\n",
       " 2858: 121,\n",
       " 2959: 122,\n",
       " 3243: 123,\n",
       " 3510: 124,\n",
       " 3949: 125,\n",
       " 5349: 126,\n",
       " 5669: 127,\n",
       " 6377: 128,\n",
       " 7153: 129,\n",
       " 7361: 130,\n",
       " 8622: 131,\n",
       " 8636: 132,\n",
       " 27369: 133,\n",
       " 44191: 134,\n",
       " 48783: 135,\n",
       " 50068: 136,\n",
       " 58559: 137,\n",
       " 84236: 138,\n",
       " 34: 139,\n",
       " 112: 140,\n",
       " 141: 141,\n",
       " 173: 142,\n",
       " 260: 143,\n",
       " 289: 144,\n",
       " 329: 145,\n",
       " 380: 146,\n",
       " 431: 147,\n",
       " 434: 148,\n",
       " 435: 149,\n",
       " 440: 150,\n",
       " 442: 151,\n",
       " 464: 152,\n",
       " 541: 153,\n",
       " 594: 154,\n",
       " 596: 155,\n",
       " 610: 156,\n",
       " 858: 157,\n",
       " 903: 158,\n",
       " 910: 159,\n",
       " 913: 160,\n",
       " 919: 161,\n",
       " 1011: 162,\n",
       " 1016: 163,\n",
       " 1022: 164,\n",
       " 1028: 165,\n",
       " 1030: 166,\n",
       " 1031: 167,\n",
       " 1032: 168,\n",
       " 1033: 169,\n",
       " 1036: 170,\n",
       " 1073: 171,\n",
       " 1079: 172,\n",
       " 1089: 173,\n",
       " 1097: 174,\n",
       " 1125: 175,\n",
       " 1127: 176,\n",
       " 1136: 177,\n",
       " 1194: 178,\n",
       " 1196: 179,\n",
       " 1198: 180,\n",
       " 1200: 181,\n",
       " 1206: 182,\n",
       " 1208: 183,\n",
       " 1213: 184,\n",
       " 1214: 185,\n",
       " 1219: 186,\n",
       " 1220: 187,\n",
       " 1222: 188,\n",
       " 1225: 189,\n",
       " 1230: 190,\n",
       " 1240: 191,\n",
       " 1243: 192,\n",
       " 1257: 193,\n",
       " 1258: 194,\n",
       " 1259: 195,\n",
       " 1265: 196,\n",
       " 1270: 197,\n",
       " 1278: 198,\n",
       " 1282: 199,\n",
       " 1285: 200,\n",
       " 1288: 201,\n",
       " 1291: 202,\n",
       " 1298: 203,\n",
       " 1307: 204,\n",
       " 1332: 205,\n",
       " 1334: 206,\n",
       " 1344: 207,\n",
       " 1356: 208,\n",
       " 1372: 209,\n",
       " 1374: 210,\n",
       " 1376: 211,\n",
       " 1377: 212,\n",
       " 1380: 213,\n",
       " 1387: 214,\n",
       " 1388: 215,\n",
       " 1396: 216,\n",
       " 1544: 217,\n",
       " 1663: 218,\n",
       " 1674: 219,\n",
       " 1805: 220,\n",
       " 1858: 221,\n",
       " 1917: 222,\n",
       " 1918: 223,\n",
       " 1954: 224,\n",
       " 1961: 225,\n",
       " 1967: 226,\n",
       " 1968: 227,\n",
       " 1994: 228,\n",
       " 2000: 229,\n",
       " 2002: 230,\n",
       " 2003: 231,\n",
       " 2005: 232,\n",
       " 2014: 233,\n",
       " 2018: 234,\n",
       " 2020: 235,\n",
       " 2021: 236,\n",
       " 2033: 237,\n",
       " 2034: 238,\n",
       " 2046: 239,\n",
       " 2054: 240,\n",
       " 2064: 241,\n",
       " 2078: 242,\n",
       " 2080: 243,\n",
       " 2081: 244,\n",
       " 2085: 245,\n",
       " 2086: 246,\n",
       " 2087: 247,\n",
       " 2091: 248,\n",
       " 2094: 249,\n",
       " 2096: 250,\n",
       " 2100: 251,\n",
       " 2102: 252,\n",
       " 2109: 253,\n",
       " 2110: 254,\n",
       " 2114: 255,\n",
       " 2115: 256,\n",
       " 2124: 257,\n",
       " 2140: 258,\n",
       " 2141: 259,\n",
       " 2143: 260,\n",
       " 2144: 261,\n",
       " 2161: 262,\n",
       " 2174: 263,\n",
       " 2194: 264,\n",
       " 2248: 265,\n",
       " 2263: 266,\n",
       " 2268: 267,\n",
       " 2289: 268,\n",
       " 2348: 269,\n",
       " 2371: 270,\n",
       " 2403: 271,\n",
       " 2406: 272,\n",
       " 2409: 273,\n",
       " 2454: 274,\n",
       " 2467: 275,\n",
       " 2551: 276,\n",
       " 2616: 277,\n",
       " 2628: 278,\n",
       " 2640: 279,\n",
       " 2659: 280,\n",
       " 2683: 281,\n",
       " 2699: 282,\n",
       " 2723: 283,\n",
       " 2734: 284,\n",
       " 2770: 285,\n",
       " 2788: 286,\n",
       " 2791: 287,\n",
       " 2795: 288,\n",
       " 2797: 289,\n",
       " 2804: 290,\n",
       " 2822: 291,\n",
       " 2867: 292,\n",
       " 2872: 293,\n",
       " 2877: 294,\n",
       " 2902: 295,\n",
       " 2903: 296,\n",
       " 2916: 297,\n",
       " 2918: 298,\n",
       " 2986: 299,\n",
       " 2987: 300,\n",
       " 2991: 301,\n",
       " 3016: 302,\n",
       " 3034: 303,\n",
       " 3039: 304,\n",
       " 3040: 305,\n",
       " 3060: 306,\n",
       " 3071: 307,\n",
       " 3101: 308,\n",
       " 3104: 309,\n",
       " 3108: 310,\n",
       " 3169: 311,\n",
       " 3208: 312,\n",
       " 3210: 313,\n",
       " 3251: 314,\n",
       " 3255: 315,\n",
       " 3263: 316,\n",
       " 3265: 317,\n",
       " 4006: 318,\n",
       " 3: 319,\n",
       " 104: 320,\n",
       " 231: 321,\n",
       " 277: 322,\n",
       " 344: 323,\n",
       " 597: 324,\n",
       " 788: 325,\n",
       " 1035: 326,\n",
       " 1193: 327,\n",
       " 1221: 328,\n",
       " 1247: 329,\n",
       " 1393: 330,\n",
       " 1485: 331,\n",
       " 1682: 332,\n",
       " 1777: 333,\n",
       " 1784: 334,\n",
       " 1923: 335,\n",
       " 1997: 336,\n",
       " 2023: 337,\n",
       " 2273: 338,\n",
       " 2355: 339,\n",
       " 2424: 340,\n",
       " 2502: 341,\n",
       " 2706: 342,\n",
       " 2997: 343,\n",
       " 3114: 344,\n",
       " 3176: 345,\n",
       " 3408: 346,\n",
       " 3753: 347,\n",
       " 3897: 348,\n",
       " 3948: 349,\n",
       " 4014: 350,\n",
       " 4018: 351,\n",
       " 4022: 352,\n",
       " 4025: 353,\n",
       " 4306: 354,\n",
       " 4308: 355,\n",
       " 4447: 356,\n",
       " 4718: 357,\n",
       " 4963: 358,\n",
       " 4995: 359,\n",
       " 5266: 360,\n",
       " 5299: 361,\n",
       " 5464: 362,\n",
       " 5679: 363,\n",
       " 5816: 364,\n",
       " 5995: 365,\n",
       " 6218: 366,\n",
       " 6373: 367,\n",
       " 6502: 368,\n",
       " 6711: 369,\n",
       " 6942: 370,\n",
       " 8376: 371,\n",
       " 8464: 372,\n",
       " 8644: 373,\n",
       " 30707: 374,\n",
       " 30749: 375,\n",
       " 30793: 376,\n",
       " 33166: 377,\n",
       " 33679: 378,\n",
       " 34162: 379,\n",
       " 35836: 380,\n",
       " 40819: 381,\n",
       " 41566: 382,\n",
       " 41569: 383,\n",
       " 48385: 384,\n",
       " 111: 385,\n",
       " 158: 386,\n",
       " 293: 387,\n",
       " 1204: 388,\n",
       " 1250: 389,\n",
       " 1276: 390,\n",
       " 1358: 391,\n",
       " 1639: 392,\n",
       " 1687: 393,\n",
       " 1747: 394,\n",
       " 1876: 395,\n",
       " 1909: 396,\n",
       " 2001: 397,\n",
       " 2019: 398,\n",
       " 2072: 399,\n",
       " 2528: 400,\n",
       " 2529: 401,\n",
       " 2571: 402,\n",
       " 2657: 403,\n",
       " 2692: 404,\n",
       " 2761: 405,\n",
       " 2890: 406,\n",
       " 3052: 407,\n",
       " 3300: 408,\n",
       " 3751: 409,\n",
       " 4641: 410,\n",
       " 4975: 411,\n",
       " 5952: 412,\n",
       " 7090: 413,\n",
       " 8368: 414,\n",
       " 8784: 415,\n",
       " 8874: 416,\n",
       " 1: 417,\n",
       " 21: 418,\n",
       " 40: 419,\n",
       " 151: 420,\n",
       " 198: 421,\n",
       " 207: 422,\n",
       " 316: 423,\n",
       " 333: 424,\n",
       " 345: 425,\n",
       " 534: 426,\n",
       " 671: 427,\n",
       " 708: 428,\n",
       " 724: 429,\n",
       " 737: 430,\n",
       " 745: 431,\n",
       " 780: 432,\n",
       " 786: 433,\n",
       " 924: 434,\n",
       " 1080: 435,\n",
       " 1148: 436,\n",
       " 1223: 437,\n",
       " 1231: 438,\n",
       " 1242: 439,\n",
       " 1275: 440,\n",
       " 1302: 441,\n",
       " 1353: 442,\n",
       " 1373: 443,\n",
       " 1375: 444,\n",
       " 1394: 445,\n",
       " 1408: 446,\n",
       " 32: 447,\n",
       " 45: 448,\n",
       " 282: 449,\n",
       " 520: 450,\n",
       " 524: 451,\n",
       " 543: 452,\n",
       " 628: 453,\n",
       " 805: 454,\n",
       " 1500: 455,\n",
       " 1552: 456,\n",
       " 1617: 457,\n",
       " 1625: 458,\n",
       " 1704: 459,\n",
       " 1754: 460,\n",
       " 2139: 461,\n",
       " 2302: 462,\n",
       " 2324: 463,\n",
       " 2329: 464,\n",
       " 2353: 465,\n",
       " 2423: 466,\n",
       " 3147: 467,\n",
       " 3578: 468,\n",
       " 3916: 469,\n",
       " 3996: 470,\n",
       " 4011: 471,\n",
       " 4019: 472,\n",
       " 4034: 473,\n",
       " 4226: 474,\n",
       " 4262: 475,\n",
       " 4448: 476,\n",
       " 4886: 477,\n",
       " 4896: 478,\n",
       " 4973: 479,\n",
       " 4993: 480,\n",
       " 5064: 481,\n",
       " 5378: 482,\n",
       " 5445: 483,\n",
       " 5630: 484,\n",
       " 5650: 485,\n",
       " 5989: 486,\n",
       " 6378: 487,\n",
       " 6870: 488,\n",
       " 6874: 489,\n",
       " 6879: 490,\n",
       " 7143: 491,\n",
       " 7438: 492,\n",
       " 8533: 493,\n",
       " 8873: 494,\n",
       " 32587: 495,\n",
       " 33493: 496,\n",
       " 33794: 497,\n",
       " 40583: 498,\n",
       " 42007: 499,\n",
       " 43556: 500,\n",
       " 43871: 501,\n",
       " 44004: 502,\n",
       " 26: 503,\n",
       " 36: 504,\n",
       " 608: 505,\n",
       " 733: 506,\n",
       " 1059: 507,\n",
       " 1177: 508,\n",
       " 1357: 509,\n",
       " 1411: 510,\n",
       " 1541: 511,\n",
       " 1584: 512,\n",
       " 1680: 513,\n",
       " 2125: 514,\n",
       " 2249: 515,\n",
       " 2278: 516,\n",
       " 2291: 517,\n",
       " 2391: 518,\n",
       " 2396: 519,\n",
       " 2427: 520,\n",
       " 2490: 521,\n",
       " 2501: 522,\n",
       " 2539: 523,\n",
       " 2857: 524,\n",
       " 152: 525,\n",
       " 735: 526,\n",
       " 1101: 527,\n",
       " 1423: 528,\n",
       " 1459: 529,\n",
       " 1499: 530,\n",
       " 1611: 531,\n",
       " 1690: 532,\n",
       " 1719: 533,\n",
       " 1887: 534,\n",
       " 2108: 535,\n",
       " 2344: 536,\n",
       " 2410: 537,\n",
       " 2826: 538,\n",
       " 2827: 539,\n",
       " 2840: 540,\n",
       " 2881: 541,\n",
       " 2907: 542,\n",
       " 2926: 543,\n",
       " 2995: 544,\n",
       " 3005: 545,\n",
       " 3019: 546,\n",
       " 70: 547,\n",
       " 126: 548,\n",
       " 169: 549,\n",
       " 785: 550,\n",
       " 923: 551,\n",
       " 1027: 552,\n",
       " 1201: 553,\n",
       " 2042: 554,\n",
       " 2596: 555,\n",
       " 3424: 556,\n",
       " 6598: 557,\n",
       " 26614: 558,\n",
       " 48516: 559,\n",
       " 51084: 560,\n",
       " 58295: 561,\n",
       " 71211: 562,\n",
       " 77455: 563,\n",
       " 79132: 564,\n",
       " 80489: 565,\n",
       " 80906: 566,\n",
       " 81158: 567,\n",
       " 81562: 568,\n",
       " 88129: 569,\n",
       " 91500: 570,\n",
       " 91529: 571,\n",
       " 91548: 572,\n",
       " 96079: 573,\n",
       " 96861: 574,\n",
       " 97938: 575,\n",
       " 104841: 576,\n",
       " 106487: 577,\n",
       " 529: 578,\n",
       " 538: 579,\n",
       " 673: 580,\n",
       " 1077: 581,\n",
       " 1215: 582,\n",
       " 1295: 583,\n",
       " 1732: 584,\n",
       " 2259: 585,\n",
       " 2460: 586,\n",
       " 2668: 587,\n",
       " 3146: 588,\n",
       " 3148: 589,\n",
       " 3179: 590,\n",
       " 3298: 591,\n",
       " 3324: 592,\n",
       " 3474: 593,\n",
       " 3770: 594,\n",
       " 3773: 595,\n",
       " 3780: 596,\n",
       " 3791: 597,\n",
       " 3793: 598,\n",
       " 3794: 599,\n",
       " 3798: 600,\n",
       " 3799: 601,\n",
       " 3801: 602,\n",
       " 3809: 603,\n",
       " 3825: 604,\n",
       " 3827: 605,\n",
       " 3829: 606,\n",
       " 3831: 607,\n",
       " 3841: 608,\n",
       " 3844: 609,\n",
       " 3861: 610,\n",
       " 3863: 611,\n",
       " 3864: 612,\n",
       " 3865: 613,\n",
       " 3869: 614,\n",
       " 3871: 615,\n",
       " 3873: 616,\n",
       " 3879: 617,\n",
       " 3885: 618,\n",
       " 3886: 619,\n",
       " 6184: 620,\n",
       " 362: 621,\n",
       " 531: 622,\n",
       " 914: 623,\n",
       " 2572: 624,\n",
       " 2908: 625,\n",
       " 3396: 626,\n",
       " 3624: 627,\n",
       " 4310: 628,\n",
       " 4321: 629,\n",
       " 4878: 630,\n",
       " 7502: 631,\n",
       " 54286: 632,\n",
       " 64614: 633,\n",
       " 69757: 634,\n",
       " 78499: 635,\n",
       " 81834: 636,\n",
       " 88125: 637,\n",
       " 93363: 638,\n",
       " 2038: 639,\n",
       " 2394: 640,\n",
       " 2720: 641,\n",
       " 2724: 642,\n",
       " 2861: 643,\n",
       " 3157: 644,\n",
       " 3175: 645,\n",
       " 3354: 646,\n",
       " 3623: 647,\n",
       " 3986: 648,\n",
       " 3988: 649,\n",
       " 2: 650,\n",
       " 5: 651,\n",
       " 6: 652,\n",
       " 11: 653,\n",
       " 14: 654,\n",
       " 16: 655,\n",
       " 19: 656,\n",
       " 22: 657,\n",
       " 25: 658,\n",
       " 44: 659,\n",
       " 82: 660,\n",
       " 94: 661,\n",
       " 95: 662,\n",
       " 101: 663,\n",
       " 107: 664,\n",
       " 123: 665,\n",
       " 125: 666,\n",
       " 145: 667,\n",
       " 149: 668,\n",
       " 157: 669,\n",
       " 160: 670,\n",
       " 162: 671,\n",
       " 163: 672,\n",
       " 164: 673,\n",
       " 170: 674,\n",
       " 172: 675,\n",
       " 175: 676,\n",
       " 176: 677,\n",
       " 180: 678,\n",
       " 193: 679,\n",
       " 196: 680,\n",
       " 214: 681,\n",
       " 215: 682,\n",
       " 216: 683,\n",
       " 230: 684,\n",
       " 232: 685,\n",
       " 233: 686,\n",
       " 237: 687,\n",
       " 246: 688,\n",
       " 252: 689,\n",
       " 288: 690,\n",
       " 306: 691,\n",
       " 307: 692,\n",
       " 308: 693,\n",
       " 322: 694,\n",
       " 335: 695,\n",
       " 342: 696,\n",
       " 353: 697,\n",
       " 373: 698,\n",
       " 429: 699,\n",
       " 441: 700,\n",
       " 466: 701,\n",
       " 471: 702,\n",
       " 481: 703,\n",
       " 483: 704,\n",
       " 494: 705,\n",
       " 535: 706,\n",
       " 540: 707,\n",
       " 549: 708,\n",
       " 555: 709,\n",
       " 556: 710,\n",
       " 562: 711,\n",
       " 574: 712,\n",
       " 647: 713,\n",
       " 648: 714,\n",
       " 663: 715,\n",
       " 665: 716,\n",
       " 674: 717,\n",
       " 680: 718,\n",
       " 748: 719,\n",
       " 750: 720,\n",
       " 762: 721,\n",
       " 784: 722,\n",
       " 799: 723,\n",
       " 800: 724,\n",
       " 802: 725,\n",
       " 803: 726,\n",
       " 804: 727,\n",
       " 832: 728,\n",
       " 836: 729,\n",
       " 851: 730,\n",
       " 899: 731,\n",
       " 904: 732,\n",
       " 908: 733,\n",
       " 909: 734,\n",
       " 911: 735,\n",
       " 912: 736,\n",
       " 916: 737,\n",
       " 920: 738,\n",
       " 922: 739,\n",
       " 926: 740,\n",
       " 931: 741,\n",
       " 953: 742,\n",
       " 994: 743,\n",
       " 1020: 744,\n",
       " 1041: 745,\n",
       " 1047: 746,\n",
       " 1060: 747,\n",
       " 1084: 748,\n",
       " 1088: 749,\n",
       " 1092: 750,\n",
       " 1093: 751,\n",
       " 1094: 752,\n",
       " 1095: 753,\n",
       " 1100: 754,\n",
       " 1120: 755,\n",
       " 1131: 756,\n",
       " 1147: 757,\n",
       " 1171: 758,\n",
       " 1173: 759,\n",
       " 1176: 760,\n",
       " 1178: 761,\n",
       " 1179: 762,\n",
       " 1183: 763,\n",
       " 1186: 764,\n",
       " 1189: 765,\n",
       " 1199: 766,\n",
       " 1203: 767,\n",
       " 1207: 768,\n",
       " 1209: 769,\n",
       " 1211: 770,\n",
       " 1212: 771,\n",
       " 1217: 772,\n",
       " 1218: 773,\n",
       " 1228: 774,\n",
       " 1233: 775,\n",
       " 1234: 776,\n",
       " 1244: 777,\n",
       " 1246: 778,\n",
       " 1248: 779,\n",
       " 1249: 780,\n",
       " 1251: 781,\n",
       " 1252: 782,\n",
       " 1254: 783,\n",
       " 1260: 784,\n",
       " 1262: 785,\n",
       " 1264: 786,\n",
       " 1266: 787,\n",
       " 1267: 788,\n",
       " 1272: 789,\n",
       " 1280: 790,\n",
       " 1281: 791,\n",
       " 1283: 792,\n",
       " 1284: 793,\n",
       " 1289: 794,\n",
       " 1290: 795,\n",
       " 1297: 796,\n",
       " 1303: 797,\n",
       " 1304: 798,\n",
       " 1320: 799,\n",
       " 1333: 800,\n",
       " 1342: 801,\n",
       " 1361: 802,\n",
       " 1370: 803,\n",
       " 1385: 804,\n",
       " 1391: 805,\n",
       " 1407: 806,\n",
       " 1449: 807,\n",
       " 1464: 808,\n",
       " 1466: 809,\n",
       " 1476: 810,\n",
       " 1479: 811,\n",
       " 1483: 812,\n",
       " 1484: 813,\n",
       " 1502: 814,\n",
       " 1503: 815,\n",
       " 1513: 816,\n",
       " 1517: 817,\n",
       " 1527: 818,\n",
       " 1529: 819,\n",
       " 1546: 820,\n",
       " 1556: 821,\n",
       " 1562: 822,\n",
       " 1569: 823,\n",
       " 1573: 824,\n",
       " 1589: 825,\n",
       " 1597: 826,\n",
       " 1608: 827,\n",
       " 1610: 828,\n",
       " 1615: 829,\n",
       " 1616: 830,\n",
       " 1635: 831,\n",
       " 1644: 832,\n",
       " 1645: 833,\n",
       " 1649: 834,\n",
       " 1653: 835,\n",
       " 1673: 836,\n",
       " 1676: 837,\n",
       " 1689: 838,\n",
       " 1694: 839,\n",
       " 1717: 840,\n",
       " 1722: 841,\n",
       " 1729: 842,\n",
       " 1735: 843,\n",
       " 1748: 844,\n",
       " 1752: 845,\n",
       " 1753: 846,\n",
       " 1779: 847,\n",
       " 1792: 848,\n",
       " 1807: 849,\n",
       " 1810: 850,\n",
       " 1816: 851,\n",
       " 1827: 852,\n",
       " 1831: 853,\n",
       " 1834: 854,\n",
       " 1836: 855,\n",
       " 1845: 856,\n",
       " 1859: 857,\n",
       " 1860: 858,\n",
       " 1862: 859,\n",
       " 1882: 860,\n",
       " 1883: 861,\n",
       " 1889: 862,\n",
       " 1895: 863,\n",
       " 1897: 864,\n",
       " 1904: 865,\n",
       " 1912: 866,\n",
       " 1914: 867,\n",
       " 1921: 868,\n",
       " 1945: 869,\n",
       " 1950: 870,\n",
       " 1952: 871,\n",
       " 1955: 872,\n",
       " 1956: 873,\n",
       " 1962: 874,\n",
       " 1964: 875,\n",
       " 2006: 876,\n",
       " 2010: 877,\n",
       " 2011: 878,\n",
       " 2012: 879,\n",
       " 2025: 880,\n",
       " 2041: 881,\n",
       " 2058: 882,\n",
       " 2060: 883,\n",
       " 2076: 884,\n",
       " 2126: 885,\n",
       " 2133: 886,\n",
       " 2134: 887,\n",
       " 2145: 888,\n",
       " 2160: 889,\n",
       " 2167: 890,\n",
       " 2186: 891,\n",
       " 2231: 892,\n",
       " 2232: 893,\n",
       " 2243: 894,\n",
       " 2269: 895,\n",
       " 2282: 896,\n",
       " 2288: 897,\n",
       " 2303: 898,\n",
       " 2311: 899,\n",
       " 2313: 900,\n",
       " 2321: 901,\n",
       " 2333: 902,\n",
       " 2334: 903,\n",
       " 2336: 904,\n",
       " 2340: 905,\n",
       " 2351: 906,\n",
       " 2357: 907,\n",
       " 2360: 908,\n",
       " 2366: 909,\n",
       " 2369: 910,\n",
       " 2378: 911,\n",
       " 2387: 912,\n",
       " 2395: 913,\n",
       " 2405: 914,\n",
       " 2407: 915,\n",
       " 2413: 916,\n",
       " 2428: 917,\n",
       " 2439: 918,\n",
       " 2447: 919,\n",
       " 2478: 920,\n",
       " 2505: 921,\n",
       " 2541: 922,\n",
       " 2542: 923,\n",
       " 2560: 924,\n",
       " 2568: 925,\n",
       " 2574: 926,\n",
       " 2575: 927,\n",
       " 2579: 928,\n",
       " 2580: 929,\n",
       " 2581: 930,\n",
       " 2585: 931,\n",
       " 2594: 932,\n",
       " 2598: 933,\n",
       " 2599: 934,\n",
       " 2600: 935,\n",
       " 2605: 936,\n",
       " 2617: 937,\n",
       " 2624: 938,\n",
       " 2648: 939,\n",
       " 2671: 940,\n",
       " 2678: 941,\n",
       " 2686: 942,\n",
       " 2700: 943,\n",
       " 2701: 944,\n",
       " 2707: 945,\n",
       " 2709: 946,\n",
       " 2710: 947,\n",
       " 2712: 948,\n",
       " 2713: 949,\n",
       " 2717: 950,\n",
       " 2718: 951,\n",
       " 2722: 952,\n",
       " 2726: 953,\n",
       " 2729: 954,\n",
       " 2759: 955,\n",
       " 2763: 956,\n",
       " 2769: 957,\n",
       " 2803: 958,\n",
       " 2819: 959,\n",
       " 2871: 960,\n",
       " 2905: 961,\n",
       " 2912: 962,\n",
       " 2915: 963,\n",
       " 2925: 964,\n",
       " 2947: 965,\n",
       " 2949: 966,\n",
       " 2952: 967,\n",
       " 2973: 968,\n",
       " 2976: 969,\n",
       " 2983: 970,\n",
       " 2985: 971,\n",
       " 2990: 972,\n",
       " 2993: 973,\n",
       " 3000: 974,\n",
       " 3004: 975,\n",
       " 3006: 976,\n",
       " 3007: 977,\n",
       " 3008: 978,\n",
       " 3010: 979,\n",
       " 3020: 980,\n",
       " 3030: 981,\n",
       " 3033: 982,\n",
       " 3044: 983,\n",
       " 3077: 984,\n",
       " 3081: 985,\n",
       " 3082: 986,\n",
       " 3083: 987,\n",
       " 3089: 988,\n",
       " 3107: 989,\n",
       " 3113: 990,\n",
       " 3128: 991,\n",
       " 3129: 992,\n",
       " 3134: 993,\n",
       " 3150: 994,\n",
       " 3152: 995,\n",
       " 3160: 996,\n",
       " 3168: 997,\n",
       " 3173: 998,\n",
       " 3174: 999,\n",
       " ...}"
      ]
     },
     "execution_count": 13,
     "metadata": {},
     "output_type": "execute_result"
    }
   ],
   "source": [
    "movieid2idx"
   ]
  },
  {
   "cell_type": "markdown",
   "metadata": {
    "hidden": true
   },
   "source": [
    "We update the movie and user ids so that they are contiguous integers, which we want when using embeddings.\n",
    "\n",
    "我们更新电影和用户id，使它们是连续的整数，这是我们在使用嵌入矩阵(embeddings)时需要的。"
   ]
  },
  {
   "cell_type": "code",
   "execution_count": 15,
   "metadata": {
    "ExecuteTime": {
     "end_time": "2018-07-25T01:05:44.240602Z",
     "start_time": "2018-07-25T01:05:44.178637Z"
    }
   },
   "outputs": [],
   "source": [
    "ratings.movieId = ratings.movieId.apply(lambda x: movieid2idx[x])"
   ]
  },
  {
   "cell_type": "code",
   "execution_count": 16,
   "metadata": {
    "ExecuteTime": {
     "end_time": "2018-07-25T01:05:48.230276Z",
     "start_time": "2018-07-25T01:05:48.176308Z"
    },
    "hidden": true
   },
   "outputs": [],
   "source": [
    "ratings.userId = ratings.userId.apply(lambda x: userid2idx[x])"
   ]
  },
  {
   "cell_type": "code",
   "execution_count": 77,
   "metadata": {
    "ExecuteTime": {
     "end_time": "2018-07-24T13:34:04.828707Z",
     "start_time": "2018-07-24T13:34:04.813633Z"
    },
    "hidden": true
   },
   "outputs": [
    {
     "data": {
      "text/plain": [
       "(0, 670, 0, 9065)"
      ]
     },
     "execution_count": 77,
     "metadata": {},
     "output_type": "execute_result"
    }
   ],
   "source": [
    "# 用户id的最大最小值，电影id的最大最小值\n",
    "user_min, user_max, movie_min, movie_max = (ratings.userId.min(), \n",
    "    ratings.userId.max(), ratings.movieId.min(), ratings.movieId.max())\n",
    "user_min, user_max, movie_min, movie_max"
   ]
  },
  {
   "cell_type": "code",
   "execution_count": 18,
   "metadata": {
    "ExecuteTime": {
     "end_time": "2018-07-25T01:09:59.410990Z",
     "start_time": "2018-07-25T01:09:59.401009Z"
    }
   },
   "outputs": [
    {
     "data": {
      "text/plain": [
       "671"
      ]
     },
     "execution_count": 18,
     "metadata": {},
     "output_type": "execute_result"
    }
   ],
   "source": [
    "ratings.userId.nunique()"
   ]
  },
  {
   "cell_type": "code",
   "execution_count": 19,
   "metadata": {
    "ExecuteTime": {
     "end_time": "2018-07-25T01:10:17.393241Z",
     "start_time": "2018-07-25T01:10:17.385246Z"
    },
    "hidden": true
   },
   "outputs": [
    {
     "data": {
      "text/plain": [
       "(671, 9066)"
      ]
     },
     "execution_count": 19,
     "metadata": {},
     "output_type": "execute_result"
    }
   ],
   "source": [
    "n_users = ratings.userId.nunique() # 用户数量\n",
    "n_movies = ratings.movieId.nunique() # 电影数量\n",
    "n_users, n_movies"
   ]
  },
  {
   "cell_type": "markdown",
   "metadata": {
    "hidden": true
   },
   "source": [
    "This is the number of latent factors in each embedding."
   ]
  },
  {
   "cell_type": "code",
   "execution_count": 20,
   "metadata": {
    "ExecuteTime": {
     "end_time": "2018-07-25T01:12:35.586764Z",
     "start_time": "2018-07-25T01:12:35.583780Z"
    },
    "hidden": true
   },
   "outputs": [],
   "source": [
    "n_factors = 50"
   ]
  },
  {
   "cell_type": "code",
   "execution_count": 21,
   "metadata": {
    "ExecuteTime": {
     "end_time": "2018-07-25T01:12:37.010957Z",
     "start_time": "2018-07-25T01:12:37.006945Z"
    },
    "hidden": true
   },
   "outputs": [],
   "source": [
    "np.random.seed = 42"
   ]
  },
  {
   "cell_type": "markdown",
   "metadata": {
    "hidden": true
   },
   "source": [
    "Randomly split into training and validation."
   ]
  },
  {
   "cell_type": "code",
   "execution_count": 24,
   "metadata": {
    "ExecuteTime": {
     "end_time": "2018-07-25T01:13:50.715491Z",
     "start_time": "2018-07-25T01:13:50.710482Z"
    }
   },
   "outputs": [],
   "source": [
    "msk = np.random.rand(len(ratings)) < 0.8"
   ]
  },
  {
   "cell_type": "code",
   "execution_count": 25,
   "metadata": {
    "ExecuteTime": {
     "end_time": "2018-07-25T01:13:51.290148Z",
     "start_time": "2018-07-25T01:13:51.286150Z"
    }
   },
   "outputs": [
    {
     "data": {
      "text/plain": [
       "array([ True,  True,  True, ...,  True, False,  True])"
      ]
     },
     "execution_count": 25,
     "metadata": {},
     "output_type": "execute_result"
    }
   ],
   "source": [
    "msk"
   ]
  },
  {
   "cell_type": "code",
   "execution_count": 28,
   "metadata": {
    "ExecuteTime": {
     "end_time": "2018-07-25T01:19:15.624773Z",
     "start_time": "2018-07-25T01:19:15.615766Z"
    },
    "hidden": true
   },
   "outputs": [],
   "source": [
    "msk = np.random.rand(len(ratings)) < 0.8\n",
    "trn = ratings[msk] # 根据掩码选择\n",
    "val = ratings[~msk]"
   ]
  },
  {
   "cell_type": "markdown",
   "metadata": {
    "heading_collapsed": true
   },
   "source": [
    "## Create subset for Excel"
   ]
  },
  {
   "cell_type": "markdown",
   "metadata": {
    "hidden": true
   },
   "source": [
    "We create a crosstab of the most popular movies and most movie-addicted users which we'll copy into Excel for creating a simple example. This isn't necessary for any of the modeling below however.\n",
    "\n",
    "我们创建了最流行的电影和大多数电影成瘾用户的交叉表，我们将复制到Excel中，以创建一个简单的示例。然而，这对于下面的任何建模都是不必要的。"
   ]
  },
  {
   "cell_type": "code",
   "execution_count": 30,
   "metadata": {
    "ExecuteTime": {
     "end_time": "2018-07-25T01:25:43.082252Z",
     "start_time": "2018-07-25T01:25:43.074245Z"
    },
    "hidden": true
   },
   "outputs": [],
   "source": [
    "g=ratings.groupby('userId')['rating'].count()\n",
    "topUsers=g.sort_values(ascending=False)[:15]"
   ]
  },
  {
   "cell_type": "code",
   "execution_count": 31,
   "metadata": {
    "ExecuteTime": {
     "end_time": "2018-07-25T01:25:43.978734Z",
     "start_time": "2018-07-25T01:25:43.970728Z"
    },
    "hidden": true
   },
   "outputs": [],
   "source": [
    "g=ratings.groupby('movieId')['rating'].count()\n",
    "topMovies=g.sort_values(ascending=False)[:15]"
   ]
  },
  {
   "cell_type": "code",
   "execution_count": 33,
   "metadata": {
    "ExecuteTime": {
     "end_time": "2018-07-25T01:46:08.145910Z",
     "start_time": "2018-07-25T01:46:08.133904Z"
    },
    "hidden": true
   },
   "outputs": [],
   "source": [
    "top_r = ratings.join(topUsers, rsuffix='_r', how='inner', on='userId')"
   ]
  },
  {
   "cell_type": "code",
   "execution_count": 34,
   "metadata": {
    "ExecuteTime": {
     "end_time": "2018-07-25T01:46:09.204298Z",
     "start_time": "2018-07-25T01:46:09.197291Z"
    },
    "hidden": true
   },
   "outputs": [],
   "source": [
    "top_r = top_r.join(topMovies, rsuffix='_r', how='inner', on='movieId')"
   ]
  },
  {
   "cell_type": "code",
   "execution_count": 35,
   "metadata": {
    "ExecuteTime": {
     "end_time": "2018-07-25T01:46:10.481551Z",
     "start_time": "2018-07-25T01:46:10.448568Z"
    },
    "hidden": true,
    "scrolled": true
   },
   "outputs": [
    {
     "data": {
      "text/html": [
       "<div>\n",
       "<style scoped>\n",
       "    .dataframe tbody tr th:only-of-type {\n",
       "        vertical-align: middle;\n",
       "    }\n",
       "\n",
       "    .dataframe tbody tr th {\n",
       "        vertical-align: top;\n",
       "    }\n",
       "\n",
       "    .dataframe thead th {\n",
       "        text-align: right;\n",
       "    }\n",
       "</style>\n",
       "<table border=\"1\" class=\"dataframe\">\n",
       "  <thead>\n",
       "    <tr style=\"text-align: right;\">\n",
       "      <th>movieId</th>\n",
       "      <th>27</th>\n",
       "      <th>49</th>\n",
       "      <th>57</th>\n",
       "      <th>72</th>\n",
       "      <th>79</th>\n",
       "      <th>89</th>\n",
       "      <th>92</th>\n",
       "      <th>99</th>\n",
       "      <th>143</th>\n",
       "      <th>179</th>\n",
       "      <th>180</th>\n",
       "      <th>197</th>\n",
       "      <th>402</th>\n",
       "      <th>417</th>\n",
       "      <th>505</th>\n",
       "    </tr>\n",
       "    <tr>\n",
       "      <th>userId</th>\n",
       "      <th></th>\n",
       "      <th></th>\n",
       "      <th></th>\n",
       "      <th></th>\n",
       "      <th></th>\n",
       "      <th></th>\n",
       "      <th></th>\n",
       "      <th></th>\n",
       "      <th></th>\n",
       "      <th></th>\n",
       "      <th></th>\n",
       "      <th></th>\n",
       "      <th></th>\n",
       "      <th></th>\n",
       "      <th></th>\n",
       "    </tr>\n",
       "  </thead>\n",
       "  <tbody>\n",
       "    <tr>\n",
       "      <th>14</th>\n",
       "      <td>3.0</td>\n",
       "      <td>5.0</td>\n",
       "      <td>1.0</td>\n",
       "      <td>3.0</td>\n",
       "      <td>4.0</td>\n",
       "      <td>4.0</td>\n",
       "      <td>5.0</td>\n",
       "      <td>2.0</td>\n",
       "      <td>5.0</td>\n",
       "      <td>5.0</td>\n",
       "      <td>4.0</td>\n",
       "      <td>5.0</td>\n",
       "      <td>5.0</td>\n",
       "      <td>2.0</td>\n",
       "      <td>5.0</td>\n",
       "    </tr>\n",
       "    <tr>\n",
       "      <th>29</th>\n",
       "      <td>5.0</td>\n",
       "      <td>5.0</td>\n",
       "      <td>5.0</td>\n",
       "      <td>4.0</td>\n",
       "      <td>5.0</td>\n",
       "      <td>4.0</td>\n",
       "      <td>4.0</td>\n",
       "      <td>5.0</td>\n",
       "      <td>4.0</td>\n",
       "      <td>4.0</td>\n",
       "      <td>5.0</td>\n",
       "      <td>5.0</td>\n",
       "      <td>3.0</td>\n",
       "      <td>4.0</td>\n",
       "      <td>5.0</td>\n",
       "    </tr>\n",
       "    <tr>\n",
       "      <th>72</th>\n",
       "      <td>4.0</td>\n",
       "      <td>5.0</td>\n",
       "      <td>5.0</td>\n",
       "      <td>4.0</td>\n",
       "      <td>5.0</td>\n",
       "      <td>3.0</td>\n",
       "      <td>4.5</td>\n",
       "      <td>5.0</td>\n",
       "      <td>4.5</td>\n",
       "      <td>5.0</td>\n",
       "      <td>5.0</td>\n",
       "      <td>5.0</td>\n",
       "      <td>4.5</td>\n",
       "      <td>5.0</td>\n",
       "      <td>4.0</td>\n",
       "    </tr>\n",
       "    <tr>\n",
       "      <th>211</th>\n",
       "      <td>5.0</td>\n",
       "      <td>4.0</td>\n",
       "      <td>4.0</td>\n",
       "      <td>3.0</td>\n",
       "      <td>5.0</td>\n",
       "      <td>3.0</td>\n",
       "      <td>4.0</td>\n",
       "      <td>4.5</td>\n",
       "      <td>4.0</td>\n",
       "      <td>NaN</td>\n",
       "      <td>3.0</td>\n",
       "      <td>3.0</td>\n",
       "      <td>5.0</td>\n",
       "      <td>3.0</td>\n",
       "      <td>NaN</td>\n",
       "    </tr>\n",
       "    <tr>\n",
       "      <th>212</th>\n",
       "      <td>2.5</td>\n",
       "      <td>NaN</td>\n",
       "      <td>2.0</td>\n",
       "      <td>5.0</td>\n",
       "      <td>NaN</td>\n",
       "      <td>4.0</td>\n",
       "      <td>2.5</td>\n",
       "      <td>NaN</td>\n",
       "      <td>5.0</td>\n",
       "      <td>5.0</td>\n",
       "      <td>3.0</td>\n",
       "      <td>3.0</td>\n",
       "      <td>4.0</td>\n",
       "      <td>3.0</td>\n",
       "      <td>2.0</td>\n",
       "    </tr>\n",
       "    <tr>\n",
       "      <th>293</th>\n",
       "      <td>3.0</td>\n",
       "      <td>NaN</td>\n",
       "      <td>4.0</td>\n",
       "      <td>4.0</td>\n",
       "      <td>4.0</td>\n",
       "      <td>3.0</td>\n",
       "      <td>NaN</td>\n",
       "      <td>3.0</td>\n",
       "      <td>4.0</td>\n",
       "      <td>4.0</td>\n",
       "      <td>4.5</td>\n",
       "      <td>4.0</td>\n",
       "      <td>4.5</td>\n",
       "      <td>4.0</td>\n",
       "      <td>NaN</td>\n",
       "    </tr>\n",
       "    <tr>\n",
       "      <th>310</th>\n",
       "      <td>3.0</td>\n",
       "      <td>3.0</td>\n",
       "      <td>5.0</td>\n",
       "      <td>4.5</td>\n",
       "      <td>5.0</td>\n",
       "      <td>4.5</td>\n",
       "      <td>2.0</td>\n",
       "      <td>4.5</td>\n",
       "      <td>4.0</td>\n",
       "      <td>3.0</td>\n",
       "      <td>4.5</td>\n",
       "      <td>4.5</td>\n",
       "      <td>4.0</td>\n",
       "      <td>3.0</td>\n",
       "      <td>4.0</td>\n",
       "    </tr>\n",
       "    <tr>\n",
       "      <th>379</th>\n",
       "      <td>5.0</td>\n",
       "      <td>5.0</td>\n",
       "      <td>5.0</td>\n",
       "      <td>4.0</td>\n",
       "      <td>NaN</td>\n",
       "      <td>4.0</td>\n",
       "      <td>5.0</td>\n",
       "      <td>4.0</td>\n",
       "      <td>4.0</td>\n",
       "      <td>4.0</td>\n",
       "      <td>NaN</td>\n",
       "      <td>3.0</td>\n",
       "      <td>5.0</td>\n",
       "      <td>4.0</td>\n",
       "      <td>4.0</td>\n",
       "    </tr>\n",
       "    <tr>\n",
       "      <th>451</th>\n",
       "      <td>4.0</td>\n",
       "      <td>5.0</td>\n",
       "      <td>4.0</td>\n",
       "      <td>5.0</td>\n",
       "      <td>4.0</td>\n",
       "      <td>4.0</td>\n",
       "      <td>5.0</td>\n",
       "      <td>5.0</td>\n",
       "      <td>4.0</td>\n",
       "      <td>4.0</td>\n",
       "      <td>4.0</td>\n",
       "      <td>4.0</td>\n",
       "      <td>2.0</td>\n",
       "      <td>3.5</td>\n",
       "      <td>5.0</td>\n",
       "    </tr>\n",
       "    <tr>\n",
       "      <th>467</th>\n",
       "      <td>3.0</td>\n",
       "      <td>3.5</td>\n",
       "      <td>3.0</td>\n",
       "      <td>2.5</td>\n",
       "      <td>NaN</td>\n",
       "      <td>NaN</td>\n",
       "      <td>3.0</td>\n",
       "      <td>3.5</td>\n",
       "      <td>3.5</td>\n",
       "      <td>3.0</td>\n",
       "      <td>3.5</td>\n",
       "      <td>3.0</td>\n",
       "      <td>3.0</td>\n",
       "      <td>4.0</td>\n",
       "      <td>4.0</td>\n",
       "    </tr>\n",
       "    <tr>\n",
       "      <th>508</th>\n",
       "      <td>5.0</td>\n",
       "      <td>5.0</td>\n",
       "      <td>4.0</td>\n",
       "      <td>3.0</td>\n",
       "      <td>5.0</td>\n",
       "      <td>2.0</td>\n",
       "      <td>4.0</td>\n",
       "      <td>4.0</td>\n",
       "      <td>5.0</td>\n",
       "      <td>5.0</td>\n",
       "      <td>5.0</td>\n",
       "      <td>3.0</td>\n",
       "      <td>4.5</td>\n",
       "      <td>3.0</td>\n",
       "      <td>4.5</td>\n",
       "    </tr>\n",
       "    <tr>\n",
       "      <th>546</th>\n",
       "      <td>NaN</td>\n",
       "      <td>5.0</td>\n",
       "      <td>2.0</td>\n",
       "      <td>3.0</td>\n",
       "      <td>5.0</td>\n",
       "      <td>NaN</td>\n",
       "      <td>5.0</td>\n",
       "      <td>5.0</td>\n",
       "      <td>NaN</td>\n",
       "      <td>2.5</td>\n",
       "      <td>2.0</td>\n",
       "      <td>3.5</td>\n",
       "      <td>3.5</td>\n",
       "      <td>3.5</td>\n",
       "      <td>5.0</td>\n",
       "    </tr>\n",
       "    <tr>\n",
       "      <th>563</th>\n",
       "      <td>1.0</td>\n",
       "      <td>5.0</td>\n",
       "      <td>3.0</td>\n",
       "      <td>5.0</td>\n",
       "      <td>4.0</td>\n",
       "      <td>5.0</td>\n",
       "      <td>5.0</td>\n",
       "      <td>NaN</td>\n",
       "      <td>2.0</td>\n",
       "      <td>5.0</td>\n",
       "      <td>5.0</td>\n",
       "      <td>3.0</td>\n",
       "      <td>3.0</td>\n",
       "      <td>4.0</td>\n",
       "      <td>5.0</td>\n",
       "    </tr>\n",
       "    <tr>\n",
       "      <th>579</th>\n",
       "      <td>4.5</td>\n",
       "      <td>4.5</td>\n",
       "      <td>3.5</td>\n",
       "      <td>3.0</td>\n",
       "      <td>4.0</td>\n",
       "      <td>4.5</td>\n",
       "      <td>4.0</td>\n",
       "      <td>4.0</td>\n",
       "      <td>4.0</td>\n",
       "      <td>4.0</td>\n",
       "      <td>3.5</td>\n",
       "      <td>3.0</td>\n",
       "      <td>4.5</td>\n",
       "      <td>4.0</td>\n",
       "      <td>4.5</td>\n",
       "    </tr>\n",
       "    <tr>\n",
       "      <th>623</th>\n",
       "      <td>NaN</td>\n",
       "      <td>5.0</td>\n",
       "      <td>3.0</td>\n",
       "      <td>3.0</td>\n",
       "      <td>NaN</td>\n",
       "      <td>3.0</td>\n",
       "      <td>5.0</td>\n",
       "      <td>NaN</td>\n",
       "      <td>5.0</td>\n",
       "      <td>5.0</td>\n",
       "      <td>5.0</td>\n",
       "      <td>5.0</td>\n",
       "      <td>2.0</td>\n",
       "      <td>5.0</td>\n",
       "      <td>4.0</td>\n",
       "    </tr>\n",
       "  </tbody>\n",
       "</table>\n",
       "</div>"
      ],
      "text/plain": [
       "movieId  27   49   57   72   79   89   92   99   143  179  180  197  402  417  \\\n",
       "userId                                                                          \n",
       "14       3.0  5.0  1.0  3.0  4.0  4.0  5.0  2.0  5.0  5.0  4.0  5.0  5.0  2.0   \n",
       "29       5.0  5.0  5.0  4.0  5.0  4.0  4.0  5.0  4.0  4.0  5.0  5.0  3.0  4.0   \n",
       "72       4.0  5.0  5.0  4.0  5.0  3.0  4.5  5.0  4.5  5.0  5.0  5.0  4.5  5.0   \n",
       "211      5.0  4.0  4.0  3.0  5.0  3.0  4.0  4.5  4.0  NaN  3.0  3.0  5.0  3.0   \n",
       "212      2.5  NaN  2.0  5.0  NaN  4.0  2.5  NaN  5.0  5.0  3.0  3.0  4.0  3.0   \n",
       "293      3.0  NaN  4.0  4.0  4.0  3.0  NaN  3.0  4.0  4.0  4.5  4.0  4.5  4.0   \n",
       "310      3.0  3.0  5.0  4.5  5.0  4.5  2.0  4.5  4.0  3.0  4.5  4.5  4.0  3.0   \n",
       "379      5.0  5.0  5.0  4.0  NaN  4.0  5.0  4.0  4.0  4.0  NaN  3.0  5.0  4.0   \n",
       "451      4.0  5.0  4.0  5.0  4.0  4.0  5.0  5.0  4.0  4.0  4.0  4.0  2.0  3.5   \n",
       "467      3.0  3.5  3.0  2.5  NaN  NaN  3.0  3.5  3.5  3.0  3.5  3.0  3.0  4.0   \n",
       "508      5.0  5.0  4.0  3.0  5.0  2.0  4.0  4.0  5.0  5.0  5.0  3.0  4.5  3.0   \n",
       "546      NaN  5.0  2.0  3.0  5.0  NaN  5.0  5.0  NaN  2.5  2.0  3.5  3.5  3.5   \n",
       "563      1.0  5.0  3.0  5.0  4.0  5.0  5.0  NaN  2.0  5.0  5.0  3.0  3.0  4.0   \n",
       "579      4.5  4.5  3.5  3.0  4.0  4.5  4.0  4.0  4.0  4.0  3.5  3.0  4.5  4.0   \n",
       "623      NaN  5.0  3.0  3.0  NaN  3.0  5.0  NaN  5.0  5.0  5.0  5.0  2.0  5.0   \n",
       "\n",
       "movieId  505  \n",
       "userId        \n",
       "14       5.0  \n",
       "29       5.0  \n",
       "72       4.0  \n",
       "211      NaN  \n",
       "212      2.0  \n",
       "293      NaN  \n",
       "310      4.0  \n",
       "379      4.0  \n",
       "451      5.0  \n",
       "467      4.0  \n",
       "508      4.5  \n",
       "546      5.0  \n",
       "563      5.0  \n",
       "579      4.5  \n",
       "623      4.0  "
      ]
     },
     "execution_count": 35,
     "metadata": {},
     "output_type": "execute_result"
    }
   ],
   "source": [
    "pd.crosstab(top_r.userId, top_r.movieId, top_r.rating, aggfunc=np.sum)"
   ]
  },
  {
   "cell_type": "markdown",
   "metadata": {
    "collapsed": true,
    "heading_collapsed": true
   },
   "source": [
    "## Dot product"
   ]
  },
  {
   "cell_type": "markdown",
   "metadata": {
    "hidden": true
   },
   "source": [
    "The most basic model is a dot product of a movie embedding and a user embedding. Let's see how well that works:"
   ]
  },
  {
   "cell_type": "code",
   "execution_count": 37,
   "metadata": {
    "ExecuteTime": {
     "end_time": "2018-07-25T02:28:09.054327Z",
     "start_time": "2018-07-25T02:28:09.025345Z"
    }
   },
   "outputs": [],
   "source": [
    "user_in = Input(shape=(1,),dtype='int64',name='user_in')\n",
    "u = Embedding(n_users,n_factors,input_length=1,embeddings_regularizer=l2(l=1e-4))(user_in)\n",
    "movie_in = Input(shape=(1,),dtype='int64',name='movie_in')\n",
    "m = Embedding(n_movies,n_factors,input_length=1,embeddings_regularizer=l2(l=1e-4))(movie_in)"
   ]
  },
  {
   "cell_type": "code",
   "execution_count": 39,
   "metadata": {
    "ExecuteTime": {
     "end_time": "2018-07-25T02:29:51.527273Z",
     "start_time": "2018-07-25T02:29:51.521264Z"
    }
   },
   "outputs": [
    {
     "data": {
      "text/plain": [
       "(<tf.Tensor 'embedding_3/GatherV2:0' shape=(?, 1, 50) dtype=float32>,\n",
       " <tf.Tensor 'embedding_4/GatherV2:0' shape=(?, 1, 50) dtype=float32>)"
      ]
     },
     "execution_count": 39,
     "metadata": {},
     "output_type": "execute_result"
    }
   ],
   "source": [
    "u,m"
   ]
  },
  {
   "cell_type": "code",
   "execution_count": 115,
   "metadata": {
    "ExecuteTime": {
     "end_time": "2018-07-25T04:13:53.849876Z",
     "start_time": "2018-07-25T04:13:53.847877Z"
    }
   },
   "outputs": [],
   "source": [
    "from keras.layers import concatenate,dot"
   ]
  },
  {
   "cell_type": "code",
   "execution_count": 60,
   "metadata": {
    "ExecuteTime": {
     "end_time": "2018-07-25T02:49:48.227865Z",
     "start_time": "2018-07-25T02:49:48.193886Z"
    }
   },
   "outputs": [],
   "source": [
    "x = dot([u,m],axes=-1)\n",
    "x = Flatten()(x)\n",
    "model = Model(inputs=[user_in,movie_in],outputs=x)\n",
    "model.compile(Adam(0.001),loss='mse')"
   ]
  },
  {
   "cell_type": "code",
   "execution_count": 67,
   "metadata": {
    "ExecuteTime": {
     "end_time": "2018-07-25T02:57:40.607830Z",
     "start_time": "2018-07-25T02:57:27.579352Z"
    }
   },
   "outputs": [
    {
     "name": "stdout",
     "output_type": "stream",
     "text": [
      "Train on 80122 samples, validate on 19882 samples\n",
      "Epoch 1/1\n",
      "80122/80122 [==============================] - 13s 163us/step - loss: 2.7117 - val_loss: 2.7767\n"
     ]
    },
    {
     "data": {
      "text/plain": [
       "<keras.callbacks.History at 0x12a433e9390>"
      ]
     },
     "execution_count": 67,
     "metadata": {},
     "output_type": "execute_result"
    }
   ],
   "source": [
    "model.fit([trn.userId, trn.movieId],trn.rating,batch_size=64,epochs=1,\n",
    "          validation_data=([val.userId,val.movieId],val.rating))"
   ]
  },
  {
   "cell_type": "code",
   "execution_count": 68,
   "metadata": {
    "ExecuteTime": {
     "end_time": "2018-07-25T02:58:12.377145Z",
     "start_time": "2018-07-25T02:58:12.375147Z"
    }
   },
   "outputs": [],
   "source": [
    "model.optimizer.lr = 0.01"
   ]
  },
  {
   "cell_type": "code",
   "execution_count": 69,
   "metadata": {
    "ExecuteTime": {
     "end_time": "2018-07-25T02:59:00.680115Z",
     "start_time": "2018-07-25T02:58:21.434930Z"
    },
    "hidden": true
   },
   "outputs": [
    {
     "name": "stdout",
     "output_type": "stream",
     "text": [
      "Train on 80122 samples, validate on 19882 samples\n",
      "Epoch 1/3\n",
      "80122/80122 [==============================] - 13s 163us/step - loss: 2.3087 - val_loss: 2.6421\n",
      "Epoch 2/3\n",
      "80122/80122 [==============================] - 13s 164us/step - loss: 2.1869 - val_loss: 2.6042\n",
      "Epoch 3/3\n",
      "80122/80122 [==============================] - 13s 163us/step - loss: 2.1303 - val_loss: 2.6015\n"
     ]
    },
    {
     "data": {
      "text/plain": [
       "<keras.callbacks.History at 0x12a433f17b8>"
      ]
     },
     "execution_count": 69,
     "metadata": {},
     "output_type": "execute_result"
    }
   ],
   "source": [
    "model.fit([trn.userId, trn.movieId],trn.rating,batch_size=64,epochs=3,\n",
    "          validation_data=([val.userId,val.movieId],val.rating))"
   ]
  },
  {
   "cell_type": "code",
   "execution_count": 70,
   "metadata": {
    "ExecuteTime": {
     "end_time": "2018-07-25T02:59:37.787693Z",
     "start_time": "2018-07-25T02:59:37.783696Z"
    },
    "hidden": true
   },
   "outputs": [],
   "source": [
    "model.optimizer.lr=0.001"
   ]
  },
  {
   "cell_type": "code",
   "execution_count": 72,
   "metadata": {
    "ExecuteTime": {
     "end_time": "2018-07-25T03:01:11.557469Z",
     "start_time": "2018-07-25T02:59:54.598988Z"
    },
    "hidden": true
   },
   "outputs": [
    {
     "name": "stdout",
     "output_type": "stream",
     "text": [
      "Train on 80122 samples, validate on 19882 samples\n",
      "Epoch 1/6\n",
      "80122/80122 [==============================] - 14s 172us/step - loss: 2.0967 - val_loss: 2.6097\n",
      "Epoch 2/6\n",
      "80122/80122 [==============================] - 13s 158us/step - loss: 2.0714 - val_loss: 2.6081\n",
      "Epoch 3/6\n",
      "80122/80122 [==============================] - 12s 150us/step - loss: 2.0487 - val_loss: 2.6046\n",
      "Epoch 4/6\n",
      "80122/80122 [==============================] - 13s 157us/step - loss: 2.0289 - val_loss: 2.6200\n",
      "Epoch 5/6\n",
      "80122/80122 [==============================] - 13s 162us/step - loss: 2.0099 - val_loss: 2.6323\n",
      "Epoch 6/6\n",
      "80122/80122 [==============================] - 13s 162us/step - loss: 1.9913 - val_loss: 2.6468\n"
     ]
    },
    {
     "data": {
      "text/plain": [
       "<keras.callbacks.History at 0x12a433f16d8>"
      ]
     },
     "execution_count": 72,
     "metadata": {},
     "output_type": "execute_result"
    }
   ],
   "source": [
    "model.fit([trn.userId, trn.movieId],trn.rating,batch_size=64,epochs=6,\n",
    "          validation_data=([val.userId,val.movieId],val.rating))"
   ]
  },
  {
   "cell_type": "markdown",
   "metadata": {
    "hidden": true
   },
   "source": [
    "The [best benchmarks](http://www.librec.net/example.html) are a bit over 0.9, so this model doesn't seem to be working that well..."
   ]
  },
  {
   "cell_type": "markdown",
   "metadata": {
    "heading_collapsed": true
   },
   "source": [
    "##  Bias"
   ]
  },
  {
   "cell_type": "markdown",
   "metadata": {
    "hidden": true
   },
   "source": [
    "The problem is likely to be that we don't have bias terms - that is, a single bias for each user and each movie representing how positive or negative each user is, and how good each movie is. We can add that easily by simply creating an embedding with one output for each movie and each user, and adding it to our output."
   ]
  },
  {
   "cell_type": "code",
   "execution_count": 73,
   "metadata": {
    "ExecuteTime": {
     "end_time": "2018-07-25T03:12:24.910379Z",
     "start_time": "2018-07-25T03:12:24.906381Z"
    },
    "hidden": true
   },
   "outputs": [],
   "source": [
    "def embedding_input(name, n_in, n_out, reg):\n",
    "    inp = Input(shape=(1,), dtype='int64', name=name)\n",
    "    return inp, Embedding(n_in, n_out, input_length=1,embeddings_regularizer=l2(reg))(inp)"
   ]
  },
  {
   "cell_type": "code",
   "execution_count": 74,
   "metadata": {
    "ExecuteTime": {
     "end_time": "2018-07-25T03:12:27.593829Z",
     "start_time": "2018-07-25T03:12:27.564846Z"
    },
    "hidden": true
   },
   "outputs": [],
   "source": [
    "user_in, u = embedding_input('user_in', n_users, n_factors, 1e-4)\n",
    "movie_in, m = embedding_input('movie_in', n_movies, n_factors, 1e-4)"
   ]
  },
  {
   "cell_type": "code",
   "execution_count": 75,
   "metadata": {
    "ExecuteTime": {
     "end_time": "2018-07-25T03:12:33.311531Z",
     "start_time": "2018-07-25T03:12:33.308532Z"
    },
    "hidden": true
   },
   "outputs": [],
   "source": [
    "def create_bias(inp, n_in):\n",
    "    x = Embedding(n_in, 1, input_length=1)(inp)\n",
    "    return Flatten()(x)"
   ]
  },
  {
   "cell_type": "code",
   "execution_count": 76,
   "metadata": {
    "ExecuteTime": {
     "end_time": "2018-07-25T03:12:34.899624Z",
     "start_time": "2018-07-25T03:12:34.867631Z"
    },
    "hidden": true
   },
   "outputs": [],
   "source": [
    "ub = create_bias(user_in, n_users)\n",
    "mb = create_bias(movie_in, n_movies)"
   ]
  },
  {
   "cell_type": "code",
   "execution_count": 78,
   "metadata": {
    "ExecuteTime": {
     "end_time": "2018-07-25T03:16:16.300383Z",
     "start_time": "2018-07-25T03:16:16.296386Z"
    }
   },
   "outputs": [],
   "source": [
    "from keras.layers import add"
   ]
  },
  {
   "cell_type": "code",
   "execution_count": 80,
   "metadata": {
    "ExecuteTime": {
     "end_time": "2018-07-25T03:17:49.217503Z",
     "start_time": "2018-07-25T03:17:49.178515Z"
    },
    "hidden": true
   },
   "outputs": [],
   "source": [
    "x = dot([u,m],axes=-1)\n",
    "x = Flatten()(x)\n",
    "x = add([x,ub])\n",
    "x = add([x,mb])\n",
    "# x = merge([x, ub], mode='sum')\n",
    "# x = merge([x, mb], mode='sum')\n",
    "model = Model([user_in, movie_in], x)\n",
    "model.compile(Adam(0.001), loss='mse')"
   ]
  },
  {
   "cell_type": "code",
   "execution_count": 81,
   "metadata": {
    "ExecuteTime": {
     "end_time": "2018-07-25T03:18:16.431292Z",
     "start_time": "2018-07-25T03:18:02.225983Z"
    },
    "hidden": true
   },
   "outputs": [
    {
     "name": "stdout",
     "output_type": "stream",
     "text": [
      "Train on 80122 samples, validate on 19882 samples\n",
      "Epoch 1/1\n",
      "80122/80122 [==============================] - 14s 173us/step - loss: 8.7733 - val_loss: 3.5934\n"
     ]
    },
    {
     "data": {
      "text/plain": [
       "<keras.callbacks.History at 0x12a45018b00>"
      ]
     },
     "execution_count": 81,
     "metadata": {},
     "output_type": "execute_result"
    }
   ],
   "source": [
    "model.fit([trn.userId, trn.movieId],trn.rating,batch_size=64,epochs=1,\n",
    "          validation_data=([val.userId,val.movieId],val.rating))"
   ]
  },
  {
   "cell_type": "code",
   "execution_count": 82,
   "metadata": {
    "ExecuteTime": {
     "end_time": "2018-07-25T03:18:20.460966Z",
     "start_time": "2018-07-25T03:18:20.457969Z"
    },
    "hidden": true
   },
   "outputs": [],
   "source": [
    "model.optimizer.lr=0.01"
   ]
  },
  {
   "cell_type": "code",
   "execution_count": 83,
   "metadata": {
    "ExecuteTime": {
     "end_time": "2018-07-25T03:19:40.338225Z",
     "start_time": "2018-07-25T03:18:21.480378Z"
    },
    "hidden": true
   },
   "outputs": [
    {
     "name": "stdout",
     "output_type": "stream",
     "text": [
      "Train on 80122 samples, validate on 19882 samples\n",
      "Epoch 1/6\n",
      "80122/80122 [==============================] - 13s 163us/step - loss: 2.5713 - val_loss: 2.3622\n",
      "Epoch 2/6\n",
      "80122/80122 [==============================] - 13s 165us/step - loss: 1.9846 - val_loss: 2.1493\n",
      "Epoch 3/6\n",
      "80122/80122 [==============================] - 13s 165us/step - loss: 1.8246 - val_loss: 2.0501\n",
      "Epoch 4/6\n",
      "80122/80122 [==============================] - 13s 165us/step - loss: 1.7313 - val_loss: 1.9747\n",
      "Epoch 5/6\n",
      "80122/80122 [==============================] - 13s 163us/step - loss: 1.6522 - val_loss: 1.8996\n",
      "Epoch 6/6\n",
      "80122/80122 [==============================] - 13s 163us/step - loss: 1.5781 - val_loss: 1.8358\n"
     ]
    },
    {
     "data": {
      "text/plain": [
       "<keras.callbacks.History at 0x12a45018748>"
      ]
     },
     "execution_count": 83,
     "metadata": {},
     "output_type": "execute_result"
    }
   ],
   "source": [
    "model.fit([trn.userId, trn.movieId],trn.rating,batch_size=64,epochs=6,\n",
    "          validation_data=([val.userId,val.movieId],val.rating))"
   ]
  },
  {
   "cell_type": "code",
   "execution_count": 84,
   "metadata": {
    "ExecuteTime": {
     "end_time": "2018-07-25T03:19:42.884767Z",
     "start_time": "2018-07-25T03:19:42.880757Z"
    },
    "hidden": true
   },
   "outputs": [],
   "source": [
    "model.optimizer.lr=0.001"
   ]
  },
  {
   "cell_type": "code",
   "execution_count": 85,
   "metadata": {
    "ExecuteTime": {
     "end_time": "2018-07-25T03:22:01.373523Z",
     "start_time": "2018-07-25T03:19:53.799454Z"
    },
    "hidden": true
   },
   "outputs": [
    {
     "name": "stdout",
     "output_type": "stream",
     "text": [
      "Train on 80122 samples, validate on 19882 samples\n",
      "Epoch 1/10\n",
      "80122/80122 [==============================] - 14s 170us/step - loss: 1.5077 - val_loss: 1.7666\n",
      "Epoch 2/10\n",
      "80122/80122 [==============================] - 13s 158us/step - loss: 1.4385 - val_loss: 1.7082\n",
      "Epoch 3/10\n",
      "80122/80122 [==============================] - 13s 163us/step - loss: 1.3708 - val_loss: 1.6486\n",
      "Epoch 4/10\n",
      "80122/80122 [==============================] - 12s 150us/step - loss: 1.3057 - val_loss: 1.5895\n",
      "Epoch 5/10\n",
      "80122/80122 [==============================] - 12s 150us/step - loss: 1.2430 - val_loss: 1.5381\n",
      "Epoch 6/10\n",
      "80122/80122 [==============================] - 12s 150us/step - loss: 1.1818 - val_loss: 1.4861\n",
      "Epoch 7/10\n",
      "80122/80122 [==============================] - 12s 151us/step - loss: 1.1253 - val_loss: 1.4369\n",
      "Epoch 8/10\n",
      "80122/80122 [==============================] - 13s 166us/step - loss: 1.0701 - val_loss: 1.3911\n",
      "Epoch 9/10\n",
      "80122/80122 [==============================] - 13s 167us/step - loss: 1.0180 - val_loss: 1.3497\n",
      "Epoch 10/10\n",
      "80122/80122 [==============================] - 14s 169us/step - loss: 0.9695 - val_loss: 1.3109\n"
     ]
    },
    {
     "data": {
      "text/plain": [
       "<keras.callbacks.History at 0x12a45018fd0>"
      ]
     },
     "execution_count": 85,
     "metadata": {},
     "output_type": "execute_result"
    }
   ],
   "source": [
    "model.fit([trn.userId, trn.movieId],trn.rating,batch_size=64,epochs=10,\n",
    "          validation_data=([val.userId,val.movieId],val.rating))"
   ]
  },
  {
   "cell_type": "code",
   "execution_count": 86,
   "metadata": {
    "ExecuteTime": {
     "end_time": "2018-07-25T03:23:18.597943Z",
     "start_time": "2018-07-25T03:22:11.998390Z"
    },
    "hidden": true
   },
   "outputs": [
    {
     "name": "stdout",
     "output_type": "stream",
     "text": [
      "Train on 80122 samples, validate on 19882 samples\n",
      "Epoch 1/5\n",
      "80122/80122 [==============================] - 13s 164us/step - loss: 0.9236 - val_loss: 1.2765\n",
      "Epoch 2/5\n",
      "80122/80122 [==============================] - 13s 166us/step - loss: 0.8800 - val_loss: 1.2426\n",
      "Epoch 3/5\n",
      "80122/80122 [==============================] - 13s 167us/step - loss: 0.8401 - val_loss: 1.2120\n",
      "Epoch 4/5\n",
      "80122/80122 [==============================] - 13s 167us/step - loss: 0.8028 - val_loss: 1.1839\n",
      "Epoch 5/5\n",
      "80122/80122 [==============================] - 13s 167us/step - loss: 0.7685 - val_loss: 1.1574\n"
     ]
    },
    {
     "data": {
      "text/plain": [
       "<keras.callbacks.History at 0x12a43433d30>"
      ]
     },
     "execution_count": 86,
     "metadata": {},
     "output_type": "execute_result"
    }
   ],
   "source": [
    "model.fit([trn.userId, trn.movieId],trn.rating,batch_size=64,epochs=5,\n",
    "          validation_data=([val.userId,val.movieId],val.rating))"
   ]
  },
  {
   "cell_type": "markdown",
   "metadata": {
    "hidden": true
   },
   "source": [
    "This result is quite a bit better than the best benchmarks that we could find with a quick google search - so looks like a great approach!"
   ]
  },
  {
   "cell_type": "code",
   "execution_count": 87,
   "metadata": {
    "ExecuteTime": {
     "end_time": "2018-07-25T04:00:24.264828Z",
     "start_time": "2018-07-25T04:00:24.189872Z"
    },
    "hidden": true
   },
   "outputs": [],
   "source": [
    "model.save_weights(model_path+'bias.h5')"
   ]
  },
  {
   "cell_type": "code",
   "execution_count": 88,
   "metadata": {
    "ExecuteTime": {
     "end_time": "2018-07-25T04:00:25.735995Z",
     "start_time": "2018-07-25T04:00:25.685009Z"
    },
    "hidden": true
   },
   "outputs": [],
   "source": [
    "model.load_weights(model_path+'bias.h5')"
   ]
  },
  {
   "cell_type": "markdown",
   "metadata": {
    "hidden": true
   },
   "source": [
    "We can use the model to generate predictions by passing a pair of ints - a user id and a movie id. For instance, this predicts that user #3 would really enjoy movie #6."
   ]
  },
  {
   "cell_type": "code",
   "execution_count": 89,
   "metadata": {
    "ExecuteTime": {
     "end_time": "2018-07-25T04:00:40.750323Z",
     "start_time": "2018-07-25T04:00:40.699341Z"
    },
    "hidden": true
   },
   "outputs": [
    {
     "data": {
      "text/plain": [
       "array([[5.0156]], dtype=float32)"
      ]
     },
     "execution_count": 89,
     "metadata": {},
     "output_type": "execute_result"
    }
   ],
   "source": [
    "model.predict([np.array([3]), np.array([6])])"
   ]
  },
  {
   "cell_type": "markdown",
   "metadata": {
    "heading_collapsed": true
   },
   "source": [
    "## Analyze results"
   ]
  },
  {
   "cell_type": "markdown",
   "metadata": {
    "hidden": true
   },
   "source": [
    "To make the analysis of the factors more interesting, we'll restrict it to the top 2000 most popular movies."
   ]
  },
  {
   "cell_type": "code",
   "execution_count": 90,
   "metadata": {
    "ExecuteTime": {
     "end_time": "2018-07-25T04:00:56.833028Z",
     "start_time": "2018-07-25T04:00:56.821035Z"
    },
    "hidden": true
   },
   "outputs": [],
   "source": [
    "g=ratings.groupby('movieId')['rating'].count()\n",
    "topMovies=g.sort_values(ascending=False)[:2000]\n",
    "topMovies = np.array(topMovies.index)"
   ]
  },
  {
   "cell_type": "markdown",
   "metadata": {
    "hidden": true
   },
   "source": [
    "First, we'll look at the movie bias term. We create a 'model' - which in keras is simply a way of associating one or more inputs with one more more outputs, using the functional API. Here, our input is the movie id (a single id), and the output is the movie bias (a single float)."
   ]
  },
  {
   "cell_type": "code",
   "execution_count": 91,
   "metadata": {
    "ExecuteTime": {
     "end_time": "2018-07-25T04:00:58.826875Z",
     "start_time": "2018-07-25T04:00:58.761915Z"
    },
    "hidden": true
   },
   "outputs": [],
   "source": [
    "get_movie_bias = Model(movie_in, mb)\n",
    "movie_bias = get_movie_bias.predict(topMovies)\n",
    "movie_ratings = [(b[0], movie_names[movies[i]]) for i,b in zip(topMovies,movie_bias)]"
   ]
  },
  {
   "cell_type": "markdown",
   "metadata": {
    "hidden": true
   },
   "source": [
    "Now we can look at the top and bottom rated movies. These ratings are corrected for different levels of reviewer sentiment, as well as different types of movies that different reviewers watch."
   ]
  },
  {
   "cell_type": "code",
   "execution_count": 92,
   "metadata": {
    "ExecuteTime": {
     "end_time": "2018-07-25T04:01:01.056590Z",
     "start_time": "2018-07-25T04:01:01.050593Z"
    },
    "hidden": true
   },
   "outputs": [
    {
     "data": {
      "text/plain": [
       "[(-0.3377606, 'Battlefield Earth (2000)'),\n",
       " (-0.16329417, 'Spice World (1997)'),\n",
       " (-0.12423341, 'Super Mario Bros. (1993)'),\n",
       " (-0.039430667, 'Police Academy 6: City Under Siege (1989)'),\n",
       " (-0.034058627, 'Jaws 3-D (1983)'),\n",
       " (-0.022646721, 'Batman & Robin (1997)'),\n",
       " (-0.020173633, 'Speed 2: Cruise Control (1997)'),\n",
       " (-0.014736272, 'Blair Witch Project, The (1999)'),\n",
       " (-0.00803195, 'Little Nicky (2000)'),\n",
       " (-0.0033399381, 'Blade: Trinity (2004)'),\n",
       " (0.0053167907, '2 Fast 2 Furious (Fast and the Furious 2, The) (2003)'),\n",
       " (0.0413225, 'Haunting, The (1999)'),\n",
       " (0.05818251, 'Along Came Polly (2004)'),\n",
       " (0.07360298, 'Howard the Duck (1986)'),\n",
       " (0.07716897, 'Two Weeks Notice (2002)')]"
      ]
     },
     "execution_count": 92,
     "metadata": {},
     "output_type": "execute_result"
    }
   ],
   "source": [
    "sorted(movie_ratings, key=itemgetter(0))[:15]"
   ]
  },
  {
   "cell_type": "code",
   "execution_count": 93,
   "metadata": {
    "ExecuteTime": {
     "end_time": "2018-07-25T04:01:06.696346Z",
     "start_time": "2018-07-25T04:01:06.690338Z"
    },
    "hidden": true
   },
   "outputs": [
    {
     "data": {
      "text/plain": [
       "[(1.5483762, 'Band of Brothers (2001)'),\n",
       " (1.5401652, 'Rush (2013)'),\n",
       " (1.3669611, 'Persuasion (1995)'),\n",
       " (1.3638587, 'Argo (2012)'),\n",
       " (1.3486843, 'Harry Potter and the Deathly Hallows: Part 2 (2011)'),\n",
       " (1.3416677, 'Shawshank Redemption, The (1994)'),\n",
       " (1.3413043, 'My Neighbor Totoro (Tonari no Totoro) (1988)'),\n",
       " (1.3345023, 'Screamers (1995)'),\n",
       " (1.3299537, 'The Imitation Game (2014)'),\n",
       " (1.3193895, 'Letters from Iwo Jima (2006)'),\n",
       " (1.2920517,\n",
       "  'Fog of War: Eleven Lessons from the Life of Robert S. McNamara, The (2003)'),\n",
       " (1.2794948, \"Howl's Moving Castle (Hauru no ugoku shiro) (2004)\"),\n",
       " (1.2788278, 'Cyrano de Bergerac (1990)'),\n",
       " (1.2758762, 'Ideal Husband, An (1999)'),\n",
       " (1.2711589, 'Gold Rush, The (1925)')]"
      ]
     },
     "execution_count": 93,
     "metadata": {},
     "output_type": "execute_result"
    }
   ],
   "source": [
    "sorted(movie_ratings, key=itemgetter(0), reverse=True)[:15]"
   ]
  },
  {
   "cell_type": "markdown",
   "metadata": {
    "hidden": true
   },
   "source": [
    "We can now do the same thing for the embeddings."
   ]
  },
  {
   "cell_type": "code",
   "execution_count": 94,
   "metadata": {
    "ExecuteTime": {
     "end_time": "2018-07-25T04:01:11.071807Z",
     "start_time": "2018-07-25T04:01:11.010843Z"
    },
    "hidden": true
   },
   "outputs": [
    {
     "data": {
      "text/plain": [
       "(2000, 50)"
      ]
     },
     "execution_count": 94,
     "metadata": {},
     "output_type": "execute_result"
    }
   ],
   "source": [
    "get_movie_emb = Model(movie_in, m)\n",
    "movie_emb = np.squeeze(get_movie_emb.predict([topMovies]))\n",
    "movie_emb.shape"
   ]
  },
  {
   "cell_type": "markdown",
   "metadata": {
    "hidden": true
   },
   "source": [
    "Because it's hard to interpret 50 embeddings, we use [PCA](https://plot.ly/ipython-notebooks/principal-component-analysis/) to simplify them down to just 3 vectors. "
   ]
  },
  {
   "cell_type": "code",
   "execution_count": 95,
   "metadata": {
    "ExecuteTime": {
     "end_time": "2018-07-25T04:01:12.921917Z",
     "start_time": "2018-07-25T04:01:12.808996Z"
    },
    "hidden": true
   },
   "outputs": [],
   "source": [
    "from sklearn.decomposition import PCA\n",
    "pca = PCA(n_components=3)\n",
    "movie_pca = pca.fit(movie_emb.T).components_"
   ]
  },
  {
   "cell_type": "code",
   "execution_count": 96,
   "metadata": {
    "ExecuteTime": {
     "end_time": "2018-07-25T04:01:14.326757Z",
     "start_time": "2018-07-25T04:01:14.323761Z"
    },
    "hidden": true
   },
   "outputs": [],
   "source": [
    "fac0 = movie_pca[0]"
   ]
  },
  {
   "cell_type": "code",
   "execution_count": 97,
   "metadata": {
    "ExecuteTime": {
     "end_time": "2018-07-25T04:01:16.200675Z",
     "start_time": "2018-07-25T04:01:16.195691Z"
    },
    "hidden": true
   },
   "outputs": [],
   "source": [
    "movie_comp = [(f, movie_names[movies[i]]) for f,i in zip(fac0, topMovies)]"
   ]
  },
  {
   "cell_type": "markdown",
   "metadata": {
    "hidden": true
   },
   "source": [
    "Here's the 1st component. It seems to be 'critically acclaimed' or 'classic'."
   ]
  },
  {
   "cell_type": "code",
   "execution_count": 98,
   "metadata": {
    "ExecuteTime": {
     "end_time": "2018-07-25T04:01:17.648840Z",
     "start_time": "2018-07-25T04:01:17.642843Z"
    },
    "hidden": true
   },
   "outputs": [
    {
     "data": {
      "text/plain": [
       "[(0.05214794, 'Shawshank Redemption, The (1994)'),\n",
       " (0.050092004, \"Schindler's List (1993)\"),\n",
       " (0.049988735, \"Amelie (Fabuleux destin d'Amélie Poulain, Le) (2001)\"),\n",
       " (0.04991901, 'Lord of the Rings: The Fellowship of the Ring, The (2001)'),\n",
       " (0.04969838, 'Wallace & Gromit: The Wrong Trousers (1993)'),\n",
       " (0.04959982, 'American History X (1998)'),\n",
       " (0.049550284, 'Usual Suspects, The (1995)'),\n",
       " (0.0492034, 'Lord of the Rings: The Two Towers, The (2002)'),\n",
       " (0.04842513, 'Wallace & Gromit: A Close Shave (1995)'),\n",
       " (0.048072565, 'Pulp Fiction (1994)')]"
      ]
     },
     "execution_count": 98,
     "metadata": {},
     "output_type": "execute_result"
    }
   ],
   "source": [
    "sorted(movie_comp, key=itemgetter(0), reverse=True)[:10]"
   ]
  },
  {
   "cell_type": "code",
   "execution_count": 99,
   "metadata": {
    "ExecuteTime": {
     "end_time": "2018-07-25T04:01:20.104435Z",
     "start_time": "2018-07-25T04:01:20.098426Z"
    },
    "hidden": true
   },
   "outputs": [
    {
     "data": {
      "text/plain": [
       "[(-0.014278802, 'Anaconda (1997)'),\n",
       " (-0.012276836, 'Blade: Trinity (2004)'),\n",
       " (-0.010605202, 'Grease 2 (1982)'),\n",
       " (-0.010180373, 'RoboCop 3 (1993)'),\n",
       " (-0.009895297, 'Police Academy 3: Back in Training (1986)'),\n",
       " (-0.0094593195, 'House on Haunted Hill (1999)'),\n",
       " (-0.008171261, 'Police Academy 5: Assignment: Miami Beach (1988)'),\n",
       " (-0.007816164, 'Howard the Duck (1986)'),\n",
       " (-0.0077238786, '2012 (2009)'),\n",
       " (-0.007302758, 'Battlefield Earth (2000)')]"
      ]
     },
     "execution_count": 99,
     "metadata": {},
     "output_type": "execute_result"
    }
   ],
   "source": [
    "sorted(movie_comp, key=itemgetter(0))[:10]"
   ]
  },
  {
   "cell_type": "code",
   "execution_count": 100,
   "metadata": {
    "ExecuteTime": {
     "end_time": "2018-07-25T04:01:21.944372Z",
     "start_time": "2018-07-25T04:01:21.940362Z"
    },
    "hidden": true
   },
   "outputs": [],
   "source": [
    "fac1 = movie_pca[1]"
   ]
  },
  {
   "cell_type": "code",
   "execution_count": 101,
   "metadata": {
    "ExecuteTime": {
     "end_time": "2018-07-25T04:01:23.432501Z",
     "start_time": "2018-07-25T04:01:23.428504Z"
    },
    "hidden": true
   },
   "outputs": [],
   "source": [
    "movie_comp = [(f, movie_names[movies[i]]) for f,i in zip(fac1, topMovies)]"
   ]
  },
  {
   "cell_type": "markdown",
   "metadata": {
    "hidden": true
   },
   "source": [
    "The 2nd is 'hollywood blockbuster'."
   ]
  },
  {
   "cell_type": "code",
   "execution_count": 102,
   "metadata": {
    "ExecuteTime": {
     "end_time": "2018-07-25T04:01:26.977455Z",
     "start_time": "2018-07-25T04:01:26.972457Z"
    },
    "hidden": true
   },
   "outputs": [
    {
     "data": {
      "text/plain": [
       "[(0.06689267, 'Annie Hall (1977)'),\n",
       " (0.06380147, 'Apocalypse Now (1979)'),\n",
       " (0.06151806, 'Brokeback Mountain (2005)'),\n",
       " (0.06138677, 'Manhattan (1979)'),\n",
       " (0.054900203, 'Bringing Up Baby (1938)'),\n",
       " (0.054809235, 'City Lights (1931)'),\n",
       " (0.053026542, 'Lost in Translation (2003)'),\n",
       " (0.052982133, 'Clockwork Orange, A (1971)'),\n",
       " (0.052212186, 'Wild Bunch, The (1969)'),\n",
       " (0.04853336, 'Vertigo (1958)')]"
      ]
     },
     "execution_count": 102,
     "metadata": {},
     "output_type": "execute_result"
    }
   ],
   "source": [
    "sorted(movie_comp, key=itemgetter(0), reverse=True)[:10]"
   ]
  },
  {
   "cell_type": "code",
   "execution_count": 103,
   "metadata": {
    "ExecuteTime": {
     "end_time": "2018-07-25T04:01:29.329096Z",
     "start_time": "2018-07-25T04:01:29.323101Z"
    },
    "hidden": true,
    "scrolled": true
   },
   "outputs": [
    {
     "data": {
      "text/plain": [
       "[(-0.095105715, 'Independence Day (a.k.a. ID4) (1996)'),\n",
       " (-0.0777767, 'Ghost (1990)'),\n",
       " (-0.077221036, 'Armageddon (1998)'),\n",
       " (-0.07186464, 'Rock, The (1996)'),\n",
       " (-0.07161426, 'Jurassic Park (1993)'),\n",
       " (-0.07138399, 'Home Alone (1990)'),\n",
       " (-0.0712148, 'Braveheart (1995)'),\n",
       " (-0.070748724, 'Outbreak (1995)'),\n",
       " (-0.07071171, 'Ace Ventura: Pet Detective (1994)'),\n",
       " (-0.06974, 'Stargate (1994)')]"
      ]
     },
     "execution_count": 103,
     "metadata": {},
     "output_type": "execute_result"
    }
   ],
   "source": [
    "sorted(movie_comp, key=itemgetter(0))[:10]"
   ]
  },
  {
   "cell_type": "code",
   "execution_count": 104,
   "metadata": {
    "ExecuteTime": {
     "end_time": "2018-07-25T04:01:31.047105Z",
     "start_time": "2018-07-25T04:01:31.044120Z"
    },
    "hidden": true
   },
   "outputs": [],
   "source": [
    "fac2 = movie_pca[2]"
   ]
  },
  {
   "cell_type": "code",
   "execution_count": 105,
   "metadata": {
    "ExecuteTime": {
     "end_time": "2018-07-25T04:01:32.160476Z",
     "start_time": "2018-07-25T04:01:32.155481Z"
    },
    "hidden": true
   },
   "outputs": [],
   "source": [
    "movie_comp = [(f, movie_names[movies[i]]) for f,i in zip(fac2, topMovies)]"
   ]
  },
  {
   "cell_type": "markdown",
   "metadata": {
    "hidden": true
   },
   "source": [
    "The 3rd is 'violent vs happy'."
   ]
  },
  {
   "cell_type": "code",
   "execution_count": 106,
   "metadata": {
    "ExecuteTime": {
     "end_time": "2018-07-25T04:01:37.800207Z",
     "start_time": "2018-07-25T04:01:37.795211Z"
    },
    "hidden": true
   },
   "outputs": [
    {
     "data": {
      "text/plain": [
       "[(0.08448946, 'American Psycho (2000)'),\n",
       " (0.08447538, 'Fight Club (1999)'),\n",
       " (0.071418114, 'Game, The (1997)'),\n",
       " (0.06632109, 'Prestige, The (2006)'),\n",
       " (0.06524113,\n",
       "  'Léon: The Professional (a.k.a. The Professional) (Léon) (1994)'),\n",
       " (0.06467711, 'Guardians of the Galaxy (2014)'),\n",
       " (0.063826844, 'Natural Born Killers (1994)'),\n",
       " (0.06333853, 'Eyes Wide Shut (1999)'),\n",
       " (0.06290848, '300 (2007)'),\n",
       " (0.06154945, 'Seven (a.k.a. Se7en) (1995)')]"
      ]
     },
     "execution_count": 106,
     "metadata": {},
     "output_type": "execute_result"
    }
   ],
   "source": [
    "sorted(movie_comp, key=itemgetter(0), reverse=True)[:10]"
   ]
  },
  {
   "cell_type": "code",
   "execution_count": 107,
   "metadata": {
    "ExecuteTime": {
     "end_time": "2018-07-25T04:01:39.809059Z",
     "start_time": "2018-07-25T04:01:39.803064Z"
    },
    "hidden": true
   },
   "outputs": [
    {
     "data": {
      "text/plain": [
       "[(-0.103665, 'Babe (1995)'),\n",
       " (-0.10113311, 'Beauty and the Beast (1991)'),\n",
       " (-0.08262184, 'Wallace & Gromit: The Best of Aardman Animation (1996)'),\n",
       " (-0.078764446, 'Sabrina (1995)'),\n",
       " (-0.073001154, 'Wallace & Gromit: The Wrong Trousers (1993)'),\n",
       " (-0.07183744, 'Aladdin (1992)'),\n",
       " (-0.06686749, 'Bend It Like Beckham (2002)'),\n",
       " (-0.06625366, 'Legally Blonde (2001)'),\n",
       " (-0.06588883, 'Gone with the Wind (1939)'),\n",
       " (-0.0657832, 'Wallace & Gromit: A Close Shave (1995)')]"
      ]
     },
     "execution_count": 107,
     "metadata": {},
     "output_type": "execute_result"
    }
   ],
   "source": [
    "sorted(movie_comp, key=itemgetter(0))[:10]"
   ]
  },
  {
   "cell_type": "markdown",
   "metadata": {
    "hidden": true
   },
   "source": [
    "We can draw a picture to see how various movies appear on the map of these components. This picture shows the 1st and 3rd components."
   ]
  },
  {
   "cell_type": "code",
   "execution_count": 110,
   "metadata": {
    "ExecuteTime": {
     "end_time": "2018-07-25T04:01:57.145040Z",
     "start_time": "2018-07-25T04:01:57.141042Z"
    },
    "hidden": true
   },
   "outputs": [],
   "source": [
    "import sys\n",
    "stdout, stderr = sys.stdout, sys.stderr # save notebook stdout and stderr\n",
    "sys.stdout, sys.stderr = stdout, stderr # restore notebook stdout and stderr"
   ]
  },
  {
   "cell_type": "code",
   "execution_count": 111,
   "metadata": {
    "ExecuteTime": {
     "end_time": "2018-07-25T04:01:59.218841Z",
     "start_time": "2018-07-25T04:01:58.755124Z"
    },
    "hidden": true
   },
   "outputs": [
    {
     "data": {
      "image/png": "[encoded data removed]",
      "text/plain": [
       "<matplotlib.figure.Figure at 0x12a48fda128>"
      ]
     },
     "metadata": {},
     "output_type": "display_data"
    }
   ],
   "source": [
    "start=50; end=100\n",
    "X = fac0[start:end]\n",
    "Y = fac2[start:end]\n",
    "plt.figure(figsize=(15,15))\n",
    "plt.scatter(X, Y)\n",
    "for i, x, y in zip(topMovies[start:end], X, Y):\n",
    "    plt.text(x,y,movie_names[movies[i]], color=np.random.rand(3)*0.7, fontsize=14)\n",
    "plt.show()"
   ]
  },
  {
   "cell_type": "markdown",
   "metadata": {},
   "source": [
    "##  Neural net"
   ]
  },
  {
   "cell_type": "markdown",
   "metadata": {},
   "source": [
    "Rather than creating a special purpose architecture (like our dot-product with bias earlier), it's often both easier and more accurate to use a standard neural network. Let's try it! Here, we simply concatenate the user and movie embeddings into a single vector, which we feed into the neural net."
   ]
  },
  {
   "cell_type": "code",
   "execution_count": 112,
   "metadata": {
    "ExecuteTime": {
     "end_time": "2018-07-25T04:02:04.175980Z",
     "start_time": "2018-07-25T04:02:04.148996Z"
    }
   },
   "outputs": [],
   "source": [
    "user_in, u = embedding_input('user_in', n_users, n_factors, 1e-4)\n",
    "movie_in, m = embedding_input('movie_in', n_movies, n_factors, 1e-4)"
   ]
  },
  {
   "cell_type": "code",
   "execution_count": 116,
   "metadata": {
    "ExecuteTime": {
     "end_time": "2018-07-25T04:14:24.937277Z",
     "start_time": "2018-07-25T04:14:24.855310Z"
    }
   },
   "outputs": [],
   "source": [
    "#x = merge([u, m], mode='concat')\n",
    "x = concatenate([u,m])\n",
    "x = Flatten()(x)\n",
    "x = Dropout(0.3)(x)\n",
    "x = Dense(70, activation='relu')(x)\n",
    "x = Dropout(0.75)(x)\n",
    "x = Dense(1)(x)\n",
    "nn = Model([user_in, movie_in], x)\n",
    "nn.compile(Adam(0.001), loss='mse')"
   ]
  },
  {
   "cell_type": "code",
   "execution_count": 117,
   "metadata": {
    "ExecuteTime": {
     "end_time": "2018-07-25T04:16:16.172050Z",
     "start_time": "2018-07-25T04:14:27.790629Z"
    }
   },
   "outputs": [
    {
     "name": "stdout",
     "output_type": "stream",
     "text": [
      "Train on 80122 samples, validate on 19882 samples\n",
      "Epoch 1/8\n",
      "80122/80122 [==============================] - 14s 175us/step - loss: 2.4320 - val_loss: 0.8949\n",
      "Epoch 2/8\n",
      "80122/80122 [==============================] - 13s 165us/step - loss: 1.4543 - val_loss: 0.8946\n",
      "Epoch 3/8\n",
      "80122/80122 [==============================] - 14s 169us/step - loss: 1.2092 - val_loss: 0.8621\n",
      "Epoch 4/8\n",
      "80122/80122 [==============================] - 13s 168us/step - loss: 1.0228 - val_loss: 0.8490\n",
      "Epoch 5/8\n",
      "80122/80122 [==============================] - 13s 166us/step - loss: 0.9093 - val_loss: 0.8474\n",
      "Epoch 6/8\n",
      "80122/80122 [==============================] - 14s 173us/step - loss: 0.8437 - val_loss: 0.8405\n",
      "Epoch 7/8\n",
      "80122/80122 [==============================] - 13s 167us/step - loss: 0.8154 - val_loss: 0.8389\n",
      "Epoch 8/8\n",
      "80122/80122 [==============================] - 13s 160us/step - loss: 0.8075 - val_loss: 0.8397\n"
     ]
    },
    {
     "data": {
      "text/plain": [
       "<keras.callbacks.History at 0x12a48fd5e80>"
      ]
     },
     "execution_count": 117,
     "metadata": {},
     "output_type": "execute_result"
    }
   ],
   "source": [
    "nn.fit([trn.userId, trn.movieId], trn.rating, batch_size=64,epochs=8, \n",
    "          validation_data=([val.userId, val.movieId], val.rating))"
   ]
  },
  {
   "cell_type": "markdown",
   "metadata": {},
   "source": [
    "This improves on our already impressive accuracy even further!"
   ]
  }
 ],
 "metadata": {
  "kernelspec": {
   "display_name": "Python 3",
   "language": "python",
   "name": "python3"
  },
  "language_info": {
   "codemirror_mode": {
    "name": "ipython",
    "version": 3
   },
   "file_extension": ".py",
   "mimetype": "text/x-python",
   "name": "python",
   "nbconvert_exporter": "python",
   "pygments_lexer": "ipython3",
   "version": "3.6.5"
  },
  "toc": {
   "base_numbering": 1,
   "nav_menu": {},
   "number_sections": true,
   "sideBar": true,
   "skip_h1_title": false,
   "title_cell": "Table of Contents",
   "title_sidebar": "Contents",
   "toc_cell": false,
   "toc_position": {},
   "toc_section_display": true,
   "toc_window_display": true
  }
 },
 "nbformat": 4,
 "nbformat_minor": 1
}
