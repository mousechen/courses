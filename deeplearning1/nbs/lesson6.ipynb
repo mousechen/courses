{
 "cells": [
  {
   "cell_type": "markdown",
   "metadata": {
    "toc": true
   },
   "source": [
    "<h1>Table of Contents<span class=\"tocSkip\"></span></h1>\n",
    "<div class=\"toc\" style=\"margin-top: 1em;\"><ul class=\"toc-item\"><li><ul class=\"toc-item\"><li><span><a href=\"#Setup\" data-toc-modified-id=\"Setup-0.1\"><span class=\"toc-item-num\">0.1&nbsp;&nbsp;</span>Setup</a></span></li><li><span><a href=\"#3-char-model\" data-toc-modified-id=\"3-char-model-0.2\"><span class=\"toc-item-num\">0.2&nbsp;&nbsp;</span>3 char model</a></span><ul class=\"toc-item\"><li><span><a href=\"#Create-inputs\" data-toc-modified-id=\"Create-inputs-0.2.1\"><span class=\"toc-item-num\">0.2.1&nbsp;&nbsp;</span>Create inputs</a></span></li><li><span><a href=\"#Create-and-train-model\" data-toc-modified-id=\"Create-and-train-model-0.2.2\"><span class=\"toc-item-num\">0.2.2&nbsp;&nbsp;</span>Create and train model</a></span></li><li><span><a href=\"#Test-model\" data-toc-modified-id=\"Test-model-0.2.3\"><span class=\"toc-item-num\">0.2.3&nbsp;&nbsp;</span>Test model</a></span></li></ul></li><li><span><a href=\"#Our-first-RNN!\" data-toc-modified-id=\"Our-first-RNN!-0.3\"><span class=\"toc-item-num\">0.3&nbsp;&nbsp;</span>Our first RNN!</a></span><ul class=\"toc-item\"><li><span><a href=\"#Create-inputs\" data-toc-modified-id=\"Create-inputs-0.3.1\"><span class=\"toc-item-num\">0.3.1&nbsp;&nbsp;</span>Create inputs</a></span></li><li><span><a href=\"#Create-and-train-model\" data-toc-modified-id=\"Create-and-train-model-0.3.2\"><span class=\"toc-item-num\">0.3.2&nbsp;&nbsp;</span>Create and train model</a></span></li><li><span><a href=\"#Test-model\" data-toc-modified-id=\"Test-model-0.3.3\"><span class=\"toc-item-num\">0.3.3&nbsp;&nbsp;</span>Test model</a></span></li></ul></li><li><span><a href=\"#Our-first-RNN-with-keras!\" data-toc-modified-id=\"Our-first-RNN-with-keras!-0.4\"><span class=\"toc-item-num\">0.4&nbsp;&nbsp;</span>Our first RNN with keras!</a></span></li><li><span><a href=\"#Returning-sequences\" data-toc-modified-id=\"Returning-sequences-0.5\"><span class=\"toc-item-num\">0.5&nbsp;&nbsp;</span>Returning sequences</a></span><ul class=\"toc-item\"><li><span><a href=\"#Create-inputs\" data-toc-modified-id=\"Create-inputs-0.5.1\"><span class=\"toc-item-num\">0.5.1&nbsp;&nbsp;</span>Create inputs</a></span></li><li><span><a href=\"#Create-and-train-model\" data-toc-modified-id=\"Create-and-train-model-0.5.2\"><span class=\"toc-item-num\">0.5.2&nbsp;&nbsp;</span>Create and train model</a></span></li><li><span><a href=\"#Test-model\" data-toc-modified-id=\"Test-model-0.5.3\"><span class=\"toc-item-num\">0.5.3&nbsp;&nbsp;</span>Test model</a></span></li><li><span><a href=\"#Sequence-model-with-keras\" data-toc-modified-id=\"Sequence-model-with-keras-0.5.4\"><span class=\"toc-item-num\">0.5.4&nbsp;&nbsp;</span>Sequence model with keras</a></span></li><li><span><a href=\"#One-hot-sequence-model-with-keras\" data-toc-modified-id=\"One-hot-sequence-model-with-keras-0.5.5\"><span class=\"toc-item-num\">0.5.5&nbsp;&nbsp;</span>One-hot sequence model with keras</a></span></li></ul></li><li><span><a href=\"#Stateful-model-with-keras\" data-toc-modified-id=\"Stateful-model-with-keras-0.6\"><span class=\"toc-item-num\">0.6&nbsp;&nbsp;</span>Stateful model with keras</a></span></li><li><span><a href=\"#Pure-python-RNN!\" data-toc-modified-id=\"Pure-python-RNN!-0.7\"><span class=\"toc-item-num\">0.7&nbsp;&nbsp;</span>Pure python RNN!</a></span><ul class=\"toc-item\"><li><span><a href=\"#Set-up-basic-functions\" data-toc-modified-id=\"Set-up-basic-functions-0.7.1\"><span class=\"toc-item-num\">0.7.1&nbsp;&nbsp;</span>Set up basic functions</a></span></li><li><span><a href=\"#Set-up-training\" data-toc-modified-id=\"Set-up-training-0.7.2\"><span class=\"toc-item-num\">0.7.2&nbsp;&nbsp;</span>Set up training</a></span></li></ul></li><li><span><a href=\"#Keras-GRU\" data-toc-modified-id=\"Keras-GRU-0.8\"><span class=\"toc-item-num\">0.8&nbsp;&nbsp;</span>Keras GRU</a></span><ul class=\"toc-item\"><li><span><a href=\"#End\" data-toc-modified-id=\"End-0.8.1\"><span class=\"toc-item-num\">0.8.1&nbsp;&nbsp;</span>End</a></span></li></ul></li></ul></li></ul></div>"
   ]
  },
  {
   "cell_type": "code",
   "execution_count": 1,
   "metadata": {
    "ExecuteTime": {
     "end_time": "2018-08-02T13:47:52.390187Z",
     "start_time": "2018-08-02T13:47:49.218075Z"
    }
   },
   "outputs": [
    {
     "name": "stderr",
     "output_type": "stream",
     "text": [
      "/anaconda/lib/python3.6/site-packages/h5py/__init__.py:36: FutureWarning: Conversion of the second argument of issubdtype from `float` to `np.floating` is deprecated. In future, it will be treated as `np.float64 == np.dtype(float).type`.\n",
      "  from ._conv import register_converters as _register_converters\n",
      "Using TensorFlow backend.\n"
     ]
    }
   ],
   "source": [
    "%matplotlib inline\n",
    "import utils\n",
    "from utils import *\n",
    "from __future__ import division, print_function"
   ]
  },
  {
   "cell_type": "markdown",
   "metadata": {
    "heading_collapsed": true
   },
   "source": [
    "## Setup"
   ]
  },
  {
   "cell_type": "markdown",
   "metadata": {
    "hidden": true
   },
   "source": [
    "We're going to download the collected works of Nietzsche to use as our data for this class."
   ]
  },
  {
   "cell_type": "code",
   "execution_count": 20,
   "metadata": {
    "ExecuteTime": {
     "end_time": "2018-08-03T02:16:57.566546Z",
     "start_time": "2018-08-03T02:16:57.561285Z"
    },
    "hidden": true
   },
   "outputs": [
    {
     "name": "stdout",
     "output_type": "stream",
     "text": [
      "corpus length: 600893\n"
     ]
    }
   ],
   "source": [
    "path = get_file('nietzsche.txt', origin=\"https://s3.amazonaws.com/text-datasets/nietzsche.txt\")\n",
    "text = open(path).read()\n",
    "print('corpus length:', len(text))"
   ]
  },
  {
   "cell_type": "code",
   "execution_count": 21,
   "metadata": {
    "ExecuteTime": {
     "end_time": "2018-08-03T02:17:01.264848Z",
     "start_time": "2018-08-03T02:17:01.250542Z"
    },
    "hidden": true
   },
   "outputs": [
    {
     "name": "stdout",
     "output_type": "stream",
     "text": [
      "total chars: 85\n"
     ]
    }
   ],
   "source": [
    "chars = sorted(list(set(text)))\n",
    "vocab_size = len(chars)+1\n",
    "print('total chars:', vocab_size)"
   ]
  },
  {
   "cell_type": "code",
   "execution_count": 22,
   "metadata": {
    "ExecuteTime": {
     "end_time": "2018-08-03T02:17:05.270291Z",
     "start_time": "2018-08-03T02:17:05.267172Z"
    }
   },
   "outputs": [
    {
     "name": "stdout",
     "output_type": "stream",
     "text": [
      "['\\n', ' ', '!', '\"', \"'\", '(', ')', ',', '-', '.', '0', '1', '2', '3', '4', '5', '6', '7', '8', '9', ':', ';', '=', '?', 'A', 'B', 'C', 'D', 'E', 'F', 'G', 'H', 'I', 'J', 'K', 'L', 'M', 'N', 'O', 'P', 'Q', 'R', 'S', 'T', 'U', 'V', 'W', 'X', 'Y', 'Z', '[', ']', '_', 'a', 'b', 'c', 'd', 'e', 'f', 'g', 'h', 'i', 'j', 'k', 'l', 'm', 'n', 'o', 'p', 'q', 'r', 's', 't', 'u', 'v', 'w', 'x', 'y', 'z', 'Æ', 'ä', 'æ', 'é', 'ë']\n"
     ]
    }
   ],
   "source": [
    "print(chars)"
   ]
  },
  {
   "cell_type": "markdown",
   "metadata": {
    "hidden": true
   },
   "source": [
    "Sometimes it's useful to have a zero value in the dataset, e.g. for padding"
   ]
  },
  {
   "cell_type": "code",
   "execution_count": 23,
   "metadata": {
    "ExecuteTime": {
     "end_time": "2018-08-03T02:17:10.274602Z",
     "start_time": "2018-08-03T02:17:10.272134Z"
    },
    "hidden": true
   },
   "outputs": [],
   "source": [
    "chars.insert(0, \"\\0\")"
   ]
  },
  {
   "cell_type": "code",
   "execution_count": 24,
   "metadata": {
    "ExecuteTime": {
     "end_time": "2018-08-03T02:17:12.325579Z",
     "start_time": "2018-08-03T02:17:12.322696Z"
    },
    "scrolled": true
   },
   "outputs": [
    {
     "name": "stdout",
     "output_type": "stream",
     "text": [
      "['\\x00', '\\n', ' ', '!', '\"', \"'\", '(', ')', ',', '-', '.', '0', '1', '2', '3', '4', '5', '6', '7', '8', '9', ':', ';', '=', '?', 'A', 'B', 'C', 'D', 'E', 'F', 'G', 'H', 'I', 'J', 'K', 'L', 'M', 'N', 'O', 'P', 'Q', 'R', 'S', 'T', 'U', 'V', 'W', 'X', 'Y', 'Z', '[', ']', '_', 'a', 'b', 'c', 'd', 'e', 'f', 'g', 'h', 'i', 'j', 'k', 'l', 'm', 'n', 'o', 'p', 'q', 'r', 's', 't', 'u', 'v', 'w', 'x', 'y', 'z', 'Æ', 'ä', 'æ', 'é', 'ë']\n"
     ]
    }
   ],
   "source": [
    "print(chars)"
   ]
  },
  {
   "cell_type": "code",
   "execution_count": 25,
   "metadata": {
    "ExecuteTime": {
     "end_time": "2018-08-03T02:17:15.233497Z",
     "start_time": "2018-08-03T02:17:15.230480Z"
    }
   },
   "outputs": [
    {
     "name": "stdout",
     "output_type": "stream",
     "text": [
      "['\\n', ' ', '!', '\"', \"'\", '(', ')', ',', '-', '.', '0', '1', '2', '3', '4', '5', '6', '7', '8', '9', ':', ';', '=', '?', 'A', 'B', 'C', 'D', 'E', 'F', 'G', 'H', 'I', 'J', 'K', 'L', 'M', 'N', 'O', 'P', 'Q', 'R', 'S', 'T', 'U', 'V', 'W', 'X', 'Y', 'Z', '[', ']', '_', 'a', 'b', 'c', 'd', 'e', 'f', 'g', 'h', 'i', 'j', 'k', 'l', 'm', 'n', 'o', 'p', 'q', 'r', 's', 't', 'u', 'v', 'w', 'x', 'y']\n"
     ]
    }
   ],
   "source": [
    "print(chars[1:-6])"
   ]
  },
  {
   "cell_type": "code",
   "execution_count": 26,
   "metadata": {
    "ExecuteTime": {
     "end_time": "2018-08-03T02:17:18.833326Z",
     "start_time": "2018-08-03T02:17:18.829023Z"
    }
   },
   "outputs": [
    {
     "data": {
      "text/plain": [
       "'\\n !\"\\'(),-.0123456789:;=?ABCDEFGHIJKLMNOPQRSTUVWXYZ[]_abcdefghijklmnopqrstuvwxy'"
      ]
     },
     "execution_count": 26,
     "metadata": {},
     "output_type": "execute_result"
    }
   ],
   "source": [
    "''.join(chars[1:-6])"
   ]
  },
  {
   "cell_type": "markdown",
   "metadata": {
    "hidden": true
   },
   "source": [
    "Map from chars to indices and back again"
   ]
  },
  {
   "cell_type": "code",
   "execution_count": 27,
   "metadata": {
    "ExecuteTime": {
     "end_time": "2018-08-03T02:17:30.383467Z",
     "start_time": "2018-08-03T02:17:30.379816Z"
    },
    "hidden": true
   },
   "outputs": [],
   "source": [
    "char_indices = dict((c, i) for i, c in enumerate(chars))\n",
    "indices_char = dict((i, c) for i, c in enumerate(chars))"
   ]
  },
  {
   "cell_type": "markdown",
   "metadata": {
    "hidden": true
   },
   "source": [
    "*idx* will be the data we use from now own - it simply converts all the characters to their index (based on the mapping above)"
   ]
  },
  {
   "cell_type": "code",
   "execution_count": 28,
   "metadata": {
    "ExecuteTime": {
     "end_time": "2018-08-03T02:17:37.306207Z",
     "start_time": "2018-08-03T02:17:37.258125Z"
    },
    "hidden": true
   },
   "outputs": [],
   "source": [
    "idx = [char_indices[c] for c in text] # 把这个文章全部转成数字表示的列表"
   ]
  },
  {
   "cell_type": "code",
   "execution_count": 29,
   "metadata": {
    "ExecuteTime": {
     "end_time": "2018-08-03T02:17:46.048948Z",
     "start_time": "2018-08-03T02:17:46.045296Z"
    }
   },
   "outputs": [
    {
     "data": {
      "text/plain": [
       "600893"
      ]
     },
     "execution_count": 29,
     "metadata": {},
     "output_type": "execute_result"
    }
   ],
   "source": [
    "len(idx)"
   ]
  },
  {
   "cell_type": "code",
   "execution_count": 30,
   "metadata": {
    "ExecuteTime": {
     "end_time": "2018-08-03T02:17:54.271299Z",
     "start_time": "2018-08-03T02:17:54.266905Z"
    },
    "hidden": true
   },
   "outputs": [
    {
     "data": {
      "text/plain": [
       "[40, 42, 29, 30, 25, 27, 29, 1, 1, 1]"
      ]
     },
     "execution_count": 30,
     "metadata": {},
     "output_type": "execute_result"
    }
   ],
   "source": [
    "idx[:10]"
   ]
  },
  {
   "cell_type": "code",
   "execution_count": 31,
   "metadata": {
    "ExecuteTime": {
     "end_time": "2018-08-03T02:18:10.153953Z",
     "start_time": "2018-08-03T02:18:10.149933Z"
    },
    "hidden": true
   },
   "outputs": [
    {
     "data": {
      "text/plain": [
       "'PREFACE\\n\\n\\nSUPPOSING that Truth is a woman--what then? Is there not gro'"
      ]
     },
     "execution_count": 31,
     "metadata": {},
     "output_type": "execute_result"
    }
   ],
   "source": [
    "''.join(indices_char[i] for i in idx[:70])"
   ]
  },
  {
   "cell_type": "markdown",
   "metadata": {
    "heading_collapsed": true
   },
   "source": [
    "## 3 char model"
   ]
  },
  {
   "cell_type": "markdown",
   "metadata": {
    "heading_collapsed": true,
    "hidden": true
   },
   "source": [
    "### Create inputs"
   ]
  },
  {
   "cell_type": "markdown",
   "metadata": {
    "hidden": true
   },
   "source": [
    "Create a list of every 4th character, starting at the 0th, 1st, 2nd, then 3rd characters"
   ]
  },
  {
   "cell_type": "code",
   "execution_count": 33,
   "metadata": {
    "ExecuteTime": {
     "end_time": "2018-08-03T09:34:10.969853Z",
     "start_time": "2018-08-03T09:34:10.952807Z"
    }
   },
   "outputs": [
    {
     "data": {
      "text/plain": [
       "600893"
      ]
     },
     "execution_count": 33,
     "metadata": {},
     "output_type": "execute_result"
    }
   ],
   "source": [
    "len(idx)"
   ]
  },
  {
   "cell_type": "code",
   "execution_count": 37,
   "metadata": {
    "ExecuteTime": {
     "end_time": "2018-08-03T09:35:54.087987Z",
     "start_time": "2018-08-03T09:35:54.085667Z"
    }
   },
   "outputs": [],
   "source": [
    "a = 50"
   ]
  },
  {
   "cell_type": "code",
   "execution_count": 35,
   "metadata": {
    "ExecuteTime": {
     "end_time": "2018-08-03T09:34:35.237060Z",
     "start_time": "2018-08-03T09:34:35.234405Z"
    }
   },
   "outputs": [],
   "source": [
    "step = 3"
   ]
  },
  {
   "cell_type": "code",
   "execution_count": 44,
   "metadata": {
    "ExecuteTime": {
     "end_time": "2018-08-03T09:47:42.086686Z",
     "start_time": "2018-08-03T09:47:42.079216Z"
    },
    "scrolled": true
   },
   "outputs": [
    {
     "name": "stdout",
     "output_type": "stream",
     "text": [
      "0 1 2 3\n",
      "3 4 5 6\n",
      "6 7 8 9\n",
      "9 10 11 12\n",
      "12 13 14 15\n",
      "15 16 17 18\n",
      "18 19 20 21\n",
      "21 22 23 24\n",
      "24 25 26 27\n",
      "27 28 29 30\n",
      "30 31 32 33\n",
      "33 34 35 36\n",
      "36 37 38 39\n",
      "39 40 41 42\n",
      "42 43 44 45\n",
      "45 46 47 48\n"
     ]
    }
   ],
   "source": [
    "for i in range(0,a-step-1,step):\n",
    "    print(i,i+1,i+2,i+3)"
   ]
  },
  {
   "cell_type": "code",
   "execution_count": 48,
   "metadata": {
    "ExecuteTime": {
     "end_time": "2018-08-03T09:49:21.600797Z",
     "start_time": "2018-08-03T09:49:21.597041Z"
    }
   },
   "outputs": [
    {
     "data": {
      "text/plain": [
       "[40, 42, 29, 30, 25, 27, 29, 1, 1, 1]"
      ]
     },
     "execution_count": 48,
     "metadata": {},
     "output_type": "execute_result"
    }
   ],
   "source": [
    "idx[:10]"
   ]
  },
  {
   "cell_type": "code",
   "execution_count": 49,
   "metadata": {
    "ExecuteTime": {
     "end_time": "2018-08-03T09:50:56.476179Z",
     "start_time": "2018-08-03T09:50:56.390605Z"
    }
   },
   "outputs": [],
   "source": [
    "c1_dat = [idx[i] for i in range(0,len(idx)-step,step)]\n",
    "c2_dat = [idx[i+1] for i in range(0,len(idx)-step,step)]\n",
    "c3_dat = [idx[i+2] for i in range(0,len(idx)-step,step)]\n",
    "c4_dat = [idx[i+3] for i in range(0,len(idx)-step,step)]"
   ]
  },
  {
   "cell_type": "code",
   "execution_count": 51,
   "metadata": {
    "ExecuteTime": {
     "end_time": "2018-08-03T09:51:19.546816Z",
     "start_time": "2018-08-03T09:51:19.543128Z"
    }
   },
   "outputs": [
    {
     "data": {
      "text/plain": [
       "[40, 30, 29, 1, 40, 43, 31, 61, 2, 74]"
      ]
     },
     "execution_count": 51,
     "metadata": {},
     "output_type": "execute_result"
    }
   ],
   "source": [
    "c1_dat[:10]"
   ]
  },
  {
   "cell_type": "code",
   "execution_count": 54,
   "metadata": {
    "ExecuteTime": {
     "end_time": "2018-08-03T09:52:56.580226Z",
     "start_time": "2018-08-03T09:52:56.576543Z"
    },
    "scrolled": true
   },
   "outputs": [
    {
     "data": {
      "text/plain": [
       "[72, 61, 62, 62, 73, 67, 68, 72, 59, 67]"
      ]
     },
     "execution_count": 54,
     "metadata": {},
     "output_type": "execute_result"
    }
   ],
   "source": [
    "c1_dat[-10:]"
   ]
  },
  {
   "cell_type": "markdown",
   "metadata": {},
   "source": [
    "我们的输入："
   ]
  },
  {
   "cell_type": "code",
   "execution_count": 65,
   "metadata": {
    "ExecuteTime": {
     "end_time": "2018-08-03T09:56:56.874640Z",
     "start_time": "2018-08-03T09:56:55.818556Z"
    }
   },
   "outputs": [],
   "source": [
    "x1 = np.stack(c1_dat[:-2]) # 为什么使用到-2的序列呢？\n",
    "x2 = np.stack(c2_dat[:-2])\n",
    "x3 = np.stack(c3_dat[:-2])"
   ]
  },
  {
   "cell_type": "markdown",
   "metadata": {},
   "source": [
    "用x1，x2，x3组成的3个序列预测下一个单词序列x4"
   ]
  },
  {
   "cell_type": "markdown",
   "metadata": {
    "hidden": true
   },
   "source": [
    "输出："
   ]
  },
  {
   "cell_type": "code",
   "execution_count": 66,
   "metadata": {
    "ExecuteTime": {
     "end_time": "2018-08-03T10:00:12.422039Z",
     "start_time": "2018-08-03T10:00:12.006963Z"
    },
    "hidden": true
   },
   "outputs": [],
   "source": [
    "y = np.stack(c4_dat[:-2])"
   ]
  },
  {
   "cell_type": "markdown",
   "metadata": {
    "ExecuteTime": {
     "end_time": "2018-08-03T10:01:35.533093Z",
     "start_time": "2018-08-03T10:01:35.523952Z"
    }
   },
   "source": [
    "对比一下原始idx："
   ]
  },
  {
   "cell_type": "code",
   "execution_count": 71,
   "metadata": {
    "ExecuteTime": {
     "end_time": "2018-08-03T10:05:58.894025Z",
     "start_time": "2018-08-03T10:05:58.889835Z"
    }
   },
   "outputs": [
    {
     "data": {
      "text/plain": [
       "[40, 42, 29, 30, 25, 27, 29, 1, 1, 1, 43, 45, 40, 40, 39, 43, 33, 38, 31, 2]"
      ]
     },
     "execution_count": 71,
     "metadata": {},
     "output_type": "execute_result"
    }
   ],
   "source": [
    "idx[:20]"
   ]
  },
  {
   "cell_type": "markdown",
   "metadata": {},
   "source": [
    "看看看前10个输入和输出："
   ]
  },
  {
   "cell_type": "code",
   "execution_count": 67,
   "metadata": {
    "ExecuteTime": {
     "end_time": "2018-08-03T10:00:54.666462Z",
     "start_time": "2018-08-03T10:00:54.662028Z"
    },
    "scrolled": true
   },
   "outputs": [
    {
     "data": {
      "text/plain": [
       "(array([40, 30, 29,  1, 40, 43, 31, 61,  2, 74]),\n",
       " array([42, 25,  1, 43, 40, 33,  2, 54, 44, 73]),\n",
       " array([29, 27,  1, 45, 39, 38, 73, 73, 71, 61]))"
      ]
     },
     "execution_count": 67,
     "metadata": {},
     "output_type": "execute_result"
    }
   ],
   "source": [
    "x1[:10],x2[:10],x3[:10]"
   ]
  },
  {
   "cell_type": "code",
   "execution_count": 70,
   "metadata": {
    "ExecuteTime": {
     "end_time": "2018-08-03T10:04:18.923529Z",
     "start_time": "2018-08-03T10:04:18.918947Z"
    }
   },
   "outputs": [
    {
     "data": {
      "text/plain": [
       "array([30, 29,  1, 40, 43, 31, 61,  2, 74,  2,  2, 76, 54,  9, 54])"
      ]
     },
     "execution_count": 70,
     "metadata": {},
     "output_type": "execute_result"
    }
   ],
   "source": [
    "y[:15]"
   ]
  },
  {
   "cell_type": "markdown",
   "metadata": {},
   "source": [
    "这里就能看出来`step`变量的意思了，就是用3个字符去预测第四个字符：\n",
    "\n",
    "```\n",
    "序列：40 42 29 预测  30\n",
    "序列：30 25 27 预测  29\n",
    "序列：29  1  1 预测   1\n",
    "...\n",
    "...\n",
    "```"
   ]
  },
  {
   "cell_type": "code",
   "execution_count": 73,
   "metadata": {
    "ExecuteTime": {
     "end_time": "2018-08-03T13:19:12.224016Z",
     "start_time": "2018-08-03T13:19:12.220270Z"
    }
   },
   "outputs": [
    {
     "data": {
      "text/plain": [
       "((200295,), (200295,))"
      ]
     },
     "execution_count": 73,
     "metadata": {},
     "output_type": "execute_result"
    }
   ],
   "source": [
    "x1.shape,y.shape"
   ]
  },
  {
   "cell_type": "markdown",
   "metadata": {
    "hidden": true
   },
   "source": [
    "The number of latent factors to create (i.e. the size of the embedding matrix)\n",
    "\n",
    "嵌入矩阵的维度"
   ]
  },
  {
   "cell_type": "code",
   "execution_count": 75,
   "metadata": {
    "ExecuteTime": {
     "end_time": "2018-08-03T13:26:50.809147Z",
     "start_time": "2018-08-03T13:26:50.806469Z"
    },
    "hidden": true
   },
   "outputs": [],
   "source": [
    "embedding_size = 42 #词向量，嵌入矩阵的维度"
   ]
  },
  {
   "cell_type": "code",
   "execution_count": 91,
   "metadata": {
    "ExecuteTime": {
     "end_time": "2018-08-03T15:14:23.758265Z",
     "start_time": "2018-08-03T15:14:23.753732Z"
    }
   },
   "outputs": [],
   "source": [
    "def embedding_input(name,n_inputs,n_outputs):\n",
    "    inputs = Input(shape=(1,),dtype='int64',name=name)\n",
    "    emb = Embedding(input_dim=n_inputs,output_dim=n_outputs,input_length=1)(inputs)\n",
    "    return inputs,Flatten()(emb)"
   ]
  },
  {
   "cell_type": "markdown",
   "metadata": {},
   "source": [
    "\n",
    "Create inputs and embedding outputs for each of our 3 character inputs"
   ]
  },
  {
   "cell_type": "markdown",
   "metadata": {},
   "source": [
    "作者认为嵌入矩阵比one-hot更好，所以这里第一个模型并没有使用Rnn，而是嵌入模型"
   ]
  },
  {
   "cell_type": "code",
   "execution_count": 92,
   "metadata": {
    "ExecuteTime": {
     "end_time": "2018-08-03T15:14:25.701161Z",
     "start_time": "2018-08-03T15:14:25.638473Z"
    }
   },
   "outputs": [],
   "source": [
    "c1_in,c1 = embedding_input('c1',vocab_size,embedding_size)\n",
    "c2_in,c2 = embedding_input('c2',vocab_size,embedding_size)\n",
    "c3_in,c3 = embedding_input('c3',vocab_size,embedding_size)"
   ]
  },
  {
   "cell_type": "markdown",
   "metadata": {
    "heading_collapsed": true,
    "hidden": true
   },
   "source": [
    "### Create and train model"
   ]
  },
  {
   "cell_type": "markdown",
   "metadata": {
    "hidden": true
   },
   "source": [
    "Pick a size for our hidden state"
   ]
  },
  {
   "cell_type": "code",
   "execution_count": 93,
   "metadata": {
    "ExecuteTime": {
     "end_time": "2018-08-03T15:14:28.396681Z",
     "start_time": "2018-08-03T15:14:28.394242Z"
    },
    "hidden": true
   },
   "outputs": [],
   "source": [
    "n_hidden = 256"
   ]
  },
  {
   "cell_type": "markdown",
   "metadata": {
    "hidden": true
   },
   "source": [
    "This is the 'green arrow' from our diagram - the layer operation from input to hidden."
   ]
  },
  {
   "cell_type": "code",
   "execution_count": 94,
   "metadata": {
    "ExecuteTime": {
     "end_time": "2018-08-03T15:14:30.255737Z",
     "start_time": "2018-08-03T15:14:30.252819Z"
    },
    "hidden": true
   },
   "outputs": [],
   "source": [
    "dense_in = Dense(n_hidden, activation='relu')"
   ]
  },
  {
   "cell_type": "markdown",
   "metadata": {
    "hidden": true
   },
   "source": [
    "Our first hidden activation is simply this function applied to the result of the embedding of the first character."
   ]
  },
  {
   "cell_type": "code",
   "execution_count": 95,
   "metadata": {
    "ExecuteTime": {
     "end_time": "2018-08-03T15:14:32.837443Z",
     "start_time": "2018-08-03T15:14:32.819828Z"
    },
    "hidden": true
   },
   "outputs": [],
   "source": [
    "c1_hidden = dense_in(c1)"
   ]
  },
  {
   "cell_type": "markdown",
   "metadata": {
    "hidden": true
   },
   "source": [
    "This is the 'orange arrow' from our diagram - the layer operation from hidden to hidden."
   ]
  },
  {
   "cell_type": "code",
   "execution_count": 96,
   "metadata": {
    "ExecuteTime": {
     "end_time": "2018-08-03T15:14:34.501940Z",
     "start_time": "2018-08-03T15:14:34.499002Z"
    },
    "hidden": true
   },
   "outputs": [],
   "source": [
    "dense_hidden = Dense(n_hidden, activation='tanh')"
   ]
  },
  {
   "cell_type": "markdown",
   "metadata": {
    "hidden": true
   },
   "source": [
    "Our second and third hidden activations sum up the previous hidden state (after applying dense_hidden) to the new input state."
   ]
  },
  {
   "cell_type": "code",
   "execution_count": 97,
   "metadata": {
    "ExecuteTime": {
     "end_time": "2018-08-03T15:14:37.390388Z",
     "start_time": "2018-08-03T15:14:37.369610Z"
    },
    "hidden": true
   },
   "outputs": [],
   "source": [
    "c2_dense = dense_in(c2)\n",
    "hidden_2 = dense_hidden(c1_hidden)\n",
    "c2_hidden = keras.layers.add([c2_dense, hidden_2])"
   ]
  },
  {
   "cell_type": "code",
   "execution_count": 98,
   "metadata": {
    "ExecuteTime": {
     "end_time": "2018-08-03T15:14:40.934427Z",
     "start_time": "2018-08-03T15:14:40.920815Z"
    },
    "hidden": true
   },
   "outputs": [],
   "source": [
    "c3_dense = dense_in(c3)\n",
    "hidden_3 = dense_hidden(c2_hidden)\n",
    "c3_hidden =keras.layers.add([c3_dense, hidden_3])"
   ]
  },
  {
   "cell_type": "markdown",
   "metadata": {
    "hidden": true
   },
   "source": [
    "This is the 'blue arrow' from our diagram - the layer operation from hidden to output."
   ]
  },
  {
   "cell_type": "code",
   "execution_count": 99,
   "metadata": {
    "ExecuteTime": {
     "end_time": "2018-08-03T15:14:42.812702Z",
     "start_time": "2018-08-03T15:14:42.809363Z"
    },
    "hidden": true
   },
   "outputs": [],
   "source": [
    "dense_out = Dense(vocab_size, activation='softmax') # 最终输出为所有字符可能性的概率，所以用softmax"
   ]
  },
  {
   "cell_type": "markdown",
   "metadata": {
    "hidden": true
   },
   "source": [
    "The third hidden state is the input to our output layer."
   ]
  },
  {
   "cell_type": "code",
   "execution_count": 100,
   "metadata": {
    "ExecuteTime": {
     "end_time": "2018-08-03T15:14:45.404943Z",
     "start_time": "2018-08-03T15:14:45.380220Z"
    },
    "hidden": true
   },
   "outputs": [],
   "source": [
    "c4_out = dense_out(c3_hidden)"
   ]
  },
  {
   "cell_type": "code",
   "execution_count": 101,
   "metadata": {
    "ExecuteTime": {
     "end_time": "2018-08-03T15:14:47.741470Z",
     "start_time": "2018-08-03T15:14:47.738816Z"
    },
    "hidden": true
   },
   "outputs": [],
   "source": [
    "model = Model([c1_in, c2_in, c3_in], c4_out)"
   ]
  },
  {
   "cell_type": "code",
   "execution_count": 102,
   "metadata": {
    "ExecuteTime": {
     "end_time": "2018-08-03T15:14:50.555367Z",
     "start_time": "2018-08-03T15:14:50.491576Z"
    },
    "hidden": true
   },
   "outputs": [
    {
     "name": "stdout",
     "output_type": "stream",
     "text": [
      "WARNING:tensorflow:From /anaconda/lib/python3.6/site-packages/keras/backend/tensorflow_backend.py:1344: calling reduce_mean (from tensorflow.python.ops.math_ops) with keep_dims is deprecated and will be removed in a future version.\n",
      "Instructions for updating:\n",
      "keep_dims is deprecated, use keepdims instead\n"
     ]
    }
   ],
   "source": [
    "model.compile(loss='sparse_categorical_crossentropy', optimizer=Adam()) # 没有one-hot就用这个"
   ]
  },
  {
   "cell_type": "code",
   "execution_count": 103,
   "metadata": {
    "ExecuteTime": {
     "end_time": "2018-08-03T15:14:54.620996Z",
     "start_time": "2018-08-03T15:14:54.618455Z"
    },
    "hidden": true
   },
   "outputs": [],
   "source": [
    "model.optimizer.lr=0.000001"
   ]
  },
  {
   "cell_type": "code",
   "execution_count": 104,
   "metadata": {
    "ExecuteTime": {
     "end_time": "2018-08-03T15:15:43.614159Z",
     "start_time": "2018-08-03T15:15:05.333026Z"
    },
    "hidden": true,
    "scrolled": false
   },
   "outputs": [
    {
     "name": "stdout",
     "output_type": "stream",
     "text": [
      "Epoch 1/4\n",
      "200295/200295 [==============================] - 9s 46us/step - loss: 4.4043\n",
      "Epoch 2/4\n",
      "200295/200295 [==============================] - 9s 44us/step - loss: 4.2851\n",
      "Epoch 3/4\n",
      "200295/200295 [==============================] - 9s 44us/step - loss: 4.0334\n",
      "Epoch 4/4\n",
      "200295/200295 [==============================] - 11s 54us/step - loss: 3.6511\n"
     ]
    },
    {
     "data": {
      "text/plain": [
       "<keras.callbacks.History at 0x1c2bd05c88>"
      ]
     },
     "execution_count": 104,
     "metadata": {},
     "output_type": "execute_result"
    }
   ],
   "source": [
    "model.fit([x1, x2, x3], y, batch_size=64, epochs=4)"
   ]
  },
  {
   "cell_type": "code",
   "execution_count": 105,
   "metadata": {
    "ExecuteTime": {
     "end_time": "2018-08-03T15:19:27.703280Z",
     "start_time": "2018-08-03T15:19:27.700655Z"
    },
    "hidden": true
   },
   "outputs": [],
   "source": [
    "model.optimizer.lr=0.01"
   ]
  },
  {
   "cell_type": "code",
   "execution_count": 106,
   "metadata": {
    "ExecuteTime": {
     "end_time": "2018-08-03T15:20:15.614490Z",
     "start_time": "2018-08-03T15:19:33.691793Z"
    },
    "hidden": true,
    "scrolled": false
   },
   "outputs": [
    {
     "name": "stdout",
     "output_type": "stream",
     "text": [
      "Epoch 1/4\n",
      "200295/200295 [==============================] - 10s 50us/step - loss: 3.3382\n",
      "Epoch 2/4\n",
      "200295/200295 [==============================] - 10s 48us/step - loss: 3.2028\n",
      "Epoch 3/4\n",
      "200295/200295 [==============================] - 10s 50us/step - loss: 3.1475\n",
      "Epoch 4/4\n",
      "200295/200295 [==============================] - 12s 61us/step - loss: 3.1204\n"
     ]
    },
    {
     "data": {
      "text/plain": [
       "<keras.callbacks.History at 0x111d53b70>"
      ]
     },
     "execution_count": 106,
     "metadata": {},
     "output_type": "execute_result"
    }
   ],
   "source": [
    "model.fit([x1, x2, x3], y, batch_size=64, epochs=4)"
   ]
  },
  {
   "cell_type": "code",
   "execution_count": 108,
   "metadata": {
    "ExecuteTime": {
     "end_time": "2018-08-03T15:21:22.354055Z",
     "start_time": "2018-08-03T15:21:22.350957Z"
    },
    "hidden": true
   },
   "outputs": [],
   "source": [
    "model.optimizer.lr = 0.000001"
   ]
  },
  {
   "cell_type": "code",
   "execution_count": 109,
   "metadata": {
    "ExecuteTime": {
     "end_time": "2018-08-03T15:22:09.725986Z",
     "start_time": "2018-08-03T15:21:28.627482Z"
    },
    "hidden": true,
    "scrolled": false
   },
   "outputs": [
    {
     "name": "stdout",
     "output_type": "stream",
     "text": [
      "Epoch 1/4\n",
      "200295/200295 [==============================] - 10s 51us/step - loss: 3.1033\n",
      "Epoch 2/4\n",
      "200295/200295 [==============================] - 10s 51us/step - loss: 3.0906\n",
      "Epoch 3/4\n",
      "200295/200295 [==============================] - 10s 49us/step - loss: 3.0805\n",
      "Epoch 4/4\n",
      "200295/200295 [==============================] - 11s 55us/step - loss: 3.0718\n"
     ]
    },
    {
     "data": {
      "text/plain": [
       "<keras.callbacks.History at 0x111d4acc0>"
      ]
     },
     "execution_count": 109,
     "metadata": {},
     "output_type": "execute_result"
    }
   ],
   "source": [
    "model.fit([x1, x2, x3], y, batch_size=64, epochs=4)"
   ]
  },
  {
   "cell_type": "code",
   "execution_count": 110,
   "metadata": {
    "ExecuteTime": {
     "end_time": "2018-08-03T15:22:52.280940Z",
     "start_time": "2018-08-03T15:22:52.277093Z"
    },
    "hidden": true
   },
   "outputs": [],
   "source": [
    "model.optimizer.lr = 0.01"
   ]
  },
  {
   "cell_type": "code",
   "execution_count": 111,
   "metadata": {
    "ExecuteTime": {
     "end_time": "2018-08-03T15:23:40.848342Z",
     "start_time": "2018-08-03T15:23:01.028963Z"
    },
    "hidden": true,
    "scrolled": false
   },
   "outputs": [
    {
     "name": "stdout",
     "output_type": "stream",
     "text": [
      "Epoch 1/4\n",
      "200295/200295 [==============================] - 10s 51us/step - loss: 3.0640\n",
      "Epoch 2/4\n",
      "200295/200295 [==============================] - 10s 48us/step - loss: 3.0566\n",
      "Epoch 3/4\n",
      "200295/200295 [==============================] - 10s 48us/step - loss: 3.0492\n",
      "Epoch 4/4\n",
      "200295/200295 [==============================] - 10s 51us/step - loss: 3.0418\n"
     ]
    },
    {
     "data": {
      "text/plain": [
       "<keras.callbacks.History at 0x111d57828>"
      ]
     },
     "execution_count": 111,
     "metadata": {},
     "output_type": "execute_result"
    }
   ],
   "source": [
    "model.fit([x1, x2, x3], y, batch_size=64, epochs=4)"
   ]
  },
  {
   "cell_type": "markdown",
   "metadata": {
    "heading_collapsed": true,
    "hidden": true
   },
   "source": [
    "### Test model"
   ]
  },
  {
   "cell_type": "markdown",
   "metadata": {},
   "source": [
    "测试模型效果，就是用`steps`个的字符预测下一个"
   ]
  },
  {
   "cell_type": "code",
   "execution_count": 112,
   "metadata": {
    "ExecuteTime": {
     "end_time": "2018-08-03T15:25:57.862912Z",
     "start_time": "2018-08-03T15:25:57.858831Z"
    },
    "scrolled": true
   },
   "outputs": [
    {
     "data": {
      "text/plain": [
       "[array([40, 30, 29, ..., 67, 68, 72]),\n",
       " array([42, 25,  1, ..., 72, 59, 62]),\n",
       " array([29, 27,  1, ...,  2,  2, 67])]"
      ]
     },
     "execution_count": 112,
     "metadata": {},
     "output_type": "execute_result"
    }
   ],
   "source": [
    "[x1,x2,x3] # 用40 42 29 预测下一个"
   ]
  },
  {
   "cell_type": "code",
   "execution_count": 133,
   "metadata": {
    "ExecuteTime": {
     "end_time": "2018-08-03T15:34:58.072830Z",
     "start_time": "2018-08-03T15:34:58.065945Z"
    }
   },
   "outputs": [],
   "source": [
    "def get_next(inputs):\n",
    "    idxs = [char_indices[c] for c in inputs]\n",
    "    arrs = [np.array(id)[np.newaxis] for id in idxs] # 添加新轴\n",
    "    p = model.predict(arrs)\n",
    "    i = np.argmax(p)\n",
    "    print(i)\n",
    "    return chars[i]"
   ]
  },
  {
   "cell_type": "code",
   "execution_count": 134,
   "metadata": {
    "ExecuteTime": {
     "end_time": "2018-08-03T15:34:58.928458Z",
     "start_time": "2018-08-03T15:34:58.922204Z"
    }
   },
   "outputs": [
    {
     "name": "stdout",
     "output_type": "stream",
     "text": [
      "2\n"
     ]
    },
    {
     "data": {
      "text/plain": [
       "' '"
      ]
     },
     "execution_count": 134,
     "metadata": {},
     "output_type": "execute_result"
    }
   ],
   "source": [
    "get_next(' th')"
   ]
  },
  {
   "cell_type": "code",
   "execution_count": 128,
   "metadata": {
    "ExecuteTime": {
     "end_time": "2018-08-03T15:34:22.698696Z",
     "start_time": "2018-08-03T15:34:22.692897Z"
    },
    "hidden": true
   },
   "outputs": [],
   "source": [
    "def get_next(inp):\n",
    "    idxs = [char_indices[c] for c in inp]\n",
    "    arrs = [np.array(i)[np.newaxis] for i in idxs]\n",
    "    p = model.predict(arrs)\n",
    "    i = np.argmax(p)\n",
    "    return chars[i]"
   ]
  },
  {
   "cell_type": "code",
   "execution_count": 129,
   "metadata": {
    "ExecuteTime": {
     "end_time": "2018-08-03T15:34:23.723257Z",
     "start_time": "2018-08-03T15:34:23.717537Z"
    },
    "hidden": true,
    "scrolled": false
   },
   "outputs": [
    {
     "data": {
      "text/plain": [
       "' '"
      ]
     },
     "execution_count": 129,
     "metadata": {},
     "output_type": "execute_result"
    }
   ],
   "source": [
    "get_next('phi')"
   ]
  },
  {
   "cell_type": "code",
   "execution_count": null,
   "metadata": {
    "ExecuteTime": {
     "end_time": "2018-08-02T08:30:34.840221Z",
     "start_time": "2018-08-02T08:30:02.408Z"
    },
    "hidden": true
   },
   "outputs": [],
   "source": [
    "get_next(' th')"
   ]
  },
  {
   "cell_type": "code",
   "execution_count": null,
   "metadata": {
    "ExecuteTime": {
     "end_time": "2018-08-02T08:30:34.841281Z",
     "start_time": "2018-08-02T08:30:02.412Z"
    },
    "hidden": true
   },
   "outputs": [],
   "source": [
    "get_next(' an')"
   ]
  },
  {
   "cell_type": "markdown",
   "metadata": {},
   "source": [
    "## Our first RNN!"
   ]
  },
  {
   "cell_type": "markdown",
   "metadata": {
    "heading_collapsed": true
   },
   "source": [
    "### Create inputs"
   ]
  },
  {
   "cell_type": "markdown",
   "metadata": {
    "hidden": true
   },
   "source": [
    "This is the size of our unrolled RNN."
   ]
  },
  {
   "cell_type": "code",
   "execution_count": 171,
   "metadata": {
    "ExecuteTime": {
     "end_time": "2018-08-03T15:55:28.109462Z",
     "start_time": "2018-08-03T15:55:28.107186Z"
    },
    "hidden": true
   },
   "outputs": [],
   "source": [
    "steps=8"
   ]
  },
  {
   "cell_type": "markdown",
   "metadata": {
    "hidden": true
   },
   "source": [
    "For each of 0 through 7, create a list of every 8th character with that starting point. These will be the 8 inputs to out model.\n",
    "\n",
    "\n",
    "这次是8个字符组成的列表"
   ]
  },
  {
   "cell_type": "code",
   "execution_count": 271,
   "metadata": {
    "ExecuteTime": {
     "end_time": "2018-08-03T23:56:55.680513Z",
     "start_time": "2018-08-03T23:56:55.615816Z"
    }
   },
   "outputs": [],
   "source": [
    "c_in_dat = [[idx[i+n] for i in range(0,len(idx)-steps,steps)] for n in range(steps)]"
   ]
  },
  {
   "cell_type": "code",
   "execution_count": 173,
   "metadata": {
    "ExecuteTime": {
     "end_time": "2018-08-03T15:55:31.926458Z",
     "start_time": "2018-08-03T15:55:31.922016Z"
    }
   },
   "outputs": [
    {
     "data": {
      "text/plain": [
       "8"
      ]
     },
     "execution_count": 173,
     "metadata": {},
     "output_type": "execute_result"
    }
   ],
   "source": [
    "len(c_in_dat) # 8个列表的字符"
   ]
  },
  {
   "cell_type": "markdown",
   "metadata": {
    "ExecuteTime": {
     "end_time": "2018-08-02T08:30:34.843834Z",
     "start_time": "2018-08-02T08:30:02.423Z"
    },
    "hidden": true
   },
   "source": [
    "建立每个列表的下一个字符，用连续的8个字符，预测下一个字符是什么"
   ]
  },
  {
   "cell_type": "markdown",
   "metadata": {
    "hidden": true
   },
   "source": [
    "Then create a list of the next character in each of these series. This will be the labels for our model."
   ]
  },
  {
   "cell_type": "code",
   "execution_count": 263,
   "metadata": {
    "ExecuteTime": {
     "end_time": "2018-08-03T16:57:58.220807Z",
     "start_time": "2018-08-03T16:57:58.208284Z"
    },
    "hidden": true
   },
   "outputs": [],
   "source": [
    "c_out_dat = [idx[i+steps] for i in range(0, len(idx)-steps,steps)]"
   ]
  },
  {
   "cell_type": "code",
   "execution_count": 264,
   "metadata": {
    "ExecuteTime": {
     "end_time": "2018-08-03T16:57:59.170083Z",
     "start_time": "2018-08-03T16:57:59.166641Z"
    }
   },
   "outputs": [
    {
     "data": {
      "text/plain": [
       "75111"
      ]
     },
     "execution_count": 264,
     "metadata": {},
     "output_type": "execute_result"
    }
   ],
   "source": [
    "len(c_out_dat)"
   ]
  },
  {
   "cell_type": "code",
   "execution_count": 265,
   "metadata": {
    "ExecuteTime": {
     "end_time": "2018-08-03T16:58:01.194130Z",
     "start_time": "2018-08-03T16:58:00.180398Z"
    }
   },
   "outputs": [],
   "source": [
    "xs = [np.stack(c[:-2]) for c in c_in_dat] "
   ]
  },
  {
   "cell_type": "code",
   "execution_count": 266,
   "metadata": {
    "ExecuteTime": {
     "end_time": "2018-08-03T16:58:01.901868Z",
     "start_time": "2018-08-03T16:58:01.898191Z"
    },
    "hidden": true
   },
   "outputs": [
    {
     "data": {
      "text/plain": [
       "(8, (75109,))"
      ]
     },
     "execution_count": 266,
     "metadata": {},
     "output_type": "execute_result"
    }
   ],
   "source": [
    "len(xs), xs[0].shape"
   ]
  },
  {
   "cell_type": "code",
   "execution_count": 176,
   "metadata": {
    "ExecuteTime": {
     "end_time": "2018-08-03T15:55:57.377598Z",
     "start_time": "2018-08-03T15:55:57.228961Z"
    },
    "hidden": true
   },
   "outputs": [],
   "source": [
    "y = np.stack(c_out_dat[:-2])"
   ]
  },
  {
   "cell_type": "code",
   "execution_count": 177,
   "metadata": {
    "ExecuteTime": {
     "end_time": "2018-08-03T15:55:59.361986Z",
     "start_time": "2018-08-03T15:55:59.358338Z"
    }
   },
   "outputs": [
    {
     "data": {
      "text/plain": [
       "(75109,)"
      ]
     },
     "execution_count": 177,
     "metadata": {},
     "output_type": "execute_result"
    }
   ],
   "source": [
    "y.shape"
   ]
  },
  {
   "cell_type": "markdown",
   "metadata": {
    "hidden": true
   },
   "source": [
    "So each column below is one series of 8 characters from the text."
   ]
  },
  {
   "cell_type": "code",
   "execution_count": 178,
   "metadata": {
    "ExecuteTime": {
     "end_time": "2018-08-03T15:56:03.463247Z",
     "start_time": "2018-08-03T15:56:03.458404Z"
    },
    "hidden": true
   },
   "outputs": [
    {
     "data": {
      "text/plain": [
       "[array([40,  1, 33,  2, 72, 67, 73,  2]),\n",
       " array([42,  1, 38, 44,  2,  9, 61, 73]),\n",
       " array([29, 43, 31, 71, 54,  9, 58, 61]),\n",
       " array([30, 45,  2, 74,  2, 76, 67, 58]),\n",
       " array([25, 40, 73, 73, 76, 61, 24, 71]),\n",
       " array([27, 40, 61, 61, 68, 54,  2, 58]),\n",
       " array([29, 39, 54,  2, 66, 73, 33,  2]),\n",
       " array([ 1, 43, 73, 62, 54,  2, 72, 67])]"
      ]
     },
     "execution_count": 178,
     "metadata": {},
     "output_type": "execute_result"
    }
   ],
   "source": [
    "[xs[n][:steps] for n in range(steps)]"
   ]
  },
  {
   "cell_type": "markdown",
   "metadata": {
    "hidden": true
   },
   "source": [
    "...and this is the next character after each sequence."
   ]
  },
  {
   "cell_type": "code",
   "execution_count": 179,
   "metadata": {
    "ExecuteTime": {
     "end_time": "2018-08-03T15:56:07.134852Z",
     "start_time": "2018-08-03T15:56:07.131071Z"
    },
    "hidden": true
   },
   "outputs": [
    {
     "data": {
      "text/plain": [
       "array([ 1, 33,  2, 72, 67, 73,  2, 68])"
      ]
     },
     "execution_count": 179,
     "metadata": {},
     "output_type": "execute_result"
    }
   ],
   "source": [
    "y[:steps]"
   ]
  },
  {
   "cell_type": "code",
   "execution_count": 180,
   "metadata": {
    "ExecuteTime": {
     "end_time": "2018-08-03T15:56:13.069764Z",
     "start_time": "2018-08-03T15:56:13.067624Z"
    },
    "hidden": true
   },
   "outputs": [],
   "source": [
    "embedding_size = 42"
   ]
  },
  {
   "cell_type": "markdown",
   "metadata": {
    "heading_collapsed": true
   },
   "source": [
    "### Create and train model"
   ]
  },
  {
   "cell_type": "code",
   "execution_count": 153,
   "metadata": {
    "ExecuteTime": {
     "end_time": "2018-08-03T15:52:01.676682Z",
     "start_time": "2018-08-03T15:52:01.672066Z"
    },
    "hidden": true
   },
   "outputs": [],
   "source": [
    "def embedding_input(name, n_in, n_out):\n",
    "    inp = Input(shape=(1,), dtype='int64', name=name+'_in')\n",
    "    emb = Embedding(n_in, n_out, input_length=1, name=name+'_emb')(inp)\n",
    "    return inp, Flatten()(emb)"
   ]
  },
  {
   "cell_type": "code",
   "execution_count": 181,
   "metadata": {
    "ExecuteTime": {
     "end_time": "2018-08-03T15:56:19.052803Z",
     "start_time": "2018-08-03T15:56:18.904021Z"
    },
    "hidden": true
   },
   "outputs": [],
   "source": [
    "c_ins = [embedding_input('c'+str(n), vocab_size, embedding_size) for n in range(steps)]"
   ]
  },
  {
   "cell_type": "code",
   "execution_count": 182,
   "metadata": {
    "ExecuteTime": {
     "end_time": "2018-08-03T15:56:21.892973Z",
     "start_time": "2018-08-03T15:56:21.890633Z"
    },
    "hidden": true
   },
   "outputs": [],
   "source": [
    "n_hidden = 256"
   ]
  },
  {
   "cell_type": "code",
   "execution_count": 183,
   "metadata": {
    "ExecuteTime": {
     "end_time": "2018-08-03T15:57:28.774677Z",
     "start_time": "2018-08-03T15:57:28.770378Z"
    },
    "hidden": true
   },
   "outputs": [],
   "source": [
    "dense_in = Dense(n_hidden, activation='relu')\n",
    "dense_hidden = Dense(n_hidden, activation='relu', kernel_initializer='identity') # 生成单位矩阵的初始化器。\n",
    "dense_out = Dense(vocab_size, activation='softmax')"
   ]
  },
  {
   "cell_type": "code",
   "execution_count": 187,
   "metadata": {
    "ExecuteTime": {
     "end_time": "2018-08-03T15:58:17.419661Z",
     "start_time": "2018-08-03T15:58:17.416047Z"
    }
   },
   "outputs": [
    {
     "data": {
      "text/plain": [
       "<tf.Tensor 'flatten_15/Reshape:0' shape=(?, ?) dtype=float32>"
      ]
     },
     "execution_count": 187,
     "metadata": {},
     "output_type": "execute_result"
    }
   ],
   "source": [
    "c_ins[0][1]"
   ]
  },
  {
   "cell_type": "markdown",
   "metadata": {
    "hidden": true
   },
   "source": [
    "The first character of each sequence goes through dense_in(), to create our first hidden activations."
   ]
  },
  {
   "cell_type": "code",
   "execution_count": 188,
   "metadata": {
    "ExecuteTime": {
     "end_time": "2018-08-03T15:58:20.487747Z",
     "start_time": "2018-08-03T15:58:20.471215Z"
    },
    "hidden": true
   },
   "outputs": [],
   "source": [
    "hidden = dense_in(c_ins[0][1])"
   ]
  },
  {
   "cell_type": "markdown",
   "metadata": {
    "hidden": true
   },
   "source": [
    "Then for each successive layer we combine the output of dense_in() on the next character with the output of dense_hidden() on the current hidden state, to create the new hidden state."
   ]
  },
  {
   "cell_type": "code",
   "execution_count": 191,
   "metadata": {
    "ExecuteTime": {
     "end_time": "2018-08-03T15:59:17.454424Z",
     "start_time": "2018-08-03T15:59:17.412809Z"
    },
    "hidden": true
   },
   "outputs": [],
   "source": [
    "for i in range(1,steps):\n",
    "    c_dense = dense_in(c_ins[i][1])\n",
    "    hidden = dense_hidden(hidden)\n",
    "    hidden = keras.layers.add([c_dense, hidden])"
   ]
  },
  {
   "cell_type": "markdown",
   "metadata": {
    "hidden": true
   },
   "source": [
    "Putting the final hidden state through dense_out() gives us our output."
   ]
  },
  {
   "cell_type": "code",
   "execution_count": 192,
   "metadata": {
    "ExecuteTime": {
     "end_time": "2018-08-03T15:59:20.050376Z",
     "start_time": "2018-08-03T15:59:20.033386Z"
    },
    "hidden": true
   },
   "outputs": [],
   "source": [
    "c_out = dense_out(hidden)"
   ]
  },
  {
   "cell_type": "markdown",
   "metadata": {
    "hidden": true
   },
   "source": [
    "So now we can create our model."
   ]
  },
  {
   "cell_type": "code",
   "execution_count": 193,
   "metadata": {
    "ExecuteTime": {
     "end_time": "2018-08-03T15:59:26.933313Z",
     "start_time": "2018-08-03T15:59:26.893778Z"
    },
    "hidden": true
   },
   "outputs": [],
   "source": [
    "model = Model([c[0] for c in c_ins], c_out)\n",
    "model.compile(loss='sparse_categorical_crossentropy', optimizer=Adam())"
   ]
  },
  {
   "cell_type": "code",
   "execution_count": 194,
   "metadata": {
    "ExecuteTime": {
     "end_time": "2018-08-03T16:01:41.148414Z",
     "start_time": "2018-08-03T15:59:32.909098Z"
    },
    "hidden": true,
    "scrolled": false
   },
   "outputs": [
    {
     "name": "stdout",
     "output_type": "stream",
     "text": [
      "Epoch 1/12\n",
      "75109/75109 [==============================] - 11s 140us/step - loss: 2.4681\n",
      "Epoch 2/12\n",
      "75109/75109 [==============================] - 10s 132us/step - loss: 2.1030\n",
      "Epoch 3/12\n",
      "75109/75109 [==============================] - 10s 135us/step - loss: 1.9602\n",
      "Epoch 4/12\n",
      "75109/75109 [==============================] - 11s 153us/step - loss: 1.8720\n",
      "Epoch 5/12\n",
      "75109/75109 [==============================] - 11s 148us/step - loss: 1.8092\n",
      "Epoch 6/12\n",
      "75109/75109 [==============================] - 11s 142us/step - loss: 1.7560\n",
      "Epoch 7/12\n",
      "75109/75109 [==============================] - 11s 145us/step - loss: 1.7145\n",
      "Epoch 8/12\n",
      "75109/75109 [==============================] - 10s 137us/step - loss: 1.6801\n",
      "Epoch 9/12\n",
      "75109/75109 [==============================] - 11s 144us/step - loss: 1.6513\n",
      "Epoch 10/12\n",
      "75109/75109 [==============================] - 11s 141us/step - loss: 1.6278\n",
      "Epoch 11/12\n",
      "75109/75109 [==============================] - 11s 142us/step - loss: 1.6065\n",
      "Epoch 12/12\n",
      "75109/75109 [==============================] - 10s 138us/step - loss: 1.5850\n"
     ]
    },
    {
     "data": {
      "text/plain": [
       "<keras.callbacks.History at 0x1c2e85ac88>"
      ]
     },
     "execution_count": 194,
     "metadata": {},
     "output_type": "execute_result"
    }
   ],
   "source": [
    "model.fit(xs, y, batch_size=64, epochs=12)"
   ]
  },
  {
   "cell_type": "markdown",
   "metadata": {
    "heading_collapsed": true
   },
   "source": [
    "### Test model"
   ]
  },
  {
   "cell_type": "code",
   "execution_count": 195,
   "metadata": {
    "ExecuteTime": {
     "end_time": "2018-08-03T16:01:48.662303Z",
     "start_time": "2018-08-03T16:01:48.658053Z"
    },
    "hidden": true
   },
   "outputs": [],
   "source": [
    "def get_next(inp):\n",
    "    idxs = [np.array(char_indices[c])[np.newaxis] for c in inp]\n",
    "    p = model.predict(idxs)\n",
    "    return chars[np.argmax(p)]"
   ]
  },
  {
   "cell_type": "code",
   "execution_count": 196,
   "metadata": {
    "ExecuteTime": {
     "end_time": "2018-08-03T16:02:00.475945Z",
     "start_time": "2018-08-03T16:02:00.341556Z"
    },
    "hidden": true
   },
   "outputs": [
    {
     "data": {
      "text/plain": [
       "'e'"
      ]
     },
     "execution_count": 196,
     "metadata": {},
     "output_type": "execute_result"
    }
   ],
   "source": [
    "get_next('for thos')"
   ]
  },
  {
   "cell_type": "code",
   "execution_count": 197,
   "metadata": {
    "ExecuteTime": {
     "end_time": "2018-08-03T16:02:03.559884Z",
     "start_time": "2018-08-03T16:02:03.553355Z"
    },
    "hidden": true
   },
   "outputs": [
    {
     "data": {
      "text/plain": [
       "'t'"
      ]
     },
     "execution_count": 197,
     "metadata": {},
     "output_type": "execute_result"
    }
   ],
   "source": [
    "get_next('part of ')"
   ]
  },
  {
   "cell_type": "code",
   "execution_count": 198,
   "metadata": {
    "ExecuteTime": {
     "end_time": "2018-08-03T16:02:07.027555Z",
     "start_time": "2018-08-03T16:02:07.022118Z"
    },
    "hidden": true
   },
   "outputs": [
    {
     "data": {
      "text/plain": [
       "'n'"
      ]
     },
     "execution_count": 198,
     "metadata": {},
     "output_type": "execute_result"
    }
   ],
   "source": [
    "get_next('queens a')"
   ]
  },
  {
   "cell_type": "markdown",
   "metadata": {
    "collapsed": true,
    "heading_collapsed": true
   },
   "source": [
    "## Our first RNN with keras!"
   ]
  },
  {
   "cell_type": "code",
   "execution_count": 199,
   "metadata": {
    "ExecuteTime": {
     "end_time": "2018-08-03T16:08:11.567150Z",
     "start_time": "2018-08-03T16:08:11.564537Z"
    }
   },
   "outputs": [],
   "source": [
    "n_neurons,n_embedding_size,n_steps,n_vocab_size = (256,42,8,86)"
   ]
  },
  {
   "cell_type": "markdown",
   "metadata": {},
   "source": [
    "上面的代码很繁琐，现在用keras建立一个RNN："
   ]
  },
  {
   "cell_type": "code",
   "execution_count": 204,
   "metadata": {
    "ExecuteTime": {
     "end_time": "2018-08-03T16:23:12.831263Z",
     "start_time": "2018-08-03T16:23:12.730407Z"
    }
   },
   "outputs": [],
   "source": [
    "model = Sequential([\n",
    "    Embedding(input_dim=n_vocab_size,output_dim=n_embedding_size,input_length=n_steps),\n",
    "    SimpleRNN(n_hidden, activation='relu', recurrent_initializer='identity'),# 返回输出序列中的最后一个输出\n",
    "    Dense(n_vocab_size,activation='softmax'),\n",
    "])"
   ]
  },
  {
   "cell_type": "code",
   "execution_count": 205,
   "metadata": {
    "ExecuteTime": {
     "end_time": "2018-08-03T16:23:28.221180Z",
     "start_time": "2018-08-03T16:23:28.211232Z"
    },
    "hidden": true,
    "scrolled": true
   },
   "outputs": [
    {
     "name": "stdout",
     "output_type": "stream",
     "text": [
      "_________________________________________________________________\n",
      "Layer (type)                 Output Shape              Param #   \n",
      "=================================================================\n",
      "embedding_9 (Embedding)      (None, 8, 42)             3612      \n",
      "_________________________________________________________________\n",
      "simple_rnn_3 (SimpleRNN)     (None, 256)               76544     \n",
      "_________________________________________________________________\n",
      "dense_16 (Dense)             (None, 86)                22102     \n",
      "=================================================================\n",
      "Total params: 102,258\n",
      "Trainable params: 102,258\n",
      "Non-trainable params: 0\n",
      "_________________________________________________________________\n"
     ]
    }
   ],
   "source": [
    "model.summary()"
   ]
  },
  {
   "cell_type": "code",
   "execution_count": 206,
   "metadata": {
    "ExecuteTime": {
     "end_time": "2018-08-03T16:24:49.366589Z",
     "start_time": "2018-08-03T16:24:49.331850Z"
    }
   },
   "outputs": [],
   "source": [
    "model.compile(loss='sparse_categorical_crossentropy',optimizer=Adam())"
   ]
  },
  {
   "cell_type": "code",
   "execution_count": 274,
   "metadata": {
    "ExecuteTime": {
     "end_time": "2018-08-03T23:58:17.536335Z",
     "start_time": "2018-08-03T23:58:17.530523Z"
    }
   },
   "outputs": [
    {
     "data": {
      "text/plain": [
       "[array([40,  1, 33,  2, 72, 67, 73,  2]),\n",
       " array([42,  1, 38, 44,  2,  9, 61, 73]),\n",
       " array([29, 43, 31, 71, 54,  9, 58, 61]),\n",
       " array([30, 45,  2, 74,  2, 76, 67, 58]),\n",
       " array([25, 40, 73, 73, 76, 61, 24, 71]),\n",
       " array([27, 40, 61, 61, 68, 54,  2, 58]),\n",
       " array([29, 39, 54,  2, 66, 73, 33,  2]),\n",
       " array([ 1, 43, 73, 62, 54,  2, 72, 67])]"
      ]
     },
     "execution_count": 274,
     "metadata": {},
     "output_type": "execute_result"
    }
   ],
   "source": [
    "[xs[n][:steps] for n in range(steps)]"
   ]
  },
  {
   "cell_type": "code",
   "execution_count": 276,
   "metadata": {
    "ExecuteTime": {
     "end_time": "2018-08-03T23:59:00.712920Z",
     "start_time": "2018-08-03T23:59:00.708818Z"
    }
   },
   "outputs": [
    {
     "data": {
      "text/plain": [
       "[40, 42, 29, 30, 25, 27, 29, 1, 1, 1]"
      ]
     },
     "execution_count": 276,
     "metadata": {},
     "output_type": "execute_result"
    }
   ],
   "source": [
    "idx[:10]"
   ]
  },
  {
   "cell_type": "code",
   "execution_count": 230,
   "metadata": {
    "ExecuteTime": {
     "end_time": "2018-08-03T16:39:15.976014Z",
     "start_time": "2018-08-03T16:39:15.968630Z"
    }
   },
   "outputs": [
    {
     "data": {
      "text/plain": [
       "(75109, 8)"
      ]
     },
     "execution_count": 230,
     "metadata": {},
     "output_type": "execute_result"
    }
   ],
   "source": [
    "np.concatenate(xs,axis=1).shape"
   ]
  },
  {
   "cell_type": "code",
   "execution_count": 268,
   "metadata": {
    "ExecuteTime": {
     "end_time": "2018-08-03T23:55:07.172056Z",
     "start_time": "2018-08-03T23:55:07.167455Z"
    }
   },
   "outputs": [
    {
     "data": {
      "text/plain": [
       "array([ 1, 33,  2, ..., 71, 61, 54])"
      ]
     },
     "execution_count": 268,
     "metadata": {},
     "output_type": "execute_result"
    }
   ],
   "source": [
    "y"
   ]
  },
  {
   "cell_type": "code",
   "execution_count": 213,
   "metadata": {
    "ExecuteTime": {
     "end_time": "2018-08-03T16:32:14.968703Z",
     "start_time": "2018-08-03T16:31:19.365712Z"
    },
    "hidden": true,
    "scrolled": true
   },
   "outputs": [
    {
     "name": "stdout",
     "output_type": "stream",
     "text": [
      "Epoch 1/8\n",
      "75109/75109 [==============================] - 7s 91us/step - loss: 2.7876\n",
      "Epoch 2/8\n",
      "75109/75109 [==============================] - 6s 85us/step - loss: 2.2878\n",
      "Epoch 3/8\n",
      "75109/75109 [==============================] - 7s 88us/step - loss: 2.0763\n",
      "Epoch 4/8\n",
      "75109/75109 [==============================] - 7s 91us/step - loss: 1.9423\n",
      "Epoch 5/8\n",
      "75109/75109 [==============================] - 7s 95us/step - loss: 1.8398\n",
      "Epoch 6/8\n",
      "75109/75109 [==============================] - 7s 94us/step - loss: 1.7565\n",
      "Epoch 7/8\n",
      "75109/75109 [==============================] - 7s 95us/step - loss: 1.6886\n",
      "Epoch 8/8\n",
      "75109/75109 [==============================] - 7s 95us/step - loss: 1.6319\n"
     ]
    },
    {
     "data": {
      "text/plain": [
       "<keras.callbacks.History at 0x1c301d17f0>"
      ]
     },
     "execution_count": 213,
     "metadata": {},
     "output_type": "execute_result"
    }
   ],
   "source": [
    "model.fit(np.concatenate(xs,axis=1), y, batch_size=64, epochs=8)"
   ]
  },
  {
   "cell_type": "code",
   "execution_count": 239,
   "metadata": {
    "ExecuteTime": {
     "end_time": "2018-08-03T16:41:21.818834Z",
     "start_time": "2018-08-03T16:41:21.810416Z"
    }
   },
   "outputs": [],
   "source": [
    "def get_next_keras(inputs):\n",
    "    idxs = [char_indices[c] for c in inputs]\n",
    "    print(np.array(idxs).shape)\n",
    "    arrs = np.array(idxs)[np.newaxis,:] # 增加一个维度,\n",
    "    print(arrs)\n",
    "    print(arrs.shape)\n",
    "    p = model.predict(arrs)[0]\n",
    "    print(p)\n",
    "    return chars[np.argmax(p)]"
   ]
  },
  {
   "cell_type": "code",
   "execution_count": 240,
   "metadata": {
    "ExecuteTime": {
     "end_time": "2018-08-03T16:41:22.857514Z",
     "start_time": "2018-08-03T16:41:22.850392Z"
    }
   },
   "outputs": [
    {
     "name": "stdout",
     "output_type": "stream",
     "text": [
      "(8,)\n",
      "[[73 61 62 72  2 62 72  2]]\n",
      "(1, 8)\n",
      "[2.0987e-09 8.1168e-05 1.3563e-04 3.6383e-06 1.5258e-02 1.8692e-04 6.1778e-04 1.5158e-07 1.5179e-05\n",
      " 5.6184e-05 4.1989e-06 2.8097e-09 4.5358e-06 2.4754e-06 5.3849e-08 9.1944e-09 3.3219e-08 3.4420e-09\n",
      " 2.5180e-08 5.6073e-09 5.6119e-09 1.4444e-06 1.5435e-05 1.6840e-06 1.3694e-06 8.8319e-04 7.1805e-04\n",
      " 5.9802e-04 1.5086e-04 2.2508e-03 3.4102e-04 3.0112e-03 2.1637e-04 4.6189e-03 2.4312e-04 1.2876e-04\n",
      " 2.4297e-04 1.5801e-04 1.4699e-03 1.7231e-04 4.0515e-04 2.6612e-05 2.2871e-04 1.7455e-03 1.1046e-03\n",
      " 4.2073e-05 3.1220e-05 1.3625e-03 6.2138e-09 2.8852e-05 3.8335e-05 6.0117e-04 9.2110e-07 6.1395e-05\n",
      " 1.9512e-01 1.1817e-02 2.5069e-02 3.4202e-02 3.7701e-02 1.4244e-02 2.8289e-02 2.4878e-02 4.9045e-02\n",
      " 2.8309e-03 1.5036e-03 1.0588e-02 3.9511e-02 8.0798e-02 1.0617e-01 2.2640e-02 2.7670e-03 2.4166e-02\n",
      " 6.1613e-02 1.5374e-01 1.1427e-02 3.6011e-03 2.0734e-02 4.1140e-05 2.0279e-04 3.6225e-05 6.7259e-10\n",
      " 8.8927e-10 1.0885e-09 3.0808e-09 1.2711e-09 1.1859e-09]\n"
     ]
    },
    {
     "data": {
      "text/plain": [
       "'a'"
      ]
     },
     "execution_count": 240,
     "metadata": {},
     "output_type": "execute_result"
    }
   ],
   "source": [
    "get_next_keras('this is ')"
   ]
  },
  {
   "cell_type": "code",
   "execution_count": 241,
   "metadata": {
    "ExecuteTime": {
     "end_time": "2018-08-03T16:41:29.636012Z",
     "start_time": "2018-08-03T16:41:29.628442Z"
    },
    "hidden": true
   },
   "outputs": [
    {
     "name": "stdout",
     "output_type": "stream",
     "text": [
      "(8,)\n",
      "[[73 61 62 72  2 62 72  2]]\n",
      "(1, 8)\n",
      "[2.0987e-09 8.1168e-05 1.3563e-04 3.6383e-06 1.5258e-02 1.8692e-04 6.1778e-04 1.5158e-07 1.5179e-05\n",
      " 5.6184e-05 4.1989e-06 2.8097e-09 4.5358e-06 2.4754e-06 5.3849e-08 9.1944e-09 3.3219e-08 3.4420e-09\n",
      " 2.5180e-08 5.6073e-09 5.6119e-09 1.4444e-06 1.5435e-05 1.6840e-06 1.3694e-06 8.8319e-04 7.1805e-04\n",
      " 5.9802e-04 1.5086e-04 2.2508e-03 3.4102e-04 3.0112e-03 2.1637e-04 4.6189e-03 2.4312e-04 1.2876e-04\n",
      " 2.4297e-04 1.5801e-04 1.4699e-03 1.7231e-04 4.0515e-04 2.6612e-05 2.2871e-04 1.7455e-03 1.1046e-03\n",
      " 4.2073e-05 3.1220e-05 1.3625e-03 6.2138e-09 2.8852e-05 3.8335e-05 6.0117e-04 9.2110e-07 6.1395e-05\n",
      " 1.9512e-01 1.1817e-02 2.5069e-02 3.4202e-02 3.7701e-02 1.4244e-02 2.8289e-02 2.4878e-02 4.9045e-02\n",
      " 2.8309e-03 1.5036e-03 1.0588e-02 3.9511e-02 8.0798e-02 1.0617e-01 2.2640e-02 2.7670e-03 2.4166e-02\n",
      " 6.1613e-02 1.5374e-01 1.1427e-02 3.6011e-03 2.0734e-02 4.1140e-05 2.0279e-04 3.6225e-05 6.7259e-10\n",
      " 8.8927e-10 1.0885e-09 3.0808e-09 1.2711e-09 1.1859e-09]\n"
     ]
    },
    {
     "data": {
      "text/plain": [
       "'a'"
      ]
     },
     "execution_count": 241,
     "metadata": {},
     "output_type": "execute_result"
    }
   ],
   "source": [
    "get_next_keras('this is ')"
   ]
  },
  {
   "cell_type": "code",
   "execution_count": 242,
   "metadata": {
    "ExecuteTime": {
     "end_time": "2018-08-03T16:41:33.066119Z",
     "start_time": "2018-08-03T16:41:33.059400Z"
    },
    "hidden": true
   },
   "outputs": [
    {
     "name": "stdout",
     "output_type": "stream",
     "text": [
      "(8,)\n",
      "[[69 54 71 73  2 68 59  2]]\n",
      "(1, 8)\n",
      "[8.2187e-09 5.8026e-04 9.2926e-04 3.4386e-05 3.3459e-02 1.4342e-03 2.0816e-03 1.4778e-06 1.2096e-04\n",
      " 1.9215e-04 3.6989e-05 3.9586e-08 4.7374e-06 3.3759e-06 2.6419e-07 4.1913e-08 9.0140e-08 3.8163e-08\n",
      " 8.1401e-08 1.5576e-08 2.3906e-08 1.3316e-05 8.0024e-05 3.4936e-05 7.3617e-06 2.8078e-03 6.7438e-04\n",
      " 2.7201e-03 3.2013e-03 7.1674e-03 2.4548e-03 9.5419e-03 2.7510e-03 5.2525e-03 1.9184e-03 3.7791e-03\n",
      " 8.7208e-04 5.4042e-03 4.8628e-03 7.0337e-04 1.2924e-02 6.2227e-05 5.9044e-03 5.1895e-03 3.0460e-03\n",
      " 6.3558e-04 1.6331e-04 4.9017e-04 8.4811e-08 1.8959e-04 1.3069e-04 1.0382e-03 5.4056e-06 6.1013e-04\n",
      " 9.3949e-02 1.6636e-02 3.2580e-02 3.9180e-02 2.8433e-02 2.2568e-02 2.1035e-02 4.4850e-02 3.8516e-02\n",
      " 7.9572e-03 8.6673e-03 3.1657e-02 6.1119e-02 3.3079e-02 2.9928e-02 4.4933e-02 2.5665e-03 1.8533e-02\n",
      " 6.5488e-02 1.8345e-01 1.5948e-02 6.7977e-03 2.5297e-02 3.8842e-05 3.2337e-03 4.6585e-05 1.0087e-08\n",
      " 2.9761e-09 9.2532e-09 1.4575e-08 5.7410e-09 4.4751e-09]\n"
     ]
    },
    {
     "data": {
      "text/plain": [
       "'t'"
      ]
     },
     "execution_count": 242,
     "metadata": {},
     "output_type": "execute_result"
    }
   ],
   "source": [
    "get_next_keras('part of ')"
   ]
  },
  {
   "cell_type": "code",
   "execution_count": 243,
   "metadata": {
    "ExecuteTime": {
     "end_time": "2018-08-03T16:41:35.929697Z",
     "start_time": "2018-08-03T16:41:35.921700Z"
    },
    "hidden": true
   },
   "outputs": [
    {
     "name": "stdout",
     "output_type": "stream",
     "text": [
      "(8,)\n",
      "[[70 74 58 58 67 72  2 54]]\n",
      "(1, 8)\n",
      "[3.4078e-09 6.5984e-03 7.3305e-02 8.3061e-10 1.1112e-06 5.6375e-06 9.3404e-09 1.0714e-07 1.7822e-07\n",
      " 9.2891e-08 3.1400e-05 2.2487e-07 2.7052e-06 7.0994e-07 2.8932e-07 1.0673e-07 5.2503e-07 4.6990e-08\n",
      " 1.6111e-07 9.3355e-07 5.7841e-08 1.7544e-07 2.0557e-09 1.5411e-11 5.2271e-11 6.4335e-07 1.8324e-05\n",
      " 2.5570e-06 7.9693e-07 2.8595e-07 3.5352e-06 3.2068e-05 1.6707e-08 1.1499e-06 5.2706e-11 6.0407e-09\n",
      " 1.8817e-04 4.7437e-09 7.5521e-05 7.6737e-07 2.2070e-07 5.2775e-11 5.9308e-06 6.9094e-06 2.3763e-05\n",
      " 1.4466e-06 1.2106e-06 1.9744e-05 8.9246e-07 4.4075e-14 1.2066e-09 9.0713e-07 5.7986e-10 4.5425e-13\n",
      " 5.9627e-04 1.4062e-02 4.2142e-03 8.9712e-03 2.0150e-05 5.8722e-03 3.3966e-03 8.4707e-06 8.5070e-04\n",
      " 5.8295e-05 4.5522e-05 7.1169e-02 8.6593e-03 6.1803e-01 9.2416e-05 9.4931e-03 3.1735e-05 4.0547e-02\n",
      " 9.1248e-02 2.9331e-02 4.0976e-03 3.8248e-04 8.1728e-03 6.8405e-05 2.4772e-04 9.3387e-09 1.9939e-09\n",
      " 3.7160e-11 3.2538e-09 3.5619e-09 2.2962e-09 2.1528e-09]\n"
     ]
    },
    {
     "data": {
      "text/plain": [
       "'n'"
      ]
     },
     "execution_count": 243,
     "metadata": {},
     "output_type": "execute_result"
    }
   ],
   "source": [
    "get_next_keras('queens a')"
   ]
  },
  {
   "cell_type": "code",
   "execution_count": 244,
   "metadata": {
    "ExecuteTime": {
     "end_time": "2018-08-03T16:41:38.524608Z",
     "start_time": "2018-08-03T16:41:38.517666Z"
    }
   },
   "outputs": [
    {
     "name": "stdout",
     "output_type": "stream",
     "text": [
      "(8,)\n",
      "[[33  2 65 68 75 58  2 78]]\n",
      "(1, 8)\n",
      "[5.1963e-07 8.0523e-04 3.4630e-03 1.6245e-05 6.1800e-05 1.2748e-04 4.5956e-09 2.9761e-06 4.7785e-04\n",
      " 9.7734e-06 1.1785e-03 9.8601e-08 1.2063e-07 6.0159e-07 1.1917e-07 6.1271e-08 1.1036e-07 1.6412e-08\n",
      " 3.8853e-07 1.0823e-07 2.5283e-07 1.9388e-05 3.5559e-05 5.5619e-07 1.1161e-07 3.6934e-04 3.1068e-04\n",
      " 4.9740e-05 8.5291e-06 1.8986e-04 6.0927e-05 3.9267e-05 1.5052e-04 4.5257e-04 1.9705e-09 2.1305e-06\n",
      " 1.1199e-06 1.8180e-06 4.1200e-05 5.5080e-05 1.9767e-06 2.9223e-09 4.8283e-05 4.3521e-04 4.4878e-04\n",
      " 6.6762e-05 1.7186e-07 1.0171e-04 3.8496e-06 4.1315e-08 5.7986e-08 1.4364e-07 4.8128e-07 3.5090e-08\n",
      " 6.0861e-02 7.8879e-03 1.0468e-02 1.7668e-03 2.3783e-01 1.0109e-02 7.9177e-03 5.6125e-02 2.6047e-02\n",
      " 2.6273e-06 6.5020e-05 5.9567e-02 1.0553e-02 2.5278e-02 2.7744e-01 8.3595e-02 1.0651e-03 8.8575e-03\n",
      " 1.3674e-03 5.4139e-02 1.4499e-02 3.8978e-03 1.7441e-02 1.1736e-03 1.3007e-02 3.9263e-07 6.6788e-07\n",
      " 6.9607e-07 6.7733e-07 5.2088e-07 5.2049e-07 5.8114e-07]\n"
     ]
    },
    {
     "data": {
      "text/plain": [
       "'o'"
      ]
     },
     "execution_count": 244,
     "metadata": {},
     "output_type": "execute_result"
    }
   ],
   "source": [
    "get_next_keras('I love y')"
   ]
  },
  {
   "cell_type": "markdown",
   "metadata": {},
   "source": [
    "## Returning sequences"
   ]
  },
  {
   "cell_type": "markdown",
   "metadata": {
    "heading_collapsed": true
   },
   "source": [
    "### Create inputs"
   ]
  },
  {
   "cell_type": "markdown",
   "metadata": {
    "hidden": true
   },
   "source": [
    "To use a sequence model, we can leave our input unchanged - but we have to change our output to a sequence (of course!)\n",
    "\n",
    "Here, c_out_dat is identical to c_in_dat, but moved across 1 character."
   ]
  },
  {
   "cell_type": "code",
   "execution_count": 248,
   "metadata": {
    "ExecuteTime": {
     "end_time": "2018-08-03T16:53:23.776220Z",
     "start_time": "2018-08-03T16:53:23.708484Z"
    },
    "hidden": true
   },
   "outputs": [],
   "source": [
    "#c_in_dat = [[idx[i+n] for i in xrange(0, len(idx)-1-cs, cs)]\n",
    "#            for n in range(cs)]\n",
    "c_out_dat = [[idx[i+n] for i in range(1, len(idx)-steps, steps)]  # 为什么？\n",
    "            for n in range(steps)]"
   ]
  },
  {
   "cell_type": "code",
   "execution_count": 250,
   "metadata": {
    "ExecuteTime": {
     "end_time": "2018-08-03T16:53:42.906087Z",
     "start_time": "2018-08-03T16:53:42.902480Z"
    }
   },
   "outputs": [
    {
     "data": {
      "text/plain": [
       "8"
      ]
     },
     "execution_count": 250,
     "metadata": {},
     "output_type": "execute_result"
    }
   ],
   "source": [
    "len(c_out_dat)"
   ]
  },
  {
   "cell_type": "code",
   "execution_count": 251,
   "metadata": {
    "ExecuteTime": {
     "end_time": "2018-08-03T16:53:50.619483Z",
     "start_time": "2018-08-03T16:53:49.553921Z"
    },
    "hidden": true
   },
   "outputs": [],
   "source": [
    "ys = [np.stack(c[:-2]) for c in c_out_dat]"
   ]
  },
  {
   "cell_type": "markdown",
   "metadata": {
    "hidden": true
   },
   "source": [
    "Reading down each column shows one set of inputs and outputs."
   ]
  },
  {
   "cell_type": "code",
   "execution_count": null,
   "metadata": {},
   "outputs": [],
   "source": []
  },
  {
   "cell_type": "code",
   "execution_count": 253,
   "metadata": {
    "ExecuteTime": {
     "end_time": "2018-08-03T16:54:20.174985Z",
     "start_time": "2018-08-03T16:54:20.171005Z"
    },
    "collapsed": true,
    "hidden": true
   },
   "outputs": [
    {
     "name": "stdout",
     "output_type": "stream",
     "text": [
      "[array([[40],\n",
      "       [ 1],\n",
      "       [33],\n",
      "       [ 2],\n",
      "       [72],\n",
      "       [67],\n",
      "       [73],\n",
      "       [ 2]]), array([[42],\n",
      "       [ 1],\n",
      "       [38],\n",
      "       [44],\n",
      "       [ 2],\n",
      "       [ 9],\n",
      "       [61],\n",
      "       [73]]), array([[29],\n",
      "       [43],\n",
      "       [31],\n",
      "       [71],\n",
      "       [54],\n",
      "       [ 9],\n",
      "       [58],\n",
      "       [61]]), array([[30],\n",
      "       [45],\n",
      "       [ 2],\n",
      "       [74],\n",
      "       [ 2],\n",
      "       [76],\n",
      "       [67],\n",
      "       [58]]), array([[25],\n",
      "       [40],\n",
      "       [73],\n",
      "       [73],\n",
      "       [76],\n",
      "       [61],\n",
      "       [24],\n",
      "       [71]]), array([[27],\n",
      "       [40],\n",
      "       [61],\n",
      "       [61],\n",
      "       [68],\n",
      "       [54],\n",
      "       [ 2],\n",
      "       [58]]), array([[29],\n",
      "       [39],\n",
      "       [54],\n",
      "       [ 2],\n",
      "       [66],\n",
      "       [73],\n",
      "       [33],\n",
      "       [ 2]]), array([[ 1],\n",
      "       [43],\n",
      "       [73],\n",
      "       [62],\n",
      "       [54],\n",
      "       [ 2],\n",
      "       [72],\n",
      "       [67]])]\n"
     ]
    }
   ],
   "source": [
    "print([xs[n][:steps] for n in range(steps)])"
   ]
  },
  {
   "cell_type": "code",
   "execution_count": 254,
   "metadata": {
    "ExecuteTime": {
     "end_time": "2018-08-03T16:54:37.936169Z",
     "start_time": "2018-08-03T16:54:37.930779Z"
    },
    "hidden": true
   },
   "outputs": [
    {
     "data": {
      "text/plain": [
       "[array([42,  1, 38, 44,  2,  9, 61, 73]),\n",
       " array([29, 43, 31, 71, 54,  9, 58, 61]),\n",
       " array([30, 45,  2, 74,  2, 76, 67, 58]),\n",
       " array([25, 40, 73, 73, 76, 61, 24, 71]),\n",
       " array([27, 40, 61, 61, 68, 54,  2, 58]),\n",
       " array([29, 39, 54,  2, 66, 73, 33,  2]),\n",
       " array([ 1, 43, 73, 62, 54,  2, 72, 67]),\n",
       " array([ 1, 33,  2, 72, 67, 73,  2, 68])]"
      ]
     },
     "execution_count": 254,
     "metadata": {},
     "output_type": "execute_result"
    }
   ],
   "source": [
    "[ys[n][:steps] for n in range(steps)]"
   ]
  },
  {
   "cell_type": "markdown",
   "metadata": {
    "heading_collapsed": true
   },
   "source": [
    "### Create and train model"
   ]
  },
  {
   "cell_type": "code",
   "execution_count": 255,
   "metadata": {
    "ExecuteTime": {
     "end_time": "2018-08-03T16:55:50.859506Z",
     "start_time": "2018-08-03T16:55:50.855402Z"
    },
    "hidden": true
   },
   "outputs": [],
   "source": [
    "dense_in = Dense(n_hidden, activation='relu')\n",
    "dense_hidden = Dense(n_hidden, activation='relu', kernel_initializer='identity')\n",
    "dense_out = Dense(vocab_size, activation='softmax', name='output')"
   ]
  },
  {
   "cell_type": "markdown",
   "metadata": {
    "hidden": true
   },
   "source": [
    "We're going to pass a vector of all zeros as our starting point - here's our input layers for that:"
   ]
  },
  {
   "cell_type": "code",
   "execution_count": 256,
   "metadata": {
    "ExecuteTime": {
     "end_time": "2018-08-03T16:56:03.907590Z",
     "start_time": "2018-08-03T16:56:03.884303Z"
    },
    "hidden": true
   },
   "outputs": [],
   "source": [
    "inp1 = Input(shape=(embedding_size,), name='zeros')\n",
    "hidden = dense_in(inp1)"
   ]
  },
  {
   "cell_type": "code",
   "execution_count": 259,
   "metadata": {
    "ExecuteTime": {
     "end_time": "2018-08-03T16:56:58.878157Z",
     "start_time": "2018-08-03T16:56:58.803149Z"
    },
    "hidden": true
   },
   "outputs": [],
   "source": [
    "outs = []\n",
    "\n",
    "for i in range(n_steps):\n",
    "    c_dense = dense_in(c_ins[i][1])\n",
    "    hidden = dense_hidden(hidden)\n",
    "    hidden = keras.layers.add([c_dense, hidden])\n",
    "    # every layer now has an output\n",
    "    outs.append(dense_out(hidden))"
   ]
  },
  {
   "cell_type": "code",
   "execution_count": 260,
   "metadata": {
    "ExecuteTime": {
     "end_time": "2018-08-03T16:57:01.600011Z",
     "start_time": "2018-08-03T16:57:01.441559Z"
    },
    "hidden": true
   },
   "outputs": [],
   "source": [
    "model = Model([inp1] + [c[0] for c in c_ins], outs)\n",
    "model.compile(loss='sparse_categorical_crossentropy', optimizer=Adam())"
   ]
  },
  {
   "cell_type": "code",
   "execution_count": 262,
   "metadata": {
    "ExecuteTime": {
     "end_time": "2018-08-03T16:57:16.080565Z",
     "start_time": "2018-08-03T16:57:16.059889Z"
    },
    "hidden": true
   },
   "outputs": [
    {
     "data": {
      "text/plain": [
       "(75109, 42)"
      ]
     },
     "execution_count": 262,
     "metadata": {},
     "output_type": "execute_result"
    }
   ],
   "source": [
    "zeros = np.tile(np.zeros(embedding_size), (len(xs[0]),1))\n",
    "zeros.shape"
   ]
  },
  {
   "cell_type": "code",
   "execution_count": null,
   "metadata": {
    "ExecuteTime": {
     "end_time": "2018-08-02T08:30:34.888226Z",
     "start_time": "2018-08-02T08:30:02.588Z"
    },
    "hidden": true,
    "scrolled": true
   },
   "outputs": [],
   "source": [
    "model.fit([zeros]+xs, ys, batch_size=64, nb_epoch=12)"
   ]
  },
  {
   "cell_type": "markdown",
   "metadata": {
    "heading_collapsed": true
   },
   "source": [
    "### Test model"
   ]
  },
  {
   "cell_type": "code",
   "execution_count": null,
   "metadata": {
    "ExecuteTime": {
     "end_time": "2018-08-02T08:30:34.889259Z",
     "start_time": "2018-08-02T08:30:02.593Z"
    },
    "hidden": true
   },
   "outputs": [],
   "source": [
    "def get_nexts(inp):\n",
    "    idxs = [char_indices[c] for c in inp]\n",
    "    arrs = [np.array(i)[np.newaxis] for i in idxs]\n",
    "    p = model.predict([np.zeros(n_fac)[np.newaxis,:]] + arrs)\n",
    "    print(list(inp))\n",
    "    return [chars[np.argmax(o)] for o in p]"
   ]
  },
  {
   "cell_type": "code",
   "execution_count": null,
   "metadata": {
    "ExecuteTime": {
     "end_time": "2018-08-02T08:30:34.890239Z",
     "start_time": "2018-08-02T08:30:02.596Z"
    },
    "hidden": true
   },
   "outputs": [],
   "source": [
    "get_nexts(' this is')"
   ]
  },
  {
   "cell_type": "code",
   "execution_count": null,
   "metadata": {
    "ExecuteTime": {
     "end_time": "2018-08-02T08:30:34.891240Z",
     "start_time": "2018-08-02T08:30:02.601Z"
    },
    "hidden": true
   },
   "outputs": [],
   "source": [
    "get_nexts(' part of')"
   ]
  },
  {
   "cell_type": "markdown",
   "metadata": {
    "collapsed": true,
    "heading_collapsed": true
   },
   "source": [
    "### Sequence model with keras"
   ]
  },
  {
   "cell_type": "code",
   "execution_count": null,
   "metadata": {
    "ExecuteTime": {
     "end_time": "2018-08-02T08:30:34.892120Z",
     "start_time": "2018-08-02T08:30:02.605Z"
    },
    "hidden": true
   },
   "outputs": [],
   "source": [
    "n_hidden, n_fac, cs, vocab_size"
   ]
  },
  {
   "cell_type": "markdown",
   "metadata": {
    "hidden": true
   },
   "source": [
    "To convert our previous keras model into a sequence model, simply add the 'return_sequences=True' parameter, and add TimeDistributed() around our dense layer."
   ]
  },
  {
   "cell_type": "code",
   "execution_count": null,
   "metadata": {
    "ExecuteTime": {
     "end_time": "2018-08-02T08:30:34.893467Z",
     "start_time": "2018-08-02T08:30:02.610Z"
    },
    "hidden": true
   },
   "outputs": [],
   "source": [
    "model=Sequential([\n",
    "        Embedding(vocab_size, n_fac, input_length=cs),\n",
    "        SimpleRNN(n_hidden, return_sequences=True, activation='relu', inner_init='identity'),\n",
    "        TimeDistributed(Dense(vocab_size, activation='softmax')),\n",
    "    ])"
   ]
  },
  {
   "cell_type": "code",
   "execution_count": null,
   "metadata": {
    "ExecuteTime": {
     "end_time": "2018-08-02T08:30:34.894891Z",
     "start_time": "2018-08-02T08:30:02.614Z"
    },
    "hidden": true
   },
   "outputs": [],
   "source": [
    "model.summary()"
   ]
  },
  {
   "cell_type": "code",
   "execution_count": null,
   "metadata": {
    "ExecuteTime": {
     "end_time": "2018-08-02T08:30:34.895820Z",
     "start_time": "2018-08-02T08:30:02.618Z"
    },
    "hidden": true
   },
   "outputs": [],
   "source": [
    "model.compile(loss='sparse_categorical_crossentropy', optimizer=Adam())"
   ]
  },
  {
   "cell_type": "code",
   "execution_count": null,
   "metadata": {
    "ExecuteTime": {
     "end_time": "2018-08-02T08:30:34.897034Z",
     "start_time": "2018-08-02T08:30:02.622Z"
    },
    "hidden": true
   },
   "outputs": [],
   "source": [
    "xs[0].shape"
   ]
  },
  {
   "cell_type": "code",
   "execution_count": null,
   "metadata": {
    "ExecuteTime": {
     "end_time": "2018-08-02T08:30:34.897997Z",
     "start_time": "2018-08-02T08:30:02.626Z"
    },
    "hidden": true
   },
   "outputs": [],
   "source": [
    "x_rnn=np.stack(np.squeeze(xs), axis=1)\n",
    "y_rnn=np.atleast_3d(np.stack(ys, axis=1))"
   ]
  },
  {
   "cell_type": "code",
   "execution_count": null,
   "metadata": {
    "ExecuteTime": {
     "end_time": "2018-08-02T08:30:34.898910Z",
     "start_time": "2018-08-02T08:30:02.630Z"
    },
    "hidden": true
   },
   "outputs": [],
   "source": [
    "x_rnn.shape, y_rnn.shape"
   ]
  },
  {
   "cell_type": "code",
   "execution_count": null,
   "metadata": {
    "ExecuteTime": {
     "end_time": "2018-08-02T08:30:34.899827Z",
     "start_time": "2018-08-02T08:30:02.634Z"
    },
    "hidden": true,
    "scrolled": true
   },
   "outputs": [],
   "source": [
    "model.fit(x_rnn, y_rnn, batch_size=64, nb_epoch=8)"
   ]
  },
  {
   "cell_type": "code",
   "execution_count": null,
   "metadata": {
    "ExecuteTime": {
     "end_time": "2018-08-02T08:30:34.900846Z",
     "start_time": "2018-08-02T08:30:02.638Z"
    },
    "hidden": true
   },
   "outputs": [],
   "source": [
    "def get_nexts_keras(inp):\n",
    "    idxs = [char_indices[c] for c in inp]\n",
    "    arr = np.array(idxs)[np.newaxis,:]\n",
    "    p = model.predict(arr)[0]\n",
    "    print(list(inp))\n",
    "    return [chars[np.argmax(o)] for o in p]"
   ]
  },
  {
   "cell_type": "code",
   "execution_count": null,
   "metadata": {
    "ExecuteTime": {
     "end_time": "2018-08-02T08:30:34.902077Z",
     "start_time": "2018-08-02T08:30:02.642Z"
    },
    "hidden": true
   },
   "outputs": [],
   "source": [
    "get_nexts_keras(' this is')"
   ]
  },
  {
   "cell_type": "markdown",
   "metadata": {
    "collapsed": true,
    "heading_collapsed": true
   },
   "source": [
    "### One-hot sequence model with keras"
   ]
  },
  {
   "cell_type": "markdown",
   "metadata": {
    "hidden": true
   },
   "source": [
    "This is the keras version of the theano model that we're about to create."
   ]
  },
  {
   "cell_type": "code",
   "execution_count": null,
   "metadata": {
    "ExecuteTime": {
     "end_time": "2018-08-02T08:30:34.903493Z",
     "start_time": "2018-08-02T08:30:02.647Z"
    },
    "hidden": true
   },
   "outputs": [],
   "source": [
    "model=Sequential([\n",
    "        SimpleRNN(n_hidden, return_sequences=True, input_shape=(cs, vocab_size),\n",
    "                  activation='relu', inner_init='identity'),\n",
    "        TimeDistributed(Dense(vocab_size, activation='softmax')),\n",
    "    ])\n",
    "model.compile(loss='categorical_crossentropy', optimizer=Adam())"
   ]
  },
  {
   "cell_type": "code",
   "execution_count": null,
   "metadata": {
    "ExecuteTime": {
     "end_time": "2018-08-02T08:30:34.905163Z",
     "start_time": "2018-08-02T08:30:02.651Z"
    },
    "hidden": true
   },
   "outputs": [],
   "source": [
    "oh_ys = [to_categorical(o, vocab_size) for o in ys]\n",
    "oh_y_rnn=np.stack(oh_ys, axis=1)\n",
    "\n",
    "oh_xs = [to_categorical(o, vocab_size) for o in xs]\n",
    "oh_x_rnn=np.stack(oh_xs, axis=1)\n",
    "\n",
    "oh_x_rnn.shape, oh_y_rnn.shape"
   ]
  },
  {
   "cell_type": "code",
   "execution_count": null,
   "metadata": {
    "ExecuteTime": {
     "end_time": "2018-08-02T08:30:34.906269Z",
     "start_time": "2018-08-02T08:30:02.655Z"
    },
    "hidden": true,
    "scrolled": true
   },
   "outputs": [],
   "source": [
    "model.fit(oh_x_rnn, oh_y_rnn, batch_size=64, nb_epoch=8)"
   ]
  },
  {
   "cell_type": "code",
   "execution_count": null,
   "metadata": {
    "ExecuteTime": {
     "end_time": "2018-08-02T08:30:34.907510Z",
     "start_time": "2018-08-02T08:30:02.659Z"
    },
    "hidden": true
   },
   "outputs": [],
   "source": [
    "def get_nexts_oh(inp):\n",
    "    idxs = np.array([char_indices[c] for c in inp])\n",
    "    arr = to_categorical(idxs, vocab_size)\n",
    "    p = model.predict(arr[np.newaxis,:])[0]\n",
    "    print(list(inp))\n",
    "    return [chars[np.argmax(o)] for o in p]"
   ]
  },
  {
   "cell_type": "code",
   "execution_count": null,
   "metadata": {
    "ExecuteTime": {
     "end_time": "2018-08-02T08:30:34.908664Z",
     "start_time": "2018-08-02T08:30:02.663Z"
    },
    "hidden": true
   },
   "outputs": [],
   "source": [
    "get_nexts_oh(' this is')"
   ]
  },
  {
   "cell_type": "markdown",
   "metadata": {
    "collapsed": true,
    "heading_collapsed": true
   },
   "source": [
    "## Stateful model with keras"
   ]
  },
  {
   "cell_type": "code",
   "execution_count": null,
   "metadata": {
    "ExecuteTime": {
     "end_time": "2018-08-02T08:30:34.909805Z",
     "start_time": "2018-08-02T08:30:02.667Z"
    },
    "hidden": true
   },
   "outputs": [],
   "source": [
    "bs=64"
   ]
  },
  {
   "cell_type": "markdown",
   "metadata": {
    "hidden": true
   },
   "source": [
    "A stateful model is easy to create (just add \"stateful=True\") but harder to train. We had to add batchnorm and use LSTM to get reasonable results.\n",
    "\n",
    "When using stateful in keras, you have to also add 'batch_input_shape' to the first layer, and fix the batch size there."
   ]
  },
  {
   "cell_type": "code",
   "execution_count": null,
   "metadata": {
    "ExecuteTime": {
     "end_time": "2018-08-02T08:30:34.911545Z",
     "start_time": "2018-08-02T08:30:02.672Z"
    },
    "hidden": true
   },
   "outputs": [],
   "source": [
    "model=Sequential([\n",
    "        Embedding(vocab_size, n_fac, input_length=cs, batch_input_shape=(bs,8)),\n",
    "        BatchNormalization(),\n",
    "        LSTM(n_hidden, return_sequences=True, stateful=True),\n",
    "        TimeDistributed(Dense(vocab_size, activation='softmax')),\n",
    "    ])"
   ]
  },
  {
   "cell_type": "code",
   "execution_count": null,
   "metadata": {
    "ExecuteTime": {
     "end_time": "2018-08-02T08:30:34.912746Z",
     "start_time": "2018-08-02T08:30:02.676Z"
    },
    "hidden": true
   },
   "outputs": [],
   "source": [
    "model.compile(loss='sparse_categorical_crossentropy', optimizer=Adam())"
   ]
  },
  {
   "cell_type": "markdown",
   "metadata": {
    "hidden": true
   },
   "source": [
    "Since we're using a fixed batch shape, we have to ensure our inputs and outputs are a even multiple of the batch size."
   ]
  },
  {
   "cell_type": "code",
   "execution_count": null,
   "metadata": {
    "ExecuteTime": {
     "end_time": "2018-08-02T08:30:34.913753Z",
     "start_time": "2018-08-02T08:30:02.680Z"
    },
    "hidden": true
   },
   "outputs": [],
   "source": [
    "mx = len(x_rnn)//bs*bs"
   ]
  },
  {
   "cell_type": "code",
   "execution_count": null,
   "metadata": {
    "ExecuteTime": {
     "end_time": "2018-08-02T08:30:34.914651Z",
     "start_time": "2018-08-02T08:30:02.684Z"
    },
    "hidden": true,
    "scrolled": false
   },
   "outputs": [],
   "source": [
    "model.fit(x_rnn[:mx], y_rnn[:mx], batch_size=bs, nb_epoch=4, shuffle=False)"
   ]
  },
  {
   "cell_type": "code",
   "execution_count": null,
   "metadata": {
    "ExecuteTime": {
     "end_time": "2018-08-02T08:30:34.915713Z",
     "start_time": "2018-08-02T08:30:02.688Z"
    },
    "hidden": true
   },
   "outputs": [],
   "source": [
    "model.optimizer.lr=1e-4"
   ]
  },
  {
   "cell_type": "code",
   "execution_count": null,
   "metadata": {
    "ExecuteTime": {
     "end_time": "2018-08-02T08:30:34.916851Z",
     "start_time": "2018-08-02T08:30:02.692Z"
    },
    "hidden": true,
    "scrolled": false
   },
   "outputs": [],
   "source": [
    "model.fit(x_rnn[:mx], y_rnn[:mx], batch_size=bs, nb_epoch=4, shuffle=False)"
   ]
  },
  {
   "cell_type": "code",
   "execution_count": null,
   "metadata": {
    "ExecuteTime": {
     "end_time": "2018-08-02T08:30:34.918443Z",
     "start_time": "2018-08-02T08:30:02.696Z"
    },
    "hidden": true,
    "scrolled": true
   },
   "outputs": [],
   "source": [
    "model.fit(x_rnn[:mx], y_rnn[:mx], batch_size=bs, nb_epoch=4, shuffle=False)"
   ]
  },
  {
   "cell_type": "markdown",
   "metadata": {
    "heading_collapsed": true
   },
   "source": [
    "## Pure python RNN!"
   ]
  },
  {
   "cell_type": "markdown",
   "metadata": {
    "heading_collapsed": true,
    "hidden": true
   },
   "source": [
    "### Set up basic functions"
   ]
  },
  {
   "cell_type": "markdown",
   "metadata": {
    "hidden": true
   },
   "source": [
    "Now we're going to try to repeat the above theano RNN, using just pure python (and numpy). Which means, we have to do everything ourselves, including defining the basic functions of a neural net! Below are all of the definitions, along with tests to check that they give the same answers as theano. The functions ending in `_d` are the derivatives of each function."
   ]
  },
  {
   "cell_type": "code",
   "execution_count": null,
   "metadata": {
    "ExecuteTime": {
     "end_time": "2018-08-02T08:30:34.938929Z",
     "start_time": "2018-08-02T08:30:02.786Z"
    },
    "hidden": true
   },
   "outputs": [],
   "source": [
    "def sigmoid(x): return 1/(1+np.exp(-x))\n",
    "def sigmoid_d(x): \n",
    "    output = sigmoid(x)\n",
    "    return output*(1-output)"
   ]
  },
  {
   "cell_type": "code",
   "execution_count": null,
   "metadata": {
    "ExecuteTime": {
     "end_time": "2018-08-02T08:30:34.939988Z",
     "start_time": "2018-08-02T08:30:02.791Z"
    },
    "hidden": true
   },
   "outputs": [],
   "source": [
    "def relu(x): return np.maximum(0., x)\n",
    "def relu_d(x): return (x > 0.)*1."
   ]
  },
  {
   "cell_type": "code",
   "execution_count": null,
   "metadata": {
    "ExecuteTime": {
     "end_time": "2018-08-02T08:30:34.941758Z",
     "start_time": "2018-08-02T08:30:02.795Z"
    },
    "hidden": true
   },
   "outputs": [],
   "source": [
    "relu(np.array([3.,-3.])), relu_d(np.array([3.,-3.]))"
   ]
  },
  {
   "cell_type": "code",
   "execution_count": null,
   "metadata": {
    "ExecuteTime": {
     "end_time": "2018-08-02T08:30:34.943013Z",
     "start_time": "2018-08-02T08:30:02.801Z"
    },
    "hidden": true
   },
   "outputs": [],
   "source": [
    "def dist(a,b): return pow(a-b,2)\n",
    "def dist_d(a,b): return 2*(a-b)"
   ]
  },
  {
   "cell_type": "code",
   "execution_count": null,
   "metadata": {
    "ExecuteTime": {
     "end_time": "2018-08-02T08:30:34.944034Z",
     "start_time": "2018-08-02T08:30:02.805Z"
    },
    "hidden": true
   },
   "outputs": [],
   "source": [
    "import pdb"
   ]
  },
  {
   "cell_type": "code",
   "execution_count": null,
   "metadata": {
    "ExecuteTime": {
     "end_time": "2018-08-02T08:30:34.944965Z",
     "start_time": "2018-08-02T08:30:02.810Z"
    },
    "hidden": true
   },
   "outputs": [],
   "source": [
    "eps = 1e-7\n",
    "def x_entropy(pred, actual): \n",
    "    return -np.sum(actual * np.log(np.clip(pred, eps, 1-eps)))\n",
    "def x_entropy_d(pred, actual): return -actual/pred"
   ]
  },
  {
   "cell_type": "code",
   "execution_count": null,
   "metadata": {
    "ExecuteTime": {
     "end_time": "2018-08-02T08:30:34.945967Z",
     "start_time": "2018-08-02T08:30:02.815Z"
    },
    "hidden": true
   },
   "outputs": [],
   "source": [
    "def softmax(x): return np.exp(x)/np.exp(x).sum()"
   ]
  },
  {
   "cell_type": "code",
   "execution_count": null,
   "metadata": {
    "ExecuteTime": {
     "end_time": "2018-08-02T08:30:34.946939Z",
     "start_time": "2018-08-02T08:30:02.820Z"
    },
    "hidden": true
   },
   "outputs": [],
   "source": [
    "def softmax_d(x):\n",
    "    sm = softmax(x)\n",
    "    res = np.expand_dims(-sm,-1)*sm\n",
    "    res[np.diag_indices_from(res)] = sm*(1-sm)\n",
    "    return res"
   ]
  },
  {
   "cell_type": "code",
   "execution_count": null,
   "metadata": {
    "ExecuteTime": {
     "end_time": "2018-08-02T08:30:34.948097Z",
     "start_time": "2018-08-02T08:30:02.825Z"
    },
    "hidden": true
   },
   "outputs": [],
   "source": [
    "test_preds = np.array([0.2,0.7,0.1])\n",
    "test_actuals = np.array([0.,1.,0.])\n",
    "nnet.categorical_crossentropy(test_preds, test_actuals).eval()"
   ]
  },
  {
   "cell_type": "code",
   "execution_count": null,
   "metadata": {
    "ExecuteTime": {
     "end_time": "2018-08-02T08:30:34.949638Z",
     "start_time": "2018-08-02T08:30:02.829Z"
    },
    "hidden": true
   },
   "outputs": [],
   "source": [
    "x_entropy(test_preds, test_actuals)"
   ]
  },
  {
   "cell_type": "code",
   "execution_count": null,
   "metadata": {
    "ExecuteTime": {
     "end_time": "2018-08-02T08:30:34.950863Z",
     "start_time": "2018-08-02T08:30:02.834Z"
    },
    "hidden": true
   },
   "outputs": [],
   "source": [
    "test_inp = T.dvector()\n",
    "test_out = nnet.categorical_crossentropy(test_inp, test_actuals)\n",
    "test_grad = theano.function([test_inp], T.grad(test_out, test_inp))"
   ]
  },
  {
   "cell_type": "code",
   "execution_count": null,
   "metadata": {
    "ExecuteTime": {
     "end_time": "2018-08-02T08:30:34.951732Z",
     "start_time": "2018-08-02T08:30:02.838Z"
    },
    "hidden": true
   },
   "outputs": [],
   "source": [
    "test_grad(test_preds)"
   ]
  },
  {
   "cell_type": "code",
   "execution_count": null,
   "metadata": {
    "ExecuteTime": {
     "end_time": "2018-08-02T08:30:34.952690Z",
     "start_time": "2018-08-02T08:30:02.842Z"
    },
    "hidden": true
   },
   "outputs": [],
   "source": [
    "x_entropy_d(test_preds, test_actuals)"
   ]
  },
  {
   "cell_type": "code",
   "execution_count": null,
   "metadata": {
    "ExecuteTime": {
     "end_time": "2018-08-02T08:30:34.953788Z",
     "start_time": "2018-08-02T08:30:02.847Z"
    },
    "hidden": true
   },
   "outputs": [],
   "source": [
    "pre_pred = random(oh_x_rnn[0][0].shape)\n",
    "preds = softmax(pre_pred)\n",
    "actual = oh_x_rnn[0][0]"
   ]
  },
  {
   "cell_type": "code",
   "execution_count": null,
   "metadata": {
    "ExecuteTime": {
     "end_time": "2018-08-02T08:30:34.954712Z",
     "start_time": "2018-08-02T08:30:02.852Z"
    },
    "hidden": true
   },
   "outputs": [],
   "source": [
    "np.allclose(softmax_d(pre_pred).dot(x_entropy_d(preds,actual)), preds-actual)"
   ]
  },
  {
   "cell_type": "code",
   "execution_count": null,
   "metadata": {
    "ExecuteTime": {
     "end_time": "2018-08-02T08:30:34.955775Z",
     "start_time": "2018-08-02T08:30:02.856Z"
    },
    "hidden": true
   },
   "outputs": [],
   "source": [
    "softmax(test_preds)"
   ]
  },
  {
   "cell_type": "code",
   "execution_count": null,
   "metadata": {
    "ExecuteTime": {
     "end_time": "2018-08-02T08:30:34.956929Z",
     "start_time": "2018-08-02T08:30:02.859Z"
    },
    "hidden": true
   },
   "outputs": [],
   "source": [
    "nnet.softmax(test_preds).eval()"
   ]
  },
  {
   "cell_type": "code",
   "execution_count": null,
   "metadata": {
    "ExecuteTime": {
     "end_time": "2018-08-02T08:30:34.958284Z",
     "start_time": "2018-08-02T08:30:02.863Z"
    },
    "hidden": true
   },
   "outputs": [],
   "source": [
    "test_out = T.flatten(nnet.softmax(test_inp))"
   ]
  },
  {
   "cell_type": "code",
   "execution_count": null,
   "metadata": {
    "ExecuteTime": {
     "end_time": "2018-08-02T08:30:34.959332Z",
     "start_time": "2018-08-02T08:30:02.868Z"
    },
    "hidden": true
   },
   "outputs": [],
   "source": [
    "test_grad = theano.function([test_inp], theano.gradient.jacobian(test_out, test_inp))"
   ]
  },
  {
   "cell_type": "code",
   "execution_count": null,
   "metadata": {
    "ExecuteTime": {
     "end_time": "2018-08-02T08:30:34.960269Z",
     "start_time": "2018-08-02T08:30:02.872Z"
    },
    "hidden": true
   },
   "outputs": [],
   "source": [
    "test_grad(test_preds)"
   ]
  },
  {
   "cell_type": "code",
   "execution_count": null,
   "metadata": {
    "ExecuteTime": {
     "end_time": "2018-08-02T08:30:34.961196Z",
     "start_time": "2018-08-02T08:30:02.876Z"
    },
    "hidden": true,
    "scrolled": true
   },
   "outputs": [],
   "source": [
    "softmax_d(test_preds)"
   ]
  },
  {
   "cell_type": "code",
   "execution_count": null,
   "metadata": {
    "ExecuteTime": {
     "end_time": "2018-08-02T08:30:34.962307Z",
     "start_time": "2018-08-02T08:30:02.880Z"
    },
    "hidden": true
   },
   "outputs": [],
   "source": [
    "act=relu\n",
    "act_d = relu_d"
   ]
  },
  {
   "cell_type": "code",
   "execution_count": null,
   "metadata": {
    "ExecuteTime": {
     "end_time": "2018-08-02T08:30:34.963322Z",
     "start_time": "2018-08-02T08:30:02.884Z"
    },
    "hidden": true
   },
   "outputs": [],
   "source": [
    "loss=x_entropy\n",
    "loss_d=x_entropy_d"
   ]
  },
  {
   "cell_type": "markdown",
   "metadata": {
    "hidden": true
   },
   "source": [
    "We also have to define our own scan function. Since we're not worrying about running things in parallel, it's very simple to implement:"
   ]
  },
  {
   "cell_type": "code",
   "execution_count": null,
   "metadata": {
    "ExecuteTime": {
     "end_time": "2018-08-02T08:30:34.964468Z",
     "start_time": "2018-08-02T08:30:02.888Z"
    },
    "hidden": true
   },
   "outputs": [],
   "source": [
    "def scan(fn, start, seq):\n",
    "    res = []\n",
    "    prev = start\n",
    "    for s in seq:\n",
    "        app = fn(prev, s)\n",
    "        res.append(app)\n",
    "        prev = app\n",
    "    return res"
   ]
  },
  {
   "cell_type": "markdown",
   "metadata": {
    "hidden": true
   },
   "source": [
    "...for instance, `scan` on `+` is the cumulative sum."
   ]
  },
  {
   "cell_type": "code",
   "execution_count": null,
   "metadata": {
    "ExecuteTime": {
     "end_time": "2018-08-02T08:30:34.966232Z",
     "start_time": "2018-08-02T08:30:02.893Z"
    },
    "hidden": true
   },
   "outputs": [],
   "source": [
    "scan(lambda prev,curr: prev+curr, 0, range(5))"
   ]
  },
  {
   "cell_type": "markdown",
   "metadata": {
    "heading_collapsed": true,
    "hidden": true
   },
   "source": [
    "### Set up training"
   ]
  },
  {
   "cell_type": "markdown",
   "metadata": {
    "hidden": true
   },
   "source": [
    "Let's now build the functions to do the forward and backward passes of our RNN. First, define our data and shape."
   ]
  },
  {
   "cell_type": "code",
   "execution_count": null,
   "metadata": {
    "ExecuteTime": {
     "end_time": "2018-08-02T08:30:34.967306Z",
     "start_time": "2018-08-02T08:30:02.898Z"
    },
    "hidden": true
   },
   "outputs": [],
   "source": [
    "inp = oh_x_rnn\n",
    "outp = oh_y_rnn\n",
    "n_input = vocab_size\n",
    "n_output = vocab_size"
   ]
  },
  {
   "cell_type": "code",
   "execution_count": null,
   "metadata": {
    "ExecuteTime": {
     "end_time": "2018-08-02T08:30:34.968442Z",
     "start_time": "2018-08-02T08:30:02.902Z"
    },
    "hidden": true
   },
   "outputs": [],
   "source": [
    "inp.shape, outp.shape"
   ]
  },
  {
   "cell_type": "markdown",
   "metadata": {
    "hidden": true
   },
   "source": [
    "Here's the function to do a single forward pass of an RNN, for a single character."
   ]
  },
  {
   "cell_type": "code",
   "execution_count": null,
   "metadata": {
    "ExecuteTime": {
     "end_time": "2018-08-02T08:30:34.969442Z",
     "start_time": "2018-08-02T08:30:02.907Z"
    },
    "hidden": true
   },
   "outputs": [],
   "source": [
    "def one_char(prev, item):\n",
    "    # Previous state\n",
    "    tot_loss, pre_hidden, pre_pred, hidden, ypred = prev\n",
    "    # Current inputs and output\n",
    "    x, y = item\n",
    "    pre_hidden = np.dot(x,w_x) + np.dot(hidden,w_h)\n",
    "    hidden = act(pre_hidden)\n",
    "    pre_pred = np.dot(hidden,w_y)\n",
    "    ypred = softmax(pre_pred)\n",
    "    return (\n",
    "        # Keep track of loss so we can report it\n",
    "        tot_loss+loss(ypred, y),\n",
    "        # Used in backprop\n",
    "        pre_hidden, pre_pred, \n",
    "        # Used in next iteration\n",
    "        hidden, \n",
    "        # To provide predictions\n",
    "        ypred)"
   ]
  },
  {
   "cell_type": "markdown",
   "metadata": {
    "hidden": true
   },
   "source": [
    "We use `scan` to apply the above to a whole sequence of characters."
   ]
  },
  {
   "cell_type": "code",
   "execution_count": null,
   "metadata": {
    "ExecuteTime": {
     "end_time": "2018-08-02T08:30:34.970422Z",
     "start_time": "2018-08-02T08:30:02.912Z"
    },
    "hidden": true
   },
   "outputs": [],
   "source": [
    "def get_chars(n): return zip(inp[n], outp[n])\n",
    "def one_fwd(n): return scan(one_char, (0,0,0,np.zeros(n_hidden),0), get_chars(n))"
   ]
  },
  {
   "cell_type": "markdown",
   "metadata": {
    "hidden": true
   },
   "source": [
    "Now we can define the backward step. We use a loop to go through every element of the sequence. The derivatives are applying the chain rule to each step, and accumulating the gradients across the sequence."
   ]
  },
  {
   "cell_type": "code",
   "execution_count": null,
   "metadata": {
    "ExecuteTime": {
     "end_time": "2018-08-02T08:30:34.971313Z",
     "start_time": "2018-08-02T08:30:02.916Z"
    },
    "hidden": true
   },
   "outputs": [],
   "source": [
    "# \"Columnify\" a vector\n",
    "def col(x): return x[:,newaxis]\n",
    "\n",
    "def one_bkwd(args, n):\n",
    "    global w_x,w_y,w_h\n",
    "\n",
    "    i=inp[n]  # 8x86\n",
    "    o=outp[n] # 8x86\n",
    "    d_pre_hidden = np.zeros(n_hidden) # 256\n",
    "    for p in reversed(range(len(i))):\n",
    "        totloss, pre_hidden, pre_pred, hidden, ypred = args[p]\n",
    "        x=i[p] # 86\n",
    "        y=o[p] # 86\n",
    "        d_pre_pred = softmax_d(pre_pred).dot(loss_d(ypred,y))  # 86\n",
    "        d_pre_hidden = (np.dot(d_pre_hidden, w_h.T) \n",
    "                        + np.dot(d_pre_pred,w_y.T)) * act_d(pre_hidden) # 256\n",
    "\n",
    "        # d(loss)/d(w_y) = d(loss)/d(pre_pred) * d(pre_pred)/d(w_y)\n",
    "        w_y -= col(hidden) * d_pre_pred * alpha\n",
    "        # d(loss)/d(w_h) = d(loss)/d(pre_hidden[p-1]) * d(pre_hidden[p-1])/d(w_h)\n",
    "        if (p>0): w_h -= args[p-1][3].dot(d_pre_hidden) * alpha\n",
    "        w_x -= col(x)*d_pre_hidden * alpha\n",
    "    return d_pre_hidden"
   ]
  },
  {
   "cell_type": "markdown",
   "metadata": {
    "hidden": true
   },
   "source": [
    "Now we can set up our initial weight matrices. Note that we're not using bias at all in this example, in order to keep things simpler."
   ]
  },
  {
   "cell_type": "code",
   "execution_count": null,
   "metadata": {
    "ExecuteTime": {
     "end_time": "2018-08-02T08:30:34.972483Z",
     "start_time": "2018-08-02T08:30:02.921Z"
    },
    "hidden": true
   },
   "outputs": [],
   "source": [
    "scale=math.sqrt(2./n_input)\n",
    "w_x = normal(scale=scale, size=(n_input,n_hidden))\n",
    "w_y = normal(scale=scale, size=(n_hidden, n_output))\n",
    "w_h = np.eye(n_hidden, dtype=np.float32)"
   ]
  },
  {
   "cell_type": "markdown",
   "metadata": {
    "hidden": true
   },
   "source": [
    "Our loop looks much like the theano loop in the previous section, except that we have to call the backwards step ourselves."
   ]
  },
  {
   "cell_type": "code",
   "execution_count": null,
   "metadata": {
    "ExecuteTime": {
     "end_time": "2018-08-02T08:30:34.973729Z",
     "start_time": "2018-08-02T08:30:02.925Z"
    },
    "hidden": true,
    "scrolled": true
   },
   "outputs": [],
   "source": [
    "overallError=0\n",
    "alpha=0.0001\n",
    "for n in range(10000):\n",
    "    res = one_fwd(n)\n",
    "    overallError+=res[-1][0]\n",
    "    deriv = one_bkwd(res, n)\n",
    "    if(n % 1000 == 999):\n",
    "        print (\"Error:{:.4f}; Gradient:{:.5f}\".format(\n",
    "                overallError/1000, np.linalg.norm(deriv)))\n",
    "        overallError=0"
   ]
  },
  {
   "cell_type": "markdown",
   "metadata": {
    "collapsed": true,
    "heading_collapsed": true
   },
   "source": [
    "## Keras GRU"
   ]
  },
  {
   "cell_type": "markdown",
   "metadata": {
    "hidden": true
   },
   "source": [
    "Identical to the last keras rnn, but a GRU!"
   ]
  },
  {
   "cell_type": "code",
   "execution_count": null,
   "metadata": {
    "ExecuteTime": {
     "end_time": "2018-08-02T08:30:34.974740Z",
     "start_time": "2018-08-02T08:30:02.931Z"
    },
    "hidden": true
   },
   "outputs": [],
   "source": [
    "model=Sequential([\n",
    "        GRU(n_hidden, return_sequences=True, input_shape=(cs, vocab_size),\n",
    "                  activation='relu', inner_init='identity'),\n",
    "        TimeDistributed(Dense(vocab_size, activation='softmax')),\n",
    "    ])\n",
    "model.compile(loss='categorical_crossentropy', optimizer=Adam())"
   ]
  },
  {
   "cell_type": "code",
   "execution_count": null,
   "metadata": {
    "ExecuteTime": {
     "end_time": "2018-08-02T08:30:34.975830Z",
     "start_time": "2018-08-02T08:30:02.934Z"
    },
    "hidden": true,
    "scrolled": true
   },
   "outputs": [],
   "source": [
    "model.fit(oh_x_rnn, oh_y_rnn, batch_size=64, nb_epoch=8)"
   ]
  },
  {
   "cell_type": "code",
   "execution_count": null,
   "metadata": {
    "ExecuteTime": {
     "end_time": "2018-08-02T08:30:34.976766Z",
     "start_time": "2018-08-02T08:30:02.938Z"
    },
    "hidden": true
   },
   "outputs": [],
   "source": [
    "get_nexts_oh(' this is')"
   ]
  },
  {
   "cell_type": "markdown",
   "metadata": {},
   "source": [
    "### End"
   ]
  }
 ],
 "metadata": {
  "kernelspec": {
   "display_name": "Python 3",
   "language": "python",
   "name": "python3"
  },
  "language_info": {
   "codemirror_mode": {
    "name": "ipython",
    "version": 3
   },
   "file_extension": ".py",
   "mimetype": "text/x-python",
   "name": "python",
   "nbconvert_exporter": "python",
   "pygments_lexer": "ipython3",
   "version": "3.6.4"
  },
  "nav_menu": {},
  "toc": {
   "nav_menu": {},
   "number_sections": true,
   "sideBar": true,
   "skip_h1_title": false,
   "toc_cell": true,
   "toc_position": {
    "height": "646px",
    "left": "0px",
    "right": "1324px",
    "top": "111px",
    "width": "212px"
   },
   "toc_section_display": "block",
   "toc_window_display": true
  }
 },
 "nbformat": 4,
 "nbformat_minor": 1
}
